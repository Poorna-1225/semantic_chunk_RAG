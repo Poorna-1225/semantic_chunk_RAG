{
  "nbformat": 4,
  "nbformat_minor": 0,
  "metadata": {
    "colab": {
      "provenance": [],
      "gpuType": "T4"
    },
    "kernelspec": {
      "name": "python3",
      "display_name": "Python 3"
    },
    "language_info": {
      "name": "python"
    },
    "accelerator": "GPU",
    "widgets": {
      "application/vnd.jupyter.widget-state+json": {
        "dae13c59c16d4bc2b996ae2f21506a33": {
          "model_module": "@jupyter-widgets/controls",
          "model_name": "HBoxModel",
          "model_module_version": "1.5.0",
          "state": {
            "_dom_classes": [],
            "_model_module": "@jupyter-widgets/controls",
            "_model_module_version": "1.5.0",
            "_model_name": "HBoxModel",
            "_view_count": null,
            "_view_module": "@jupyter-widgets/controls",
            "_view_module_version": "1.5.0",
            "_view_name": "HBoxView",
            "box_style": "",
            "children": [
              "IPY_MODEL_367a7ebbcbc943e18cdee9c106b376d5",
              "IPY_MODEL_15f1704dda604c79aebb585b2ce0557e",
              "IPY_MODEL_e0bca77b5b3e42b2bece9b9f9063ef95"
            ],
            "layout": "IPY_MODEL_1505a75a25c44d69a402bde97838c699"
          }
        },
        "367a7ebbcbc943e18cdee9c106b376d5": {
          "model_module": "@jupyter-widgets/controls",
          "model_name": "HTMLModel",
          "model_module_version": "1.5.0",
          "state": {
            "_dom_classes": [],
            "_model_module": "@jupyter-widgets/controls",
            "_model_module_version": "1.5.0",
            "_model_name": "HTMLModel",
            "_view_count": null,
            "_view_module": "@jupyter-widgets/controls",
            "_view_module_version": "1.5.0",
            "_view_name": "HTMLView",
            "description": "",
            "description_tooltip": null,
            "layout": "IPY_MODEL_7853354f521443eaaaf0bf972d64dee4",
            "placeholder": "​",
            "style": "IPY_MODEL_52640c47c73943628f96d8e05fb514b7",
            "value": "Evaluating: 100%"
          }
        },
        "15f1704dda604c79aebb585b2ce0557e": {
          "model_module": "@jupyter-widgets/controls",
          "model_name": "FloatProgressModel",
          "model_module_version": "1.5.0",
          "state": {
            "_dom_classes": [],
            "_model_module": "@jupyter-widgets/controls",
            "_model_module_version": "1.5.0",
            "_model_name": "FloatProgressModel",
            "_view_count": null,
            "_view_module": "@jupyter-widgets/controls",
            "_view_module_version": "1.5.0",
            "_view_name": "ProgressView",
            "bar_style": "success",
            "description": "",
            "description_tooltip": null,
            "layout": "IPY_MODEL_13f3873f4cf74a7c804281adfcb78017",
            "max": 40,
            "min": 0,
            "orientation": "horizontal",
            "style": "IPY_MODEL_95eeb269141543d3b995cab171eef165",
            "value": 40
          }
        },
        "e0bca77b5b3e42b2bece9b9f9063ef95": {
          "model_module": "@jupyter-widgets/controls",
          "model_name": "HTMLModel",
          "model_module_version": "1.5.0",
          "state": {
            "_dom_classes": [],
            "_model_module": "@jupyter-widgets/controls",
            "_model_module_version": "1.5.0",
            "_model_name": "HTMLModel",
            "_view_count": null,
            "_view_module": "@jupyter-widgets/controls",
            "_view_module_version": "1.5.0",
            "_view_name": "HTMLView",
            "description": "",
            "description_tooltip": null,
            "layout": "IPY_MODEL_0f31b682cf0644b0aadda49b4a63731f",
            "placeholder": "​",
            "style": "IPY_MODEL_553b624b9ff34e7d8a9a48b46f65c420",
            "value": " 40/40 [00:14&lt;00:00,  1.16it/s]"
          }
        },
        "1505a75a25c44d69a402bde97838c699": {
          "model_module": "@jupyter-widgets/base",
          "model_name": "LayoutModel",
          "model_module_version": "1.2.0",
          "state": {
            "_model_module": "@jupyter-widgets/base",
            "_model_module_version": "1.2.0",
            "_model_name": "LayoutModel",
            "_view_count": null,
            "_view_module": "@jupyter-widgets/base",
            "_view_module_version": "1.2.0",
            "_view_name": "LayoutView",
            "align_content": null,
            "align_items": null,
            "align_self": null,
            "border": null,
            "bottom": null,
            "display": null,
            "flex": null,
            "flex_flow": null,
            "grid_area": null,
            "grid_auto_columns": null,
            "grid_auto_flow": null,
            "grid_auto_rows": null,
            "grid_column": null,
            "grid_gap": null,
            "grid_row": null,
            "grid_template_areas": null,
            "grid_template_columns": null,
            "grid_template_rows": null,
            "height": null,
            "justify_content": null,
            "justify_items": null,
            "left": null,
            "margin": null,
            "max_height": null,
            "max_width": null,
            "min_height": null,
            "min_width": null,
            "object_fit": null,
            "object_position": null,
            "order": null,
            "overflow": null,
            "overflow_x": null,
            "overflow_y": null,
            "padding": null,
            "right": null,
            "top": null,
            "visibility": null,
            "width": null
          }
        },
        "7853354f521443eaaaf0bf972d64dee4": {
          "model_module": "@jupyter-widgets/base",
          "model_name": "LayoutModel",
          "model_module_version": "1.2.0",
          "state": {
            "_model_module": "@jupyter-widgets/base",
            "_model_module_version": "1.2.0",
            "_model_name": "LayoutModel",
            "_view_count": null,
            "_view_module": "@jupyter-widgets/base",
            "_view_module_version": "1.2.0",
            "_view_name": "LayoutView",
            "align_content": null,
            "align_items": null,
            "align_self": null,
            "border": null,
            "bottom": null,
            "display": null,
            "flex": null,
            "flex_flow": null,
            "grid_area": null,
            "grid_auto_columns": null,
            "grid_auto_flow": null,
            "grid_auto_rows": null,
            "grid_column": null,
            "grid_gap": null,
            "grid_row": null,
            "grid_template_areas": null,
            "grid_template_columns": null,
            "grid_template_rows": null,
            "height": null,
            "justify_content": null,
            "justify_items": null,
            "left": null,
            "margin": null,
            "max_height": null,
            "max_width": null,
            "min_height": null,
            "min_width": null,
            "object_fit": null,
            "object_position": null,
            "order": null,
            "overflow": null,
            "overflow_x": null,
            "overflow_y": null,
            "padding": null,
            "right": null,
            "top": null,
            "visibility": null,
            "width": null
          }
        },
        "52640c47c73943628f96d8e05fb514b7": {
          "model_module": "@jupyter-widgets/controls",
          "model_name": "DescriptionStyleModel",
          "model_module_version": "1.5.0",
          "state": {
            "_model_module": "@jupyter-widgets/controls",
            "_model_module_version": "1.5.0",
            "_model_name": "DescriptionStyleModel",
            "_view_count": null,
            "_view_module": "@jupyter-widgets/base",
            "_view_module_version": "1.2.0",
            "_view_name": "StyleView",
            "description_width": ""
          }
        },
        "13f3873f4cf74a7c804281adfcb78017": {
          "model_module": "@jupyter-widgets/base",
          "model_name": "LayoutModel",
          "model_module_version": "1.2.0",
          "state": {
            "_model_module": "@jupyter-widgets/base",
            "_model_module_version": "1.2.0",
            "_model_name": "LayoutModel",
            "_view_count": null,
            "_view_module": "@jupyter-widgets/base",
            "_view_module_version": "1.2.0",
            "_view_name": "LayoutView",
            "align_content": null,
            "align_items": null,
            "align_self": null,
            "border": null,
            "bottom": null,
            "display": null,
            "flex": null,
            "flex_flow": null,
            "grid_area": null,
            "grid_auto_columns": null,
            "grid_auto_flow": null,
            "grid_auto_rows": null,
            "grid_column": null,
            "grid_gap": null,
            "grid_row": null,
            "grid_template_areas": null,
            "grid_template_columns": null,
            "grid_template_rows": null,
            "height": null,
            "justify_content": null,
            "justify_items": null,
            "left": null,
            "margin": null,
            "max_height": null,
            "max_width": null,
            "min_height": null,
            "min_width": null,
            "object_fit": null,
            "object_position": null,
            "order": null,
            "overflow": null,
            "overflow_x": null,
            "overflow_y": null,
            "padding": null,
            "right": null,
            "top": null,
            "visibility": null,
            "width": null
          }
        },
        "95eeb269141543d3b995cab171eef165": {
          "model_module": "@jupyter-widgets/controls",
          "model_name": "ProgressStyleModel",
          "model_module_version": "1.5.0",
          "state": {
            "_model_module": "@jupyter-widgets/controls",
            "_model_module_version": "1.5.0",
            "_model_name": "ProgressStyleModel",
            "_view_count": null,
            "_view_module": "@jupyter-widgets/base",
            "_view_module_version": "1.2.0",
            "_view_name": "StyleView",
            "bar_color": null,
            "description_width": ""
          }
        },
        "0f31b682cf0644b0aadda49b4a63731f": {
          "model_module": "@jupyter-widgets/base",
          "model_name": "LayoutModel",
          "model_module_version": "1.2.0",
          "state": {
            "_model_module": "@jupyter-widgets/base",
            "_model_module_version": "1.2.0",
            "_model_name": "LayoutModel",
            "_view_count": null,
            "_view_module": "@jupyter-widgets/base",
            "_view_module_version": "1.2.0",
            "_view_name": "LayoutView",
            "align_content": null,
            "align_items": null,
            "align_self": null,
            "border": null,
            "bottom": null,
            "display": null,
            "flex": null,
            "flex_flow": null,
            "grid_area": null,
            "grid_auto_columns": null,
            "grid_auto_flow": null,
            "grid_auto_rows": null,
            "grid_column": null,
            "grid_gap": null,
            "grid_row": null,
            "grid_template_areas": null,
            "grid_template_columns": null,
            "grid_template_rows": null,
            "height": null,
            "justify_content": null,
            "justify_items": null,
            "left": null,
            "margin": null,
            "max_height": null,
            "max_width": null,
            "min_height": null,
            "min_width": null,
            "object_fit": null,
            "object_position": null,
            "order": null,
            "overflow": null,
            "overflow_x": null,
            "overflow_y": null,
            "padding": null,
            "right": null,
            "top": null,
            "visibility": null,
            "width": null
          }
        },
        "553b624b9ff34e7d8a9a48b46f65c420": {
          "model_module": "@jupyter-widgets/controls",
          "model_name": "DescriptionStyleModel",
          "model_module_version": "1.5.0",
          "state": {
            "_model_module": "@jupyter-widgets/controls",
            "_model_module_version": "1.5.0",
            "_model_name": "DescriptionStyleModel",
            "_view_count": null,
            "_view_module": "@jupyter-widgets/base",
            "_view_module_version": "1.2.0",
            "_view_name": "StyleView",
            "description_width": ""
          }
        },
        "67be1013170346d9846832f4c58730b7": {
          "model_module": "@jupyter-widgets/controls",
          "model_name": "HBoxModel",
          "model_module_version": "1.5.0",
          "state": {
            "_dom_classes": [],
            "_model_module": "@jupyter-widgets/controls",
            "_model_module_version": "1.5.0",
            "_model_name": "HBoxModel",
            "_view_count": null,
            "_view_module": "@jupyter-widgets/controls",
            "_view_module_version": "1.5.0",
            "_view_name": "HBoxView",
            "box_style": "",
            "children": [
              "IPY_MODEL_e41bc39271284d1aa1846f95e603436e",
              "IPY_MODEL_af2a28859d294b1b8a67d2c08e47ad4f",
              "IPY_MODEL_36ed7fac5d424901b679de58d31a56a8"
            ],
            "layout": "IPY_MODEL_a9e04f4122fe4f34baa09e6882fec675"
          }
        },
        "e41bc39271284d1aa1846f95e603436e": {
          "model_module": "@jupyter-widgets/controls",
          "model_name": "HTMLModel",
          "model_module_version": "1.5.0",
          "state": {
            "_dom_classes": [],
            "_model_module": "@jupyter-widgets/controls",
            "_model_module_version": "1.5.0",
            "_model_name": "HTMLModel",
            "_view_count": null,
            "_view_module": "@jupyter-widgets/controls",
            "_view_module_version": "1.5.0",
            "_view_name": "HTMLView",
            "description": "",
            "description_tooltip": null,
            "layout": "IPY_MODEL_419fda50bc6947129d0ce5384dcee912",
            "placeholder": "​",
            "style": "IPY_MODEL_228383ac71f84ae186a95ec6e49256e4",
            "value": "Evaluating: 100%"
          }
        },
        "af2a28859d294b1b8a67d2c08e47ad4f": {
          "model_module": "@jupyter-widgets/controls",
          "model_name": "FloatProgressModel",
          "model_module_version": "1.5.0",
          "state": {
            "_dom_classes": [],
            "_model_module": "@jupyter-widgets/controls",
            "_model_module_version": "1.5.0",
            "_model_name": "FloatProgressModel",
            "_view_count": null,
            "_view_module": "@jupyter-widgets/controls",
            "_view_module_version": "1.5.0",
            "_view_name": "ProgressView",
            "bar_style": "success",
            "description": "",
            "description_tooltip": null,
            "layout": "IPY_MODEL_11e4080c01bf439691d0b2a55e882c82",
            "max": 40,
            "min": 0,
            "orientation": "horizontal",
            "style": "IPY_MODEL_33ca4c48411849cabe5ca92741df7a73",
            "value": 40
          }
        },
        "36ed7fac5d424901b679de58d31a56a8": {
          "model_module": "@jupyter-widgets/controls",
          "model_name": "HTMLModel",
          "model_module_version": "1.5.0",
          "state": {
            "_dom_classes": [],
            "_model_module": "@jupyter-widgets/controls",
            "_model_module_version": "1.5.0",
            "_model_name": "HTMLModel",
            "_view_count": null,
            "_view_module": "@jupyter-widgets/controls",
            "_view_module_version": "1.5.0",
            "_view_name": "HTMLView",
            "description": "",
            "description_tooltip": null,
            "layout": "IPY_MODEL_644ce1752e694a87ba873a77045998e6",
            "placeholder": "​",
            "style": "IPY_MODEL_873dee30b83e4afcb7a86525f75dc591",
            "value": " 40/40 [00:17&lt;00:00,  2.35it/s]"
          }
        },
        "a9e04f4122fe4f34baa09e6882fec675": {
          "model_module": "@jupyter-widgets/base",
          "model_name": "LayoutModel",
          "model_module_version": "1.2.0",
          "state": {
            "_model_module": "@jupyter-widgets/base",
            "_model_module_version": "1.2.0",
            "_model_name": "LayoutModel",
            "_view_count": null,
            "_view_module": "@jupyter-widgets/base",
            "_view_module_version": "1.2.0",
            "_view_name": "LayoutView",
            "align_content": null,
            "align_items": null,
            "align_self": null,
            "border": null,
            "bottom": null,
            "display": null,
            "flex": null,
            "flex_flow": null,
            "grid_area": null,
            "grid_auto_columns": null,
            "grid_auto_flow": null,
            "grid_auto_rows": null,
            "grid_column": null,
            "grid_gap": null,
            "grid_row": null,
            "grid_template_areas": null,
            "grid_template_columns": null,
            "grid_template_rows": null,
            "height": null,
            "justify_content": null,
            "justify_items": null,
            "left": null,
            "margin": null,
            "max_height": null,
            "max_width": null,
            "min_height": null,
            "min_width": null,
            "object_fit": null,
            "object_position": null,
            "order": null,
            "overflow": null,
            "overflow_x": null,
            "overflow_y": null,
            "padding": null,
            "right": null,
            "top": null,
            "visibility": null,
            "width": null
          }
        },
        "419fda50bc6947129d0ce5384dcee912": {
          "model_module": "@jupyter-widgets/base",
          "model_name": "LayoutModel",
          "model_module_version": "1.2.0",
          "state": {
            "_model_module": "@jupyter-widgets/base",
            "_model_module_version": "1.2.0",
            "_model_name": "LayoutModel",
            "_view_count": null,
            "_view_module": "@jupyter-widgets/base",
            "_view_module_version": "1.2.0",
            "_view_name": "LayoutView",
            "align_content": null,
            "align_items": null,
            "align_self": null,
            "border": null,
            "bottom": null,
            "display": null,
            "flex": null,
            "flex_flow": null,
            "grid_area": null,
            "grid_auto_columns": null,
            "grid_auto_flow": null,
            "grid_auto_rows": null,
            "grid_column": null,
            "grid_gap": null,
            "grid_row": null,
            "grid_template_areas": null,
            "grid_template_columns": null,
            "grid_template_rows": null,
            "height": null,
            "justify_content": null,
            "justify_items": null,
            "left": null,
            "margin": null,
            "max_height": null,
            "max_width": null,
            "min_height": null,
            "min_width": null,
            "object_fit": null,
            "object_position": null,
            "order": null,
            "overflow": null,
            "overflow_x": null,
            "overflow_y": null,
            "padding": null,
            "right": null,
            "top": null,
            "visibility": null,
            "width": null
          }
        },
        "228383ac71f84ae186a95ec6e49256e4": {
          "model_module": "@jupyter-widgets/controls",
          "model_name": "DescriptionStyleModel",
          "model_module_version": "1.5.0",
          "state": {
            "_model_module": "@jupyter-widgets/controls",
            "_model_module_version": "1.5.0",
            "_model_name": "DescriptionStyleModel",
            "_view_count": null,
            "_view_module": "@jupyter-widgets/base",
            "_view_module_version": "1.2.0",
            "_view_name": "StyleView",
            "description_width": ""
          }
        },
        "11e4080c01bf439691d0b2a55e882c82": {
          "model_module": "@jupyter-widgets/base",
          "model_name": "LayoutModel",
          "model_module_version": "1.2.0",
          "state": {
            "_model_module": "@jupyter-widgets/base",
            "_model_module_version": "1.2.0",
            "_model_name": "LayoutModel",
            "_view_count": null,
            "_view_module": "@jupyter-widgets/base",
            "_view_module_version": "1.2.0",
            "_view_name": "LayoutView",
            "align_content": null,
            "align_items": null,
            "align_self": null,
            "border": null,
            "bottom": null,
            "display": null,
            "flex": null,
            "flex_flow": null,
            "grid_area": null,
            "grid_auto_columns": null,
            "grid_auto_flow": null,
            "grid_auto_rows": null,
            "grid_column": null,
            "grid_gap": null,
            "grid_row": null,
            "grid_template_areas": null,
            "grid_template_columns": null,
            "grid_template_rows": null,
            "height": null,
            "justify_content": null,
            "justify_items": null,
            "left": null,
            "margin": null,
            "max_height": null,
            "max_width": null,
            "min_height": null,
            "min_width": null,
            "object_fit": null,
            "object_position": null,
            "order": null,
            "overflow": null,
            "overflow_x": null,
            "overflow_y": null,
            "padding": null,
            "right": null,
            "top": null,
            "visibility": null,
            "width": null
          }
        },
        "33ca4c48411849cabe5ca92741df7a73": {
          "model_module": "@jupyter-widgets/controls",
          "model_name": "ProgressStyleModel",
          "model_module_version": "1.5.0",
          "state": {
            "_model_module": "@jupyter-widgets/controls",
            "_model_module_version": "1.5.0",
            "_model_name": "ProgressStyleModel",
            "_view_count": null,
            "_view_module": "@jupyter-widgets/base",
            "_view_module_version": "1.2.0",
            "_view_name": "StyleView",
            "bar_color": null,
            "description_width": ""
          }
        },
        "644ce1752e694a87ba873a77045998e6": {
          "model_module": "@jupyter-widgets/base",
          "model_name": "LayoutModel",
          "model_module_version": "1.2.0",
          "state": {
            "_model_module": "@jupyter-widgets/base",
            "_model_module_version": "1.2.0",
            "_model_name": "LayoutModel",
            "_view_count": null,
            "_view_module": "@jupyter-widgets/base",
            "_view_module_version": "1.2.0",
            "_view_name": "LayoutView",
            "align_content": null,
            "align_items": null,
            "align_self": null,
            "border": null,
            "bottom": null,
            "display": null,
            "flex": null,
            "flex_flow": null,
            "grid_area": null,
            "grid_auto_columns": null,
            "grid_auto_flow": null,
            "grid_auto_rows": null,
            "grid_column": null,
            "grid_gap": null,
            "grid_row": null,
            "grid_template_areas": null,
            "grid_template_columns": null,
            "grid_template_rows": null,
            "height": null,
            "justify_content": null,
            "justify_items": null,
            "left": null,
            "margin": null,
            "max_height": null,
            "max_width": null,
            "min_height": null,
            "min_width": null,
            "object_fit": null,
            "object_position": null,
            "order": null,
            "overflow": null,
            "overflow_x": null,
            "overflow_y": null,
            "padding": null,
            "right": null,
            "top": null,
            "visibility": null,
            "width": null
          }
        },
        "873dee30b83e4afcb7a86525f75dc591": {
          "model_module": "@jupyter-widgets/controls",
          "model_name": "DescriptionStyleModel",
          "model_module_version": "1.5.0",
          "state": {
            "_model_module": "@jupyter-widgets/controls",
            "_model_module_version": "1.5.0",
            "_model_name": "DescriptionStyleModel",
            "_view_count": null,
            "_view_module": "@jupyter-widgets/base",
            "_view_module_version": "1.2.0",
            "_view_name": "StyleView",
            "description_width": ""
          }
        },
        "1365d7adf9df484381e719c1f65009a1": {
          "model_module": "@jupyter-widgets/controls",
          "model_name": "HBoxModel",
          "model_module_version": "1.5.0",
          "state": {
            "_dom_classes": [],
            "_model_module": "@jupyter-widgets/controls",
            "_model_module_version": "1.5.0",
            "_model_name": "HBoxModel",
            "_view_count": null,
            "_view_module": "@jupyter-widgets/controls",
            "_view_module_version": "1.5.0",
            "_view_name": "HBoxView",
            "box_style": "",
            "children": [
              "IPY_MODEL_1a691ff4be824724a4e9f7f90facb1e8",
              "IPY_MODEL_c096a38fa7194154b0889f659ffa7333",
              "IPY_MODEL_004b753823df40d5a4579bf79c656357"
            ],
            "layout": "IPY_MODEL_2463f5622e8c4d3fbb138cdbb74b26a1"
          }
        },
        "1a691ff4be824724a4e9f7f90facb1e8": {
          "model_module": "@jupyter-widgets/controls",
          "model_name": "HTMLModel",
          "model_module_version": "1.5.0",
          "state": {
            "_dom_classes": [],
            "_model_module": "@jupyter-widgets/controls",
            "_model_module_version": "1.5.0",
            "_model_name": "HTMLModel",
            "_view_count": null,
            "_view_module": "@jupyter-widgets/controls",
            "_view_module_version": "1.5.0",
            "_view_name": "HTMLView",
            "description": "",
            "description_tooltip": null,
            "layout": "IPY_MODEL_f581698d1572444eaee4c420baaf902f",
            "placeholder": "​",
            "style": "IPY_MODEL_6194c221d78048c2bfd7b354e2e12475",
            "value": "Evaluating: 100%"
          }
        },
        "c096a38fa7194154b0889f659ffa7333": {
          "model_module": "@jupyter-widgets/controls",
          "model_name": "FloatProgressModel",
          "model_module_version": "1.5.0",
          "state": {
            "_dom_classes": [],
            "_model_module": "@jupyter-widgets/controls",
            "_model_module_version": "1.5.0",
            "_model_name": "FloatProgressModel",
            "_view_count": null,
            "_view_module": "@jupyter-widgets/controls",
            "_view_module_version": "1.5.0",
            "_view_name": "ProgressView",
            "bar_style": "success",
            "description": "",
            "description_tooltip": null,
            "layout": "IPY_MODEL_f173dbdb6e8a4b468a44e9163fc45b94",
            "max": 40,
            "min": 0,
            "orientation": "horizontal",
            "style": "IPY_MODEL_85dbea08038a4f21b48cf0b6558a18f9",
            "value": 40
          }
        },
        "004b753823df40d5a4579bf79c656357": {
          "model_module": "@jupyter-widgets/controls",
          "model_name": "HTMLModel",
          "model_module_version": "1.5.0",
          "state": {
            "_dom_classes": [],
            "_model_module": "@jupyter-widgets/controls",
            "_model_module_version": "1.5.0",
            "_model_name": "HTMLModel",
            "_view_count": null,
            "_view_module": "@jupyter-widgets/controls",
            "_view_module_version": "1.5.0",
            "_view_name": "HTMLView",
            "description": "",
            "description_tooltip": null,
            "layout": "IPY_MODEL_438d0a09e0f8443a9ae92adebd73f8ff",
            "placeholder": "​",
            "style": "IPY_MODEL_3f287cf4d7c6471588a53d02d813d67f",
            "value": " 40/40 [00:13&lt;00:00,  1.21it/s]"
          }
        },
        "2463f5622e8c4d3fbb138cdbb74b26a1": {
          "model_module": "@jupyter-widgets/base",
          "model_name": "LayoutModel",
          "model_module_version": "1.2.0",
          "state": {
            "_model_module": "@jupyter-widgets/base",
            "_model_module_version": "1.2.0",
            "_model_name": "LayoutModel",
            "_view_count": null,
            "_view_module": "@jupyter-widgets/base",
            "_view_module_version": "1.2.0",
            "_view_name": "LayoutView",
            "align_content": null,
            "align_items": null,
            "align_self": null,
            "border": null,
            "bottom": null,
            "display": null,
            "flex": null,
            "flex_flow": null,
            "grid_area": null,
            "grid_auto_columns": null,
            "grid_auto_flow": null,
            "grid_auto_rows": null,
            "grid_column": null,
            "grid_gap": null,
            "grid_row": null,
            "grid_template_areas": null,
            "grid_template_columns": null,
            "grid_template_rows": null,
            "height": null,
            "justify_content": null,
            "justify_items": null,
            "left": null,
            "margin": null,
            "max_height": null,
            "max_width": null,
            "min_height": null,
            "min_width": null,
            "object_fit": null,
            "object_position": null,
            "order": null,
            "overflow": null,
            "overflow_x": null,
            "overflow_y": null,
            "padding": null,
            "right": null,
            "top": null,
            "visibility": null,
            "width": null
          }
        },
        "f581698d1572444eaee4c420baaf902f": {
          "model_module": "@jupyter-widgets/base",
          "model_name": "LayoutModel",
          "model_module_version": "1.2.0",
          "state": {
            "_model_module": "@jupyter-widgets/base",
            "_model_module_version": "1.2.0",
            "_model_name": "LayoutModel",
            "_view_count": null,
            "_view_module": "@jupyter-widgets/base",
            "_view_module_version": "1.2.0",
            "_view_name": "LayoutView",
            "align_content": null,
            "align_items": null,
            "align_self": null,
            "border": null,
            "bottom": null,
            "display": null,
            "flex": null,
            "flex_flow": null,
            "grid_area": null,
            "grid_auto_columns": null,
            "grid_auto_flow": null,
            "grid_auto_rows": null,
            "grid_column": null,
            "grid_gap": null,
            "grid_row": null,
            "grid_template_areas": null,
            "grid_template_columns": null,
            "grid_template_rows": null,
            "height": null,
            "justify_content": null,
            "justify_items": null,
            "left": null,
            "margin": null,
            "max_height": null,
            "max_width": null,
            "min_height": null,
            "min_width": null,
            "object_fit": null,
            "object_position": null,
            "order": null,
            "overflow": null,
            "overflow_x": null,
            "overflow_y": null,
            "padding": null,
            "right": null,
            "top": null,
            "visibility": null,
            "width": null
          }
        },
        "6194c221d78048c2bfd7b354e2e12475": {
          "model_module": "@jupyter-widgets/controls",
          "model_name": "DescriptionStyleModel",
          "model_module_version": "1.5.0",
          "state": {
            "_model_module": "@jupyter-widgets/controls",
            "_model_module_version": "1.5.0",
            "_model_name": "DescriptionStyleModel",
            "_view_count": null,
            "_view_module": "@jupyter-widgets/base",
            "_view_module_version": "1.2.0",
            "_view_name": "StyleView",
            "description_width": ""
          }
        },
        "f173dbdb6e8a4b468a44e9163fc45b94": {
          "model_module": "@jupyter-widgets/base",
          "model_name": "LayoutModel",
          "model_module_version": "1.2.0",
          "state": {
            "_model_module": "@jupyter-widgets/base",
            "_model_module_version": "1.2.0",
            "_model_name": "LayoutModel",
            "_view_count": null,
            "_view_module": "@jupyter-widgets/base",
            "_view_module_version": "1.2.0",
            "_view_name": "LayoutView",
            "align_content": null,
            "align_items": null,
            "align_self": null,
            "border": null,
            "bottom": null,
            "display": null,
            "flex": null,
            "flex_flow": null,
            "grid_area": null,
            "grid_auto_columns": null,
            "grid_auto_flow": null,
            "grid_auto_rows": null,
            "grid_column": null,
            "grid_gap": null,
            "grid_row": null,
            "grid_template_areas": null,
            "grid_template_columns": null,
            "grid_template_rows": null,
            "height": null,
            "justify_content": null,
            "justify_items": null,
            "left": null,
            "margin": null,
            "max_height": null,
            "max_width": null,
            "min_height": null,
            "min_width": null,
            "object_fit": null,
            "object_position": null,
            "order": null,
            "overflow": null,
            "overflow_x": null,
            "overflow_y": null,
            "padding": null,
            "right": null,
            "top": null,
            "visibility": null,
            "width": null
          }
        },
        "85dbea08038a4f21b48cf0b6558a18f9": {
          "model_module": "@jupyter-widgets/controls",
          "model_name": "ProgressStyleModel",
          "model_module_version": "1.5.0",
          "state": {
            "_model_module": "@jupyter-widgets/controls",
            "_model_module_version": "1.5.0",
            "_model_name": "ProgressStyleModel",
            "_view_count": null,
            "_view_module": "@jupyter-widgets/base",
            "_view_module_version": "1.2.0",
            "_view_name": "StyleView",
            "bar_color": null,
            "description_width": ""
          }
        },
        "438d0a09e0f8443a9ae92adebd73f8ff": {
          "model_module": "@jupyter-widgets/base",
          "model_name": "LayoutModel",
          "model_module_version": "1.2.0",
          "state": {
            "_model_module": "@jupyter-widgets/base",
            "_model_module_version": "1.2.0",
            "_model_name": "LayoutModel",
            "_view_count": null,
            "_view_module": "@jupyter-widgets/base",
            "_view_module_version": "1.2.0",
            "_view_name": "LayoutView",
            "align_content": null,
            "align_items": null,
            "align_self": null,
            "border": null,
            "bottom": null,
            "display": null,
            "flex": null,
            "flex_flow": null,
            "grid_area": null,
            "grid_auto_columns": null,
            "grid_auto_flow": null,
            "grid_auto_rows": null,
            "grid_column": null,
            "grid_gap": null,
            "grid_row": null,
            "grid_template_areas": null,
            "grid_template_columns": null,
            "grid_template_rows": null,
            "height": null,
            "justify_content": null,
            "justify_items": null,
            "left": null,
            "margin": null,
            "max_height": null,
            "max_width": null,
            "min_height": null,
            "min_width": null,
            "object_fit": null,
            "object_position": null,
            "order": null,
            "overflow": null,
            "overflow_x": null,
            "overflow_y": null,
            "padding": null,
            "right": null,
            "top": null,
            "visibility": null,
            "width": null
          }
        },
        "3f287cf4d7c6471588a53d02d813d67f": {
          "model_module": "@jupyter-widgets/controls",
          "model_name": "DescriptionStyleModel",
          "model_module_version": "1.5.0",
          "state": {
            "_model_module": "@jupyter-widgets/controls",
            "_model_module_version": "1.5.0",
            "_model_name": "DescriptionStyleModel",
            "_view_count": null,
            "_view_module": "@jupyter-widgets/base",
            "_view_module_version": "1.2.0",
            "_view_name": "StyleView",
            "description_width": ""
          }
        }
      }
    }
  },
  "cells": [
    {
      "cell_type": "code",
      "source": [
        "pip install --upgrade fsspec==2024.10.0"
      ],
      "metadata": {
        "colab": {
          "base_uri": "https://localhost:8080/"
        },
        "id": "sagB8DUFh4JU",
        "outputId": "e30a9874-38e4-4c48-afcd-a5d5218055cb"
      },
      "execution_count": 1,
      "outputs": [
        {
          "output_type": "stream",
          "name": "stdout",
          "text": [
            "Collecting fsspec==2024.10.0\n",
            "  Using cached fsspec-2024.10.0-py3-none-any.whl.metadata (11 kB)\n",
            "Using cached fsspec-2024.10.0-py3-none-any.whl (179 kB)\n",
            "Installing collected packages: fsspec\n",
            "  Attempting uninstall: fsspec\n",
            "    Found existing installation: fsspec 2024.9.0\n",
            "    Uninstalling fsspec-2024.9.0:\n",
            "      Successfully uninstalled fsspec-2024.9.0\n",
            "\u001b[31mERROR: pip's dependency resolver does not currently take into account all the packages that are installed. This behaviour is the source of the following dependency conflicts.\n",
            "datasets 3.1.0 requires fsspec[http]<=2024.9.0,>=2023.1.0, but you have fsspec 2024.10.0 which is incompatible.\u001b[0m\u001b[31m\n",
            "\u001b[0mSuccessfully installed fsspec-2024.10.0\n"
          ]
        }
      ]
    },
    {
      "cell_type": "code",
      "execution_count": 2,
      "metadata": {
        "colab": {
          "base_uri": "https://localhost:8080/"
        },
        "id": "H83yGCPIgrl5",
        "outputId": "4ea831b0-927e-4835-a172-eb0aa3fc6cb4"
      },
      "outputs": [
        {
          "output_type": "stream",
          "name": "stdout",
          "text": [
            "\u001b[31mERROR: pip's dependency resolver does not currently take into account all the packages that are installed. This behaviour is the source of the following dependency conflicts.\n",
            "gcsfs 2024.10.0 requires fsspec==2024.10.0, but you have fsspec 2024.9.0 which is incompatible.\u001b[0m\u001b[31m\n",
            "\u001b[0m"
          ]
        }
      ],
      "source": [
        "! pip install -qU langchain_experimental langchain_openai langchain_community langchain ragas chromadb langchain-groq fastembed pypdf openai"
      ]
    },
    {
      "cell_type": "code",
      "source": [
        "! wget \"https://arxiv.org/pdf/1810.04805.pdf\""
      ],
      "metadata": {
        "colab": {
          "base_uri": "https://localhost:8080/"
        },
        "id": "BzrCjGwOhcFr",
        "outputId": "c99f1f5e-67b5-41b1-f4a4-d886b6f5379a"
      },
      "execution_count": 3,
      "outputs": [
        {
          "output_type": "stream",
          "name": "stdout",
          "text": [
            "--2024-11-01 21:01:18--  https://arxiv.org/pdf/1810.04805.pdf\n",
            "Resolving arxiv.org (arxiv.org)... 151.101.131.42, 151.101.3.42, 151.101.67.42, ...\n",
            "Connecting to arxiv.org (arxiv.org)|151.101.131.42|:443... connected.\n",
            "HTTP request sent, awaiting response... 301 Moved Permanently\n",
            "Location: http://arxiv.org/pdf/1810.04805 [following]\n",
            "--2024-11-01 21:01:18--  http://arxiv.org/pdf/1810.04805\n",
            "Connecting to arxiv.org (arxiv.org)|151.101.131.42|:80... connected.\n",
            "HTTP request sent, awaiting response... 200 OK\n",
            "Length: 775166 (757K) [application/pdf]\n",
            "Saving to: ‘1810.04805.pdf’\n",
            "\n",
            "1810.04805.pdf      100%[===================>] 757.00K  --.-KB/s    in 0.04s   \n",
            "\n",
            "2024-11-01 21:01:18 (19.1 MB/s) - ‘1810.04805.pdf’ saved [775166/775166]\n",
            "\n"
          ]
        }
      ]
    },
    {
      "cell_type": "markdown",
      "source": [
        "# process the pdf"
      ],
      "metadata": {
        "id": "VqFzgueDiNS1"
      }
    },
    {
      "cell_type": "code",
      "source": [
        "from langchain.document_loaders import PyPDFLoader\n",
        "from langchain.text_splitter import RecursiveCharacterTextSplitter\n",
        "\n",
        "loader = PyPDFLoader(\"1810.04805.pdf\")\n",
        "documents = loader.load()\n",
        "\n",
        "print(len(documents)) # so, the entire pdf is divided into 16 documents."
      ],
      "metadata": {
        "colab": {
          "base_uri": "https://localhost:8080/"
        },
        "id": "pSV-Z9AaiPmV",
        "outputId": "414bba7e-f4b1-48e8-86ec-b20c41bddeaa"
      },
      "execution_count": 4,
      "outputs": [
        {
          "output_type": "stream",
          "name": "stdout",
          "text": [
            "16\n"
          ]
        }
      ]
    },
    {
      "cell_type": "code",
      "source": [
        "documents"
      ],
      "metadata": {
        "colab": {
          "base_uri": "https://localhost:8080/"
        },
        "id": "WDl9ghz24b5S",
        "outputId": "50234343-a842-4b06-a7f4-ebae4872263f"
      },
      "execution_count": 26,
      "outputs": [
        {
          "output_type": "execute_result",
          "data": {
            "text/plain": [
              "[Document(metadata={'source': '1810.04805.pdf', 'page': 0}, page_content='BERT: Pre-training of Deep Bidirectional Transformers for\\nLanguage Understanding\\nJacob Devlin Ming-Wei Chang Kenton Lee Kristina Toutanova\\nGoogle AI Language\\n{jacobdevlin,mingweichang,kentonl,kristout}@google.com\\nAbstract\\nWe introduce a new language representa-\\ntion model called BERT, which stands for\\nBidirectional Encoder Representations from\\nTransformers. Unlike recent language repre-\\nsentation models (Peters et al., 2018a; Rad-\\nford et al., 2018), BERT is designed to pre-\\ntrain deep bidirectional representations from\\nunlabeled text by jointly conditioning on both\\nleft and right context in all layers. As a re-\\nsult, the pre-trained BERT model can be ﬁne-\\ntuned with just one additional output layer\\nto create state-of-the-art models for a wide\\nrange of tasks, such as question answering and\\nlanguage inference, without substantial task-\\nspeciﬁc architecture modiﬁcations.\\nBERT is conceptually simple and empirically\\npowerful. It obtains new state-of-the-art re-\\nsults on eleven natural language processing\\ntasks, including pushing the GLUE score to\\n80.5% (7.7% point absolute improvement),\\nMultiNLI accuracy to 86.7% (4.6% absolute\\nimprovement), SQuAD v1.1 question answer-\\ning Test F1 to 93.2 (1.5 point absolute im-\\nprovement) and SQuAD v2.0 Test F1 to 83.1\\n(5.1 point absolute improvement).\\n1 Introduction\\nLanguage model pre-training has been shown to\\nbe effective for improving many natural language\\nprocessing tasks (Dai and Le, 2015; Peters et al.,\\n2018a; Radford et al., 2018; Howard and Ruder,\\n2018). These include sentence-level tasks such as\\nnatural language inference (Bowman et al., 2015;\\nWilliams et al., 2018) and paraphrasing (Dolan\\nand Brockett, 2005), which aim to predict the re-\\nlationships between sentences by analyzing them\\nholistically, as well as token-level tasks such as\\nnamed entity recognition and question answering,\\nwhere models are required to produce ﬁne-grained\\noutput at the token level (Tjong Kim Sang and\\nDe Meulder, 2003; Rajpurkar et al., 2016).\\nThere are two existing strategies for apply-\\ning pre-trained language representations to down-\\nstream tasks: feature-based and ﬁne-tuning. The\\nfeature-based approach, such as ELMo (Peters\\net al., 2018a), uses task-speciﬁc architectures that\\ninclude the pre-trained representations as addi-\\ntional features. The ﬁne-tuning approach, such as\\nthe Generative Pre-trained Transformer (OpenAI\\nGPT) (Radford et al., 2018), introduces minimal\\ntask-speciﬁc parameters, and is trained on the\\ndownstream tasks by simply ﬁne-tuning all pre-\\ntrained parameters. The two approaches share the\\nsame objective function during pre-training, where\\nthey use unidirectional language models to learn\\ngeneral language representations.\\nWe argue that current techniques restrict the\\npower of the pre-trained representations, espe-\\ncially for the ﬁne-tuning approaches. The ma-\\njor limitation is that standard language models are\\nunidirectional, and this limits the choice of archi-\\ntectures that can be used during pre-training. For\\nexample, in OpenAI GPT, the authors use a left-to-\\nright architecture, where every token can only at-\\ntend to previous tokens in the self-attention layers\\nof the Transformer (Vaswani et al., 2017). Such re-\\nstrictions are sub-optimal for sentence-level tasks,\\nand could be very harmful when applying ﬁne-\\ntuning based approaches to token-level tasks such\\nas question answering, where it is crucial to incor-\\nporate context from both directions.\\nIn this paper, we improve the ﬁne-tuning based\\napproaches by proposing BERT: Bidirectional\\nEncoder Representations from Transformers.\\nBERT alleviates the previously mentioned unidi-\\nrectionality constraint by using a “masked lan-\\nguage model” (MLM) pre-training objective, in-\\nspired by the Cloze task (Taylor, 1953). The\\nmasked language model randomly masks some of\\nthe tokens from the input, and the objective is to\\npredict the original vocabulary id of the masked\\narXiv:1810.04805v2  [cs.CL]  24 May 2019'),\n",
              " Document(metadata={'source': '1810.04805.pdf', 'page': 1}, page_content='word based only on its context. Unlike left-to-\\nright language model pre-training, the MLM ob-\\njective enables the representation to fuse the left\\nand the right context, which allows us to pre-\\ntrain a deep bidirectional Transformer. In addi-\\ntion to the masked language model, we also use\\na “next sentence prediction” task that jointly pre-\\ntrains text-pair representations. The contributions\\nof our paper are as follows:\\n• We demonstrate the importance of bidirectional\\npre-training for language representations. Un-\\nlike Radford et al. (2018), which uses unidirec-\\ntional language models for pre-training, BERT\\nuses masked language models to enable pre-\\ntrained deep bidirectional representations. This\\nis also in contrast to Peters et al. (2018a), which\\nuses a shallow concatenation of independently\\ntrained left-to-right and right-to-left LMs.\\n• We show that pre-trained representations reduce\\nthe need for many heavily-engineered task-\\nspeciﬁc architectures. BERT is the ﬁrst ﬁne-\\ntuning based representation model that achieves\\nstate-of-the-art performance on a large suite\\nof sentence-level and token-level tasks, outper-\\nforming many task-speciﬁc architectures.\\n• BERT advances the state of the art for eleven\\nNLP tasks. The code and pre-trained mod-\\nels are available at https://github.com/\\ngoogle-research/bert.\\n2 Related Work\\nThere is a long history of pre-training general lan-\\nguage representations, and we brieﬂy review the\\nmost widely-used approaches in this section.\\n2.1 Unsupervised Feature-based Approaches\\nLearning widely applicable representations of\\nwords has been an active area of research for\\ndecades, including non-neural (Brown et al., 1992;\\nAndo and Zhang, 2005; Blitzer et al., 2006) and\\nneural (Mikolov et al., 2013; Pennington et al.,\\n2014) methods. Pre-trained word embeddings\\nare an integral part of modern NLP systems, of-\\nfering signiﬁcant improvements over embeddings\\nlearned from scratch (Turian et al., 2010). To pre-\\ntrain word embedding vectors, left-to-right lan-\\nguage modeling objectives have been used (Mnih\\nand Hinton, 2009), as well as objectives to dis-\\ncriminate correct from incorrect words in left and\\nright context (Mikolov et al., 2013).\\nThese approaches have been generalized to\\ncoarser granularities, such as sentence embed-\\ndings (Kiros et al., 2015; Logeswaran and Lee,\\n2018) or paragraph embeddings (Le and Mikolov,\\n2014). To train sentence representations, prior\\nwork has used objectives to rank candidate next\\nsentences (Jernite et al., 2017; Logeswaran and\\nLee, 2018), left-to-right generation of next sen-\\ntence words given a representation of the previous\\nsentence (Kiros et al., 2015), or denoising auto-\\nencoder derived objectives (Hill et al., 2016).\\nELMo and its predecessor (Peters et al., 2017,\\n2018a) generalize traditional word embedding re-\\nsearch along a different dimension. They extract\\ncontext-sensitive features from a left-to-right and a\\nright-to-left language model. The contextual rep-\\nresentation of each token is the concatenation of\\nthe left-to-right and right-to-left representations.\\nWhen integrating contextual word embeddings\\nwith existing task-speciﬁc architectures, ELMo\\nadvances the state of the art for several major NLP\\nbenchmarks (Peters et al., 2018a) including ques-\\ntion answering (Rajpurkar et al., 2016), sentiment\\nanalysis (Socher et al., 2013), and named entity\\nrecognition (Tjong Kim Sang and De Meulder,\\n2003). Melamud et al. (2016) proposed learning\\ncontextual representations through a task to pre-\\ndict a single word from both left and right context\\nusing LSTMs. Similar to ELMo, their model is\\nfeature-based and not deeply bidirectional. Fedus\\net al. (2018) shows that the cloze task can be used\\nto improve the robustness of text generation mod-\\nels.\\n2.2 Unsupervised Fine-tuning Approaches\\nAs with the feature-based approaches, the ﬁrst\\nworks in this direction only pre-trained word em-\\nbedding parameters from unlabeled text (Col-\\nlobert and Weston, 2008).\\nMore recently, sentence or document encoders\\nwhich produce contextual token representations\\nhave been pre-trained from unlabeled text and\\nﬁne-tuned for a supervised downstream task (Dai\\nand Le, 2015; Howard and Ruder, 2018; Radford\\net al., 2018). The advantage of these approaches\\nis that few parameters need to be learned from\\nscratch. At least partly due to this advantage,\\nOpenAI GPT (Radford et al., 2018) achieved pre-\\nviously state-of-the-art results on many sentence-\\nlevel tasks from the GLUE benchmark (Wang\\net al., 2018a). Left-to-right language model-'),\n",
              " Document(metadata={'source': '1810.04805.pdf', 'page': 2}, page_content='BERT BERT\\nE[CLS] E1  E[SEP]... EN E1’ ... EM’\\nC\\n T1\\n T[SEP]...\\n TN\\n T1’ ...\\n TM’\\n[CLS] Tok 1  [SEP]... Tok N Tok 1 ... TokM\\nQuestion Paragraph\\nStart/End Span\\nBERT\\nE[CLS] E1  E[SEP]... EN E1’ ... EM’\\nC\\n T1\\n T[SEP]...\\n TN\\n T1’ ...\\n TM’\\n[CLS] Tok 1  [SEP]... Tok N Tok 1 ... TokM\\nMasked Sentence A Masked Sentence B\\nPre-training Fine-Tuning\\nNSP Mask LM Mask LM\\nUnlabeled Sentence A and B Pair \\nSQuAD\\nQuestion Answer Pair\\nNERMNLI\\nFigure 1: Overall pre-training and ﬁne-tuning procedures for BERT. Apart from output layers, the same architec-\\ntures are used in both pre-training and ﬁne-tuning. The same pre-trained model parameters are used to initialize\\nmodels for different down-stream tasks. During ﬁne-tuning, all parameters are ﬁne-tuned. [CLS] is a special\\nsymbol added in front of every input example, and [SEP] is a special separator token (e.g. separating ques-\\ntions/answers).\\ning and auto-encoder objectives have been used\\nfor pre-training such models (Howard and Ruder,\\n2018; Radford et al., 2018; Dai and Le, 2015).\\n2.3 Transfer Learning from Supervised Data\\nThere has also been work showing effective trans-\\nfer from supervised tasks with large datasets, such\\nas natural language inference (Conneau et al.,\\n2017) and machine translation (McCann et al.,\\n2017). Computer vision research has also demon-\\nstrated the importance of transfer learning from\\nlarge pre-trained models, where an effective recipe\\nis to ﬁne-tune models pre-trained with Ima-\\ngeNet (Deng et al., 2009; Yosinski et al., 2014).\\n3 BERT\\nWe introduce BERT and its detailed implementa-\\ntion in this section. There are two steps in our\\nframework: pre-training and ﬁne-tuning. Dur-\\ning pre-training, the model is trained on unlabeled\\ndata over different pre-training tasks. For ﬁne-\\ntuning, the BERT model is ﬁrst initialized with\\nthe pre-trained parameters, and all of the param-\\neters are ﬁne-tuned using labeled data from the\\ndownstream tasks. Each downstream task has sep-\\narate ﬁne-tuned models, even though they are ini-\\ntialized with the same pre-trained parameters. The\\nquestion-answering example in Figure 1 will serve\\nas a running example for this section.\\nA distinctive feature of BERT is its uniﬁed ar-\\nchitecture across different tasks. There is mini-\\nmal difference between the pre-trained architec-\\nture and the ﬁnal downstream architecture.\\nModel Architecture BERT’s model architec-\\nture is a multi-layer bidirectional Transformer en-\\ncoder based on the original implementation de-\\nscribed in Vaswani et al. (2017) and released in\\nthe tensor2tensor library.1 Because the use\\nof Transformers has become common and our im-\\nplementation is almost identical to the original,\\nwe will omit an exhaustive background descrip-\\ntion of the model architecture and refer readers to\\nVaswani et al. (2017) as well as excellent guides\\nsuch as “The Annotated Transformer.”2\\nIn this work, we denote the number of layers\\n(i.e., Transformer blocks) as L, the hidden size as\\nH, and the number of self-attention heads as A.3\\nWe primarily report results on two model sizes:\\nBERTBASE (L=12, H=768, A=12, Total Param-\\neters=110M) and BERTLARGE (L=24, H=1024,\\nA=16, Total Parameters=340M).\\nBERTBASE was chosen to have the same model\\nsize as OpenAI GPT for comparison purposes.\\nCritically, however, the BERT Transformer uses\\nbidirectional self-attention, while the GPT Trans-\\nformer uses constrained self-attention where every\\ntoken can only attend to context to its left.4\\n1https://github.com/tensorﬂow/tensor2tensor\\n2http://nlp.seas.harvard.edu/2018/04/03/attention.html\\n3In all cases we set the feed-forward/ﬁlter size to be 4H,\\ni.e., 3072 for the H = 768and 4096 for the H = 1024.\\n4We note that in the literature the bidirectional Trans-'),\n",
              " Document(metadata={'source': '1810.04805.pdf', 'page': 3}, page_content='Input/Output Representations To make BERT\\nhandle a variety of down-stream tasks, our input\\nrepresentation is able to unambiguously represent\\nboth a single sentence and a pair of sentences\\n(e.g., ⟨Question, Answer ⟩) in one token sequence.\\nThroughout this work, a “sentence” can be an arbi-\\ntrary span of contiguous text, rather than an actual\\nlinguistic sentence. A “sequence” refers to the in-\\nput token sequence to BERT, which may be a sin-\\ngle sentence or two sentences packed together.\\nWe use WordPiece embeddings (Wu et al.,\\n2016) with a 30,000 token vocabulary. The ﬁrst\\ntoken of every sequence is always a special clas-\\nsiﬁcation token ( [CLS]). The ﬁnal hidden state\\ncorresponding to this token is used as the ag-\\ngregate sequence representation for classiﬁcation\\ntasks. Sentence pairs are packed together into a\\nsingle sequence. We differentiate the sentences in\\ntwo ways. First, we separate them with a special\\ntoken ([SEP]). Second, we add a learned embed-\\nding to every token indicating whether it belongs\\nto sentence A or sentence B. As shown in Figure 1,\\nwe denote input embedding as E, the ﬁnal hidden\\nvector of the special [CLS] token as C ∈RH,\\nand the ﬁnal hidden vector for the ith input token\\nas Ti ∈RH.\\nFor a given token, its input representation is\\nconstructed by summing the corresponding token,\\nsegment, and position embeddings. A visualiza-\\ntion of this construction can be seen in Figure 2.\\n3.1 Pre-training BERT\\nUnlike Peters et al. (2018a) and Radford et al.\\n(2018), we do not use traditional left-to-right or\\nright-to-left language models to pre-train BERT.\\nInstead, we pre-train BERT using two unsuper-\\nvised tasks, described in this section. This step\\nis presented in the left part of Figure 1.\\nTask #1: Masked LM Intuitively, it is reason-\\nable to believe that a deep bidirectional model is\\nstrictly more powerful than either a left-to-right\\nmodel or the shallow concatenation of a left-to-\\nright and a right-to-left model. Unfortunately,\\nstandard conditional language models can only be\\ntrained left-to-right or right-to-left, since bidirec-\\ntional conditioning would allow each word to in-\\ndirectly “see itself”, and the model could trivially\\npredict the target word in a multi-layered context.\\nformer is often referred to as a “Transformer encoder” while\\nthe left-context-only version is referred to as a “Transformer\\ndecoder” since it can be used for text generation.\\nIn order to train a deep bidirectional representa-\\ntion, we simply mask some percentage of the input\\ntokens at random, and then predict those masked\\ntokens. We refer to this procedure as a “masked\\nLM” (MLM), although it is often referred to as a\\nCloze task in the literature (Taylor, 1953). In this\\ncase, the ﬁnal hidden vectors corresponding to the\\nmask tokens are fed into an output softmax over\\nthe vocabulary, as in a standard LM. In all of our\\nexperiments, we mask 15% of all WordPiece to-\\nkens in each sequence at random. In contrast to\\ndenoising auto-encoders (Vincent et al., 2008), we\\nonly predict the masked words rather than recon-\\nstructing the entire input.\\nAlthough this allows us to obtain a bidirec-\\ntional pre-trained model, a downside is that we\\nare creating a mismatch between pre-training and\\nﬁne-tuning, since the [MASK] token does not ap-\\npear during ﬁne-tuning. To mitigate this, we do\\nnot always replace “masked” words with the ac-\\ntual [MASK] token. The training data generator\\nchooses 15% of the token positions at random for\\nprediction. If the i-th token is chosen, we replace\\nthe i-th token with (1) the [MASK] token 80% of\\nthe time (2) a random token 10% of the time (3)\\nthe unchanged i-th token 10% of the time. Then,\\nTi will be used to predict the original token with\\ncross entropy loss. We compare variations of this\\nprocedure in Appendix C.2.\\nTask #2: Next Sentence Prediction (NSP)\\nMany important downstream tasks such as Ques-\\ntion Answering (QA) and Natural Language Infer-\\nence (NLI) are based on understanding the rela-\\ntionship between two sentences, which is not di-\\nrectly captured by language modeling. In order\\nto train a model that understands sentence rela-\\ntionships, we pre-train for a binarized next sen-\\ntence prediction task that can be trivially gener-\\nated from any monolingual corpus. Speciﬁcally,\\nwhen choosing the sentencesA and B for each pre-\\ntraining example, 50% of the time B is the actual\\nnext sentence that follows A (labeled as IsNext),\\nand 50% of the time it is a random sentence from\\nthe corpus (labeled as NotNext). As we show\\nin Figure 1, C is used for next sentence predic-\\ntion (NSP). 5 Despite its simplicity, we demon-\\nstrate in Section 5.1 that pre-training towards this\\ntask is very beneﬁcial to both QA and NLI. 6\\n5The ﬁnal model achieves 97%-98% accuracy on NSP.\\n6The vector C is not a meaningful sentence representation\\nwithout ﬁne-tuning, since it was trained with NSP.'),\n",
              " Document(metadata={'source': '1810.04805.pdf', 'page': 4}, page_content='[CLS] he likes play ##ing [SEP]my dog is cute [SEP]Input\\nE[CLS] Ehe Elikes Eplay E##ing E[SEP]Emy Edog Eis Ecute E[SEP]\\nToken\\nEmbeddings\\nEA EB EB EB EB EBEA EA EA EA EASegment\\nEmbeddings\\nE0 E6 E7 E8 E9 E10E1 E2 E3 E4 E5Position\\nEmbeddings\\nFigure 2: BERT input representation. The input embeddings are the sum of the token embeddings, the segmenta-\\ntion embeddings and the position embeddings.\\nThe NSP task is closely related to representation-\\nlearning objectives used in Jernite et al. (2017) and\\nLogeswaran and Lee (2018). However, in prior\\nwork, only sentence embeddings are transferred to\\ndown-stream tasks, where BERT transfers all pa-\\nrameters to initialize end-task model parameters.\\nPre-training data The pre-training procedure\\nlargely follows the existing literature on language\\nmodel pre-training. For the pre-training corpus we\\nuse the BooksCorpus (800M words) (Zhu et al.,\\n2015) and English Wikipedia (2,500M words).\\nFor Wikipedia we extract only the text passages\\nand ignore lists, tables, and headers. It is criti-\\ncal to use a document-level corpus rather than a\\nshufﬂed sentence-level corpus such as the Billion\\nWord Benchmark (Chelba et al., 2013) in order to\\nextract long contiguous sequences.\\n3.2 Fine-tuning BERT\\nFine-tuning is straightforward since the self-\\nattention mechanism in the Transformer al-\\nlows BERT to model many downstream tasks—\\nwhether they involve single text or text pairs—by\\nswapping out the appropriate inputs and outputs.\\nFor applications involving text pairs, a common\\npattern is to independently encode text pairs be-\\nfore applying bidirectional cross attention, such\\nas Parikh et al. (2016); Seo et al. (2017). BERT\\ninstead uses the self-attention mechanism to unify\\nthese two stages, as encoding a concatenated text\\npair with self-attention effectively includes bidi-\\nrectional cross attention between two sentences.\\nFor each task, we simply plug in the task-\\nspeciﬁc inputs and outputs into BERT and ﬁne-\\ntune all the parameters end-to-end. At the in-\\nput, sentence A and sentence B from pre-training\\nare analogous to (1) sentence pairs in paraphras-\\ning, (2) hypothesis-premise pairs in entailment, (3)\\nquestion-passage pairs in question answering, and\\n(4) a degenerate text- ∅ pair in text classiﬁcation\\nor sequence tagging. At the output, the token rep-\\nresentations are fed into an output layer for token-\\nlevel tasks, such as sequence tagging or question\\nanswering, and the [CLS] representation is fed\\ninto an output layer for classiﬁcation, such as en-\\ntailment or sentiment analysis.\\nCompared to pre-training, ﬁne-tuning is rela-\\ntively inexpensive. All of the results in the pa-\\nper can be replicated in at most 1 hour on a sin-\\ngle Cloud TPU, or a few hours on a GPU, starting\\nfrom the exact same pre-trained model. 7 We de-\\nscribe the task-speciﬁc details in the correspond-\\ning subsections of Section 4. More details can be\\nfound in Appendix A.5.\\n4 Experiments\\nIn this section, we present BERT ﬁne-tuning re-\\nsults on 11 NLP tasks.\\n4.1 GLUE\\nThe General Language Understanding Evaluation\\n(GLUE) benchmark (Wang et al., 2018a) is a col-\\nlection of diverse natural language understanding\\ntasks. Detailed descriptions of GLUE datasets are\\nincluded in Appendix B.1.\\nTo ﬁne-tune on GLUE, we represent the input\\nsequence (for single sentence or sentence pairs)\\nas described in Section 3, and use the ﬁnal hid-\\nden vector C ∈ RH corresponding to the ﬁrst\\ninput token ([CLS]) as the aggregate representa-\\ntion. The only new parameters introduced during\\nﬁne-tuning are classiﬁcation layer weights W ∈\\nRK×H, where Kis the number of labels. We com-\\npute a standard classiﬁcation loss with C and W,\\ni.e., log(softmax(CWT )).\\n7For example, the BERT SQuAD model can be trained in\\naround 30 minutes on a single Cloud TPU to achieve a Dev\\nF1 score of 91.0%.\\n8See (10) in https://gluebenchmark.com/faq.'),\n",
              " Document(metadata={'source': '1810.04805.pdf', 'page': 5}, page_content='System MNLI-(m/mm) QQP QNLI SST-2 CoLA STS-B MRPC RTE Average\\n392k 363k 108k 67k 8.5k 5.7k 3.5k 2.5k -\\nPre-OpenAI SOTA 80.6/80.1 66.1 82.3 93.2 35.0 81.0 86.0 61.7 74.0\\nBiLSTM+ELMo+Attn 76.4/76.1 64.8 79.8 90.4 36.0 73.3 84.9 56.8 71.0\\nOpenAI GPT 82.1/81.4 70.3 87.4 91.3 45.4 80.0 82.3 56.0 75.1\\nBERTBASE 84.6/83.4 71.2 90.5 93.5 52.1 85.8 88.9 66.4 79.6\\nBERTLARGE 86.7/85.9 72.1 92.7 94.9 60.5 86.5 89.3 70.1 82.1\\nTable 1: GLUE Test results, scored by the evaluation server ( https://gluebenchmark.com/leaderboard).\\nThe number below each task denotes the number of training examples. The “Average” column is slightly different\\nthan the ofﬁcial GLUE score, since we exclude the problematic WNLI set. 8 BERT and OpenAI GPT are single-\\nmodel, single task. F1 scores are reported for QQP and MRPC, Spearman correlations are reported for STS-B, and\\naccuracy scores are reported for the other tasks. We exclude entries that use BERT as one of their components.\\nWe use a batch size of 32 and ﬁne-tune for 3\\nepochs over the data for all GLUE tasks. For each\\ntask, we selected the best ﬁne-tuning learning rate\\n(among 5e-5, 4e-5, 3e-5, and 2e-5) on the Dev set.\\nAdditionally, for BERTLARGE we found that ﬁne-\\ntuning was sometimes unstable on small datasets,\\nso we ran several random restarts and selected the\\nbest model on the Dev set. With random restarts,\\nwe use the same pre-trained checkpoint but per-\\nform different ﬁne-tuning data shufﬂing and clas-\\nsiﬁer layer initialization.9\\nResults are presented in Table 1. Both\\nBERTBASE and BERTLARGE outperform all sys-\\ntems on all tasks by a substantial margin, obtaining\\n4.5% and 7.0% respective average accuracy im-\\nprovement over the prior state of the art. Note that\\nBERTBASE and OpenAI GPT are nearly identical\\nin terms of model architecture apart from the at-\\ntention masking. For the largest and most widely\\nreported GLUE task, MNLI, BERT obtains a 4.6%\\nabsolute accuracy improvement. On the ofﬁcial\\nGLUE leaderboard10, BERTLARGE obtains a score\\nof 80.5, compared to OpenAI GPT, which obtains\\n72.8 as of the date of writing.\\nWe ﬁnd that BERT LARGE signiﬁcantly outper-\\nforms BERTBASE across all tasks, especially those\\nwith very little training data. The effect of model\\nsize is explored more thoroughly in Section 5.2.\\n4.2 SQuAD v1.1\\nThe Stanford Question Answering Dataset\\n(SQuAD v1.1) is a collection of 100k crowd-\\nsourced question/answer pairs (Rajpurkar et al.,\\n2016). Given a question and a passage from\\n9The GLUE data set distribution does not include the Test\\nlabels, and we only made a single GLUE evaluation server\\nsubmission for each of BERTBASE and BERTLARGE .\\n10https://gluebenchmark.com/leaderboard\\nWikipedia containing the answer, the task is to\\npredict the answer text span in the passage.\\nAs shown in Figure 1, in the question answer-\\ning task, we represent the input question and pas-\\nsage as a single packed sequence, with the ques-\\ntion using the A embedding and the passage using\\nthe B embedding. We only introduce a start vec-\\ntor S ∈RH and an end vector E ∈RH during\\nﬁne-tuning. The probability of word i being the\\nstart of the answer span is computed as a dot prod-\\nuct between Ti and S followed by a softmax over\\nall of the words in the paragraph: Pi = eS·Ti\\n∑\\nj eS·Tj .\\nThe analogous formula is used for the end of the\\nanswer span. The score of a candidate span from\\nposition ito position jis deﬁned as S·Ti + E·Tj,\\nand the maximum scoring span where j ≥ i is\\nused as a prediction. The training objective is the\\nsum of the log-likelihoods of the correct start and\\nend positions. We ﬁne-tune for 3 epochs with a\\nlearning rate of 5e-5 and a batch size of 32.\\nTable 2 shows top leaderboard entries as well\\nas results from top published systems (Seo et al.,\\n2017; Clark and Gardner, 2018; Peters et al.,\\n2018a; Hu et al., 2018). The top results from the\\nSQuAD leaderboard do not have up-to-date public\\nsystem descriptions available,11 and are allowed to\\nuse any public data when training their systems.\\nWe therefore use modest data augmentation in\\nour system by ﬁrst ﬁne-tuning on TriviaQA (Joshi\\net al., 2017) befor ﬁne-tuning on SQuAD.\\nOur best performing system outperforms the top\\nleaderboard system by +1.5 F1 in ensembling and\\n+1.3 F1 as a single system. In fact, our single\\nBERT model outperforms the top ensemble sys-\\ntem in terms of F1 score. Without TriviaQA ﬁne-\\n11QANet is described in Yu et al. (2018), but the system\\nhas improved substantially after publication.'),\n",
              " Document(metadata={'source': '1810.04805.pdf', 'page': 6}, page_content='System Dev Test\\nEM F1 EM F1\\nTop Leaderboard Systems (Dec 10th, 2018)\\nHuman - - 82.3 91.2\\n#1 Ensemble - nlnet - - 86.0 91.7\\n#2 Ensemble - QANet - - 84.5 90.5\\nPublished\\nBiDAF+ELMo (Single) - 85.6 - 85.8\\nR.M. Reader (Ensemble) 81.2 87.9 82.3 88.5\\nOurs\\nBERTBASE (Single) 80.8 88.5 - -\\nBERTLARGE (Single) 84.1 90.9 - -\\nBERTLARGE (Ensemble) 85.8 91.8 - -\\nBERTLARGE (Sgl.+TriviaQA) 84.2 91.1 85.1 91.8\\nBERTLARGE (Ens.+TriviaQA) 86.2 92.2 87.4 93.2\\nTable 2: SQuAD 1.1 results. The BERT ensemble\\nis 7x systems which use different pre-training check-\\npoints and ﬁne-tuning seeds.\\nSystem Dev Test\\nEM F1 EM F1\\nTop Leaderboard Systems (Dec 10th, 2018)\\nHuman 86.3 89.0 86.9 89.5\\n#1 Single - MIR-MRC (F-Net) - - 74.8 78.0\\n#2 Single - nlnet - - 74.2 77.1\\nPublished\\nunet (Ensemble) - - 71.4 74.9\\nSLQA+ (Single) - 71.4 74.4\\nOurs\\nBERTLARGE (Single) 78.7 81.9 80.0 83.1\\nTable 3: SQuAD 2.0 results. We exclude entries that\\nuse BERT as one of their components.\\ntuning data, we only lose 0.1-0.4 F1, still outper-\\nforming all existing systems by a wide margin.12\\n4.3 SQuAD v2.0\\nThe SQuAD 2.0 task extends the SQuAD 1.1\\nproblem deﬁnition by allowing for the possibility\\nthat no short answer exists in the provided para-\\ngraph, making the problem more realistic.\\nWe use a simple approach to extend the SQuAD\\nv1.1 BERT model for this task. We treat ques-\\ntions that do not have an answer as having an an-\\nswer span with start and end at the [CLS] to-\\nken. The probability space for the start and end\\nanswer span positions is extended to include the\\nposition of the [CLS] token. For prediction, we\\ncompare the score of the no-answer span: snull =\\nS·C+ E·C to the score of the best non-null span\\n12The TriviaQA data we used consists of paragraphs from\\nTriviaQA-Wiki formed of the ﬁrst 400 tokens in documents,\\nthat contain at least one of the provided possible answers.\\nSystem Dev Test\\nESIM+GloVe 51.9 52.7\\nESIM+ELMo 59.1 59.2\\nOpenAI GPT - 78.0\\nBERTBASE 81.6 -\\nBERTLARGE 86.6 86.3\\nHuman (expert)† - 85.0\\nHuman (5 annotations)† - 88.0\\nTable 4: SW AG Dev and Test accuracies.†Human per-\\nformance is measured with 100 samples, as reported in\\nthe SW AG paper.\\nˆsi,j = maxj≥iS·Ti + E·Tj. We predict a non-null\\nanswer when ˆsi,j > snull + τ, where the thresh-\\nold τ is selected on the dev set to maximize F1.\\nWe did not use TriviaQA data for this model. We\\nﬁne-tuned for 2 epochs with a learning rate of 5e-5\\nand a batch size of 48.\\nThe results compared to prior leaderboard en-\\ntries and top published work (Sun et al., 2018;\\nWang et al., 2018b) are shown in Table 3, exclud-\\ning systems that use BERT as one of their com-\\nponents. We observe a +5.1 F1 improvement over\\nthe previous best system.\\n4.4 SWAG\\nThe Situations With Adversarial Generations\\n(SW AG) dataset contains 113k sentence-pair com-\\npletion examples that evaluate grounded common-\\nsense inference (Zellers et al., 2018). Given a sen-\\ntence, the task is to choose the most plausible con-\\ntinuation among four choices.\\nWhen ﬁne-tuning on the SW AG dataset, we\\nconstruct four input sequences, each containing\\nthe concatenation of the given sentence (sentence\\nA) and a possible continuation (sentence B). The\\nonly task-speciﬁc parameters introduced is a vec-\\ntor whose dot product with the [CLS] token rep-\\nresentation C denotes a score for each choice\\nwhich is normalized with a softmax layer.\\nWe ﬁne-tune the model for 3 epochs with a\\nlearning rate of 2e-5 and a batch size of 16. Re-\\nsults are presented in Table 4. BERT LARGE out-\\nperforms the authors’ baseline ESIM+ELMo sys-\\ntem by +27.1% and OpenAI GPT by 8.3%.\\n5 Ablation Studies\\nIn this section, we perform ablation experiments\\nover a number of facets of BERT in order to better\\nunderstand their relative importance. Additional'),\n",
              " Document(metadata={'source': '1810.04805.pdf', 'page': 7}, page_content='Dev Set\\nTasks MNLI-m QNLI MRPC SST-2 SQuAD\\n(Acc) (Acc) (Acc) (Acc) (F1)\\nBERTBASE 84.4 88.4 86.7 92.7 88.5\\nNo NSP 83.9 84.9 86.5 92.6 87.9\\nLTR & No NSP 82.1 84.3 77.5 92.1 77.8\\n+ BiLSTM 82.1 84.1 75.7 91.6 84.9\\nTable 5: Ablation over the pre-training tasks using the\\nBERTBASE architecture. “No NSP” is trained without\\nthe next sentence prediction task. “LTR & No NSP” is\\ntrained as a left-to-right LM without the next sentence\\nprediction, like OpenAI GPT. “+ BiLSTM” adds a ran-\\ndomly initialized BiLSTM on top of the “LTR + No\\nNSP” model during ﬁne-tuning.\\nablation studies can be found in Appendix C.\\n5.1 Effect of Pre-training Tasks\\nWe demonstrate the importance of the deep bidi-\\nrectionality of BERT by evaluating two pre-\\ntraining objectives using exactly the same pre-\\ntraining data, ﬁne-tuning scheme, and hyperpa-\\nrameters as BERTBASE :\\nNo NSP: A bidirectional model which is trained\\nusing the “masked LM” (MLM) but without the\\n“next sentence prediction” (NSP) task.\\nLTR & No NSP: A left-context-only model which\\nis trained using a standard Left-to-Right (LTR)\\nLM, rather than an MLM. The left-only constraint\\nwas also applied at ﬁne-tuning, because removing\\nit introduced a pre-train/ﬁne-tune mismatch that\\ndegraded downstream performance. Additionally,\\nthis model was pre-trained without the NSP task.\\nThis is directly comparable to OpenAI GPT, but\\nusing our larger training dataset, our input repre-\\nsentation, and our ﬁne-tuning scheme.\\nWe ﬁrst examine the impact brought by the NSP\\ntask. In Table 5, we show that removing NSP\\nhurts performance signiﬁcantly on QNLI, MNLI,\\nand SQuAD 1.1. Next, we evaluate the impact\\nof training bidirectional representations by com-\\nparing “No NSP” to “LTR & No NSP”. The LTR\\nmodel performs worse than the MLM model on all\\ntasks, with large drops on MRPC and SQuAD.\\nFor SQuAD it is intuitively clear that a LTR\\nmodel will perform poorly at token predictions,\\nsince the token-level hidden states have no right-\\nside context. In order to make a good faith at-\\ntempt at strengthening the LTR system, we added\\na randomly initialized BiLSTM on top. This does\\nsigniﬁcantly improve results on SQuAD, but the\\nresults are still far worse than those of the pre-\\ntrained bidirectional models. The BiLSTM hurts\\nperformance on the GLUE tasks.\\nWe recognize that it would also be possible to\\ntrain separate LTR and RTL models and represent\\neach token as the concatenation of the two mod-\\nels, as ELMo does. However: (a) this is twice as\\nexpensive as a single bidirectional model; (b) this\\nis non-intuitive for tasks like QA, since the RTL\\nmodel would not be able to condition the answer\\non the question; (c) this it is strictly less powerful\\nthan a deep bidirectional model, since it can use\\nboth left and right context at every layer.\\n5.2 Effect of Model Size\\nIn this section, we explore the effect of model size\\non ﬁne-tuning task accuracy. We trained a number\\nof BERT models with a differing number of layers,\\nhidden units, and attention heads, while otherwise\\nusing the same hyperparameters and training pro-\\ncedure as described previously.\\nResults on selected GLUE tasks are shown in\\nTable 6. In this table, we report the average Dev\\nSet accuracy from 5 random restarts of ﬁne-tuning.\\nWe can see that larger models lead to a strict ac-\\ncuracy improvement across all four datasets, even\\nfor MRPC which only has 3,600 labeled train-\\ning examples, and is substantially different from\\nthe pre-training tasks. It is also perhaps surpris-\\ning that we are able to achieve such signiﬁcant\\nimprovements on top of models which are al-\\nready quite large relative to the existing literature.\\nFor example, the largest Transformer explored in\\nVaswani et al. (2017) is (L=6, H=1024, A=16)\\nwith 100M parameters for the encoder, and the\\nlargest Transformer we have found in the literature\\nis (L=64, H=512, A=2) with 235M parameters\\n(Al-Rfou et al., 2018). By contrast, BERT BASE\\ncontains 110M parameters and BERT LARGE con-\\ntains 340M parameters.\\nIt has long been known that increasing the\\nmodel size will lead to continual improvements\\non large-scale tasks such as machine translation\\nand language modeling, which is demonstrated\\nby the LM perplexity of held-out training data\\nshown in Table 6. However, we believe that\\nthis is the ﬁrst work to demonstrate convinc-\\ningly that scaling to extreme model sizes also\\nleads to large improvements on very small scale\\ntasks, provided that the model has been sufﬁ-\\nciently pre-trained. Peters et al. (2018b) presented'),\n",
              " Document(metadata={'source': '1810.04805.pdf', 'page': 8}, page_content='mixed results on the downstream task impact of\\nincreasing the pre-trained bi-LM size from two\\nto four layers and Melamud et al. (2016) men-\\ntioned in passing that increasing hidden dimen-\\nsion size from 200 to 600 helped, but increasing\\nfurther to 1,000 did not bring further improve-\\nments. Both of these prior works used a feature-\\nbased approach — we hypothesize that when the\\nmodel is ﬁne-tuned directly on the downstream\\ntasks and uses only a very small number of ran-\\ndomly initialized additional parameters, the task-\\nspeciﬁc models can beneﬁt from the larger, more\\nexpressive pre-trained representations even when\\ndownstream task data is very small.\\n5.3 Feature-based Approach with BERT\\nAll of the BERT results presented so far have used\\nthe ﬁne-tuning approach, where a simple classiﬁ-\\ncation layer is added to the pre-trained model, and\\nall parameters are jointly ﬁne-tuned on a down-\\nstream task. However, the feature-based approach,\\nwhere ﬁxed features are extracted from the pre-\\ntrained model, has certain advantages. First, not\\nall tasks can be easily represented by a Trans-\\nformer encoder architecture, and therefore require\\na task-speciﬁc model architecture to be added.\\nSecond, there are major computational beneﬁts\\nto pre-compute an expensive representation of the\\ntraining data once and then run many experiments\\nwith cheaper models on top of this representation.\\nIn this section, we compare the two approaches\\nby applying BERT to the CoNLL-2003 Named\\nEntity Recognition (NER) task (Tjong Kim Sang\\nand De Meulder, 2003). In the input to BERT, we\\nuse a case-preserving WordPiece model, and we\\ninclude the maximal document context provided\\nby the data. Following standard practice, we for-\\nmulate this as a tagging task but do not use a CRF\\nHyperparams Dev Set Accuracy\\n#L #H #A LM (ppl) MNLI-m MRPC SST-2\\n3 768 12 5.84 77.9 79.8 88.4\\n6 768 3 5.24 80.6 82.2 90.7\\n6 768 12 4.68 81.9 84.8 91.3\\n12 768 12 3.99 84.4 86.7 92.9\\n12 1024 16 3.54 85.7 86.9 93.3\\n24 1024 16 3.23 86.6 87.8 93.7\\nTable 6: Ablation over BERT model size. #L = the\\nnumber of layers; #H = hidden size; #A = number of at-\\ntention heads. “LM (ppl)” is the masked LM perplexity\\nof held-out training data.\\nSystem Dev F1 Test F1\\nELMo (Peters et al., 2018a) 95.7 92.2\\nCVT (Clark et al., 2018) - 92.6\\nCSE (Akbik et al., 2018) - 93.1\\nFine-tuning approach\\nBERTLARGE 96.6 92.8\\nBERTBASE 96.4 92.4\\nFeature-based approach (BERTBASE )\\nEmbeddings 91.0 -\\nSecond-to-Last Hidden 95.6 -\\nLast Hidden 94.9 -\\nWeighted Sum Last Four Hidden 95.9 -\\nConcat Last Four Hidden 96.1 -\\nWeighted Sum All 12 Layers 95.5 -\\nTable 7: CoNLL-2003 Named Entity Recognition re-\\nsults. Hyperparameters were selected using the Dev\\nset. The reported Dev and Test scores are averaged over\\n5 random restarts using those hyperparameters.\\nlayer in the output. We use the representation of\\nthe ﬁrst sub-token as the input to the token-level\\nclassiﬁer over the NER label set.\\nTo ablate the ﬁne-tuning approach, we apply the\\nfeature-based approach by extracting the activa-\\ntions from one or more layers without ﬁne-tuning\\nany parameters of BERT. These contextual em-\\nbeddings are used as input to a randomly initial-\\nized two-layer 768-dimensional BiLSTM before\\nthe classiﬁcation layer.\\nResults are presented in Table 7. BERT LARGE\\nperforms competitively with state-of-the-art meth-\\nods. The best performing method concatenates the\\ntoken representations from the top four hidden lay-\\ners of the pre-trained Transformer, which is only\\n0.3 F1 behind ﬁne-tuning the entire model. This\\ndemonstrates that BERT is effective for both ﬁne-\\ntuning and feature-based approaches.\\n6 Conclusion\\nRecent empirical improvements due to transfer\\nlearning with language models have demonstrated\\nthat rich, unsupervised pre-training is an integral\\npart of many language understanding systems. In\\nparticular, these results enable even low-resource\\ntasks to beneﬁt from deep unidirectional architec-\\ntures. Our major contribution is further general-\\nizing these ﬁndings to deep bidirectional architec-\\ntures, allowing the same pre-trained model to suc-\\ncessfully tackle a broad set of NLP tasks.'),\n",
              " Document(metadata={'source': '1810.04805.pdf', 'page': 9}, page_content='References\\nAlan Akbik, Duncan Blythe, and Roland V ollgraf.\\n2018. Contextual string embeddings for sequence\\nlabeling. In Proceedings of the 27th International\\nConference on Computational Linguistics , pages\\n1638–1649.\\nRami Al-Rfou, Dokook Choe, Noah Constant, Mandy\\nGuo, and Llion Jones. 2018. Character-level lan-\\nguage modeling with deeper self-attention. arXiv\\npreprint arXiv:1808.04444.\\nRie Kubota Ando and Tong Zhang. 2005. A framework\\nfor learning predictive structures from multiple tasks\\nand unlabeled data. Journal of Machine Learning\\nResearch, 6(Nov):1817–1853.\\nLuisa Bentivogli, Bernardo Magnini, Ido Dagan,\\nHoa Trang Dang, and Danilo Giampiccolo. 2009.\\nThe ﬁfth PASCAL recognizing textual entailment\\nchallenge. In TAC. NIST.\\nJohn Blitzer, Ryan McDonald, and Fernando Pereira.\\n2006. Domain adaptation with structural correspon-\\ndence learning. In Proceedings of the 2006 confer-\\nence on empirical methods in natural language pro-\\ncessing, pages 120–128. Association for Computa-\\ntional Linguistics.\\nSamuel R. Bowman, Gabor Angeli, Christopher Potts,\\nand Christopher D. Manning. 2015. A large anno-\\ntated corpus for learning natural language inference.\\nIn EMNLP. Association for Computational Linguis-\\ntics.\\nPeter F Brown, Peter V Desouza, Robert L Mercer,\\nVincent J Della Pietra, and Jenifer C Lai. 1992.\\nClass-based n-gram models of natural language.\\nComputational linguistics, 18(4):467–479.\\nDaniel Cer, Mona Diab, Eneko Agirre, Inigo Lopez-\\nGazpio, and Lucia Specia. 2017. Semeval-2017\\ntask 1: Semantic textual similarity multilingual and\\ncrosslingual focused evaluation. In Proceedings\\nof the 11th International Workshop on Semantic\\nEvaluation (SemEval-2017) , pages 1–14, Vancou-\\nver, Canada. Association for Computational Lin-\\nguistics.\\nCiprian Chelba, Tomas Mikolov, Mike Schuster, Qi Ge,\\nThorsten Brants, Phillipp Koehn, and Tony Robin-\\nson. 2013. One billion word benchmark for measur-\\ning progress in statistical language modeling. arXiv\\npreprint arXiv:1312.3005.\\nZ. Chen, H. Zhang, X. Zhang, and L. Zhao. 2018.\\nQuora question pairs.\\nChristopher Clark and Matt Gardner. 2018. Simple\\nand effective multi-paragraph reading comprehen-\\nsion. In ACL.\\nKevin Clark, Minh-Thang Luong, Christopher D Man-\\nning, and Quoc Le. 2018. Semi-supervised se-\\nquence modeling with cross-view training. In Pro-\\nceedings of the 2018 Conference on Empirical Meth-\\nods in Natural Language Processing , pages 1914–\\n1925.\\nRonan Collobert and Jason Weston. 2008. A uniﬁed\\narchitecture for natural language processing: Deep\\nneural networks with multitask learning. In Pro-\\nceedings of the 25th international conference on\\nMachine learning, pages 160–167. ACM.\\nAlexis Conneau, Douwe Kiela, Holger Schwenk, Lo ¨ıc\\nBarrault, and Antoine Bordes. 2017. Supervised\\nlearning of universal sentence representations from\\nnatural language inference data. In Proceedings of\\nthe 2017 Conference on Empirical Methods in Nat-\\nural Language Processing, pages 670–680, Copen-\\nhagen, Denmark. Association for Computational\\nLinguistics.\\nAndrew M Dai and Quoc V Le. 2015. Semi-supervised\\nsequence learning. In Advances in neural informa-\\ntion processing systems, pages 3079–3087.\\nJ. Deng, W. Dong, R. Socher, L.-J. Li, K. Li, and L. Fei-\\nFei. 2009. ImageNet: A Large-Scale Hierarchical\\nImage Database. In CVPR09.\\nWilliam B Dolan and Chris Brockett. 2005. Automati-\\ncally constructing a corpus of sentential paraphrases.\\nIn Proceedings of the Third International Workshop\\non Paraphrasing (IWP2005).\\nWilliam Fedus, Ian Goodfellow, and Andrew M Dai.\\n2018. Maskgan: Better text generation via ﬁlling in\\nthe . arXiv preprint arXiv:1801.07736.\\nDan Hendrycks and Kevin Gimpel. 2016. Bridging\\nnonlinearities and stochastic regularizers with gaus-\\nsian error linear units. CoRR, abs/1606.08415.\\nFelix Hill, Kyunghyun Cho, and Anna Korhonen. 2016.\\nLearning distributed representations of sentences\\nfrom unlabelled data. In Proceedings of the 2016\\nConference of the North American Chapter of the\\nAssociation for Computational Linguistics: Human\\nLanguage Technologies. Association for Computa-\\ntional Linguistics.\\nJeremy Howard and Sebastian Ruder. 2018. Universal\\nlanguage model ﬁne-tuning for text classiﬁcation. In\\nACL. Association for Computational Linguistics.\\nMinghao Hu, Yuxing Peng, Zhen Huang, Xipeng Qiu,\\nFuru Wei, and Ming Zhou. 2018. Reinforced\\nmnemonic reader for machine reading comprehen-\\nsion. In IJCAI.\\nYacine Jernite, Samuel R. Bowman, and David Son-\\ntag. 2017. Discourse-based objectives for fast un-\\nsupervised sentence representation learning. CoRR,\\nabs/1705.00557.'),\n",
              " Document(metadata={'source': '1810.04805.pdf', 'page': 10}, page_content='Mandar Joshi, Eunsol Choi, Daniel S Weld, and Luke\\nZettlemoyer. 2017. Triviaqa: A large scale distantly\\nsupervised challenge dataset for reading comprehen-\\nsion. In ACL.\\nRyan Kiros, Yukun Zhu, Ruslan R Salakhutdinov,\\nRichard Zemel, Raquel Urtasun, Antonio Torralba,\\nand Sanja Fidler. 2015. Skip-thought vectors. In\\nAdvances in neural information processing systems,\\npages 3294–3302.\\nQuoc Le and Tomas Mikolov. 2014. Distributed rep-\\nresentations of sentences and documents. In Inter-\\nnational Conference on Machine Learning , pages\\n1188–1196.\\nHector J Levesque, Ernest Davis, and Leora Morgen-\\nstern. 2011. The winograd schema challenge. In\\nAaai spring symposium: Logical formalizations of\\ncommonsense reasoning, volume 46, page 47.\\nLajanugen Logeswaran and Honglak Lee. 2018. An\\nefﬁcient framework for learning sentence represen-\\ntations. In International Conference on Learning\\nRepresentations.\\nBryan McCann, James Bradbury, Caiming Xiong, and\\nRichard Socher. 2017. Learned in translation: Con-\\ntextualized word vectors. In NIPS.\\nOren Melamud, Jacob Goldberger, and Ido Dagan.\\n2016. context2vec: Learning generic context em-\\nbedding with bidirectional LSTM. In CoNLL.\\nTomas Mikolov, Ilya Sutskever, Kai Chen, Greg S Cor-\\nrado, and Jeff Dean. 2013. Distributed representa-\\ntions of words and phrases and their compositional-\\nity. In Advances in Neural Information Processing\\nSystems 26 , pages 3111–3119. Curran Associates,\\nInc.\\nAndriy Mnih and Geoffrey E Hinton. 2009. A scal-\\nable hierarchical distributed language model. In\\nD. Koller, D. Schuurmans, Y . Bengio, and L. Bot-\\ntou, editors, Advances in Neural Information Pro-\\ncessing Systems 21 , pages 1081–1088. Curran As-\\nsociates, Inc.\\nAnkur P Parikh, Oscar T ¨ackstr¨om, Dipanjan Das, and\\nJakob Uszkoreit. 2016. A decomposable attention\\nmodel for natural language inference. In EMNLP.\\nJeffrey Pennington, Richard Socher, and Christo-\\npher D. Manning. 2014. Glove: Global vectors for\\nword representation. In Empirical Methods in Nat-\\nural Language Processing (EMNLP) , pages 1532–\\n1543.\\nMatthew Peters, Waleed Ammar, Chandra Bhagavat-\\nula, and Russell Power. 2017. Semi-supervised se-\\nquence tagging with bidirectional language models.\\nIn ACL.\\nMatthew Peters, Mark Neumann, Mohit Iyyer, Matt\\nGardner, Christopher Clark, Kenton Lee, and Luke\\nZettlemoyer. 2018a. Deep contextualized word rep-\\nresentations. In NAACL.\\nMatthew Peters, Mark Neumann, Luke Zettlemoyer,\\nand Wen-tau Yih. 2018b. Dissecting contextual\\nword embeddings: Architecture and representation.\\nIn Proceedings of the 2018 Conference on Empiri-\\ncal Methods in Natural Language Processing, pages\\n1499–1509.\\nAlec Radford, Karthik Narasimhan, Tim Salimans, and\\nIlya Sutskever. 2018. Improving language under-\\nstanding with unsupervised learning. Technical re-\\nport, OpenAI.\\nPranav Rajpurkar, Jian Zhang, Konstantin Lopyrev, and\\nPercy Liang. 2016. Squad: 100,000+ questions for\\nmachine comprehension of text. In Proceedings of\\nthe 2016 Conference on Empirical Methods in Nat-\\nural Language Processing, pages 2383–2392.\\nMinjoon Seo, Aniruddha Kembhavi, Ali Farhadi, and\\nHannaneh Hajishirzi. 2017. Bidirectional attention\\nﬂow for machine comprehension. In ICLR.\\nRichard Socher, Alex Perelygin, Jean Wu, Jason\\nChuang, Christopher D Manning, Andrew Ng, and\\nChristopher Potts. 2013. Recursive deep models\\nfor semantic compositionality over a sentiment tree-\\nbank. In Proceedings of the 2013 conference on\\nempirical methods in natural language processing ,\\npages 1631–1642.\\nFu Sun, Linyang Li, Xipeng Qiu, and Yang Liu.\\n2018. U-net: Machine reading comprehension\\nwith unanswerable questions. arXiv preprint\\narXiv:1810.06638.\\nWilson L Taylor. 1953. Cloze procedure: A new\\ntool for measuring readability. Journalism Bulletin,\\n30(4):415–433.\\nErik F Tjong Kim Sang and Fien De Meulder.\\n2003. Introduction to the conll-2003 shared task:\\nLanguage-independent named entity recognition. In\\nCoNLL.\\nJoseph Turian, Lev Ratinov, and Yoshua Bengio. 2010.\\nWord representations: A simple and general method\\nfor semi-supervised learning. In Proceedings of the\\n48th Annual Meeting of the Association for Compu-\\ntational Linguistics, ACL ’10, pages 384–394.\\nAshish Vaswani, Noam Shazeer, Niki Parmar, Jakob\\nUszkoreit, Llion Jones, Aidan N Gomez, Lukasz\\nKaiser, and Illia Polosukhin. 2017. Attention is all\\nyou need. In Advances in Neural Information Pro-\\ncessing Systems, pages 6000–6010.\\nPascal Vincent, Hugo Larochelle, Yoshua Bengio, and\\nPierre-Antoine Manzagol. 2008. Extracting and\\ncomposing robust features with denoising autoen-\\ncoders. In Proceedings of the 25th international\\nconference on Machine learning, pages 1096–1103.\\nACM.\\nAlex Wang, Amanpreet Singh, Julian Michael, Fe-\\nlix Hill, Omer Levy, and Samuel Bowman. 2018a.\\nGlue: A multi-task benchmark and analysis platform'),\n",
              " Document(metadata={'source': '1810.04805.pdf', 'page': 11}, page_content='for natural language understanding. In Proceedings\\nof the 2018 EMNLP Workshop BlackboxNLP: An-\\nalyzing and Interpreting Neural Networks for NLP ,\\npages 353–355.\\nWei Wang, Ming Yan, and Chen Wu. 2018b. Multi-\\ngranularity hierarchical attention fusion networks\\nfor reading comprehension and question answering.\\nIn Proceedings of the 56th Annual Meeting of the As-\\nsociation for Computational Linguistics (Volume 1:\\nLong Papers). Association for Computational Lin-\\nguistics.\\nAlex Warstadt, Amanpreet Singh, and Samuel R Bow-\\nman. 2018. Neural network acceptability judg-\\nments. arXiv preprint arXiv:1805.12471.\\nAdina Williams, Nikita Nangia, and Samuel R Bow-\\nman. 2018. A broad-coverage challenge corpus\\nfor sentence understanding through inference. In\\nNAACL.\\nYonghui Wu, Mike Schuster, Zhifeng Chen, Quoc V\\nLe, Mohammad Norouzi, Wolfgang Macherey,\\nMaxim Krikun, Yuan Cao, Qin Gao, Klaus\\nMacherey, et al. 2016. Google’s neural ma-\\nchine translation system: Bridging the gap between\\nhuman and machine translation. arXiv preprint\\narXiv:1609.08144.\\nJason Yosinski, Jeff Clune, Yoshua Bengio, and Hod\\nLipson. 2014. How transferable are features in deep\\nneural networks? In Advances in neural information\\nprocessing systems, pages 3320–3328.\\nAdams Wei Yu, David Dohan, Minh-Thang Luong, Rui\\nZhao, Kai Chen, Mohammad Norouzi, and Quoc V\\nLe. 2018. QANet: Combining local convolution\\nwith global self-attention for reading comprehen-\\nsion. In ICLR.\\nRowan Zellers, Yonatan Bisk, Roy Schwartz, and Yejin\\nChoi. 2018. Swag: A large-scale adversarial dataset\\nfor grounded commonsense inference. In Proceed-\\nings of the 2018 Conference on Empirical Methods\\nin Natural Language Processing (EMNLP).\\nYukun Zhu, Ryan Kiros, Rich Zemel, Ruslan Salakhut-\\ndinov, Raquel Urtasun, Antonio Torralba, and Sanja\\nFidler. 2015. Aligning books and movies: Towards\\nstory-like visual explanations by watching movies\\nand reading books. In Proceedings of the IEEE\\ninternational conference on computer vision , pages\\n19–27.\\nAppendix for “BERT: Pre-training of\\nDeep Bidirectional Transformers for\\nLanguage Understanding”\\nWe organize the appendix into three sections:\\n• Additional implementation details for BERT\\nare presented in Appendix A;\\n• Additional details for our experiments are\\npresented in Appendix B; and\\n• Additional ablation studies are presented in\\nAppendix C.\\nWe present additional ablation studies for\\nBERT including:\\n– Effect of Number of Training Steps; and\\n– Ablation for Different Masking Proce-\\ndures.\\nA Additional Details for BERT\\nA.1 Illustration of the Pre-training Tasks\\nWe provide examples of the pre-training tasks in\\nthe following.\\nMasked LM and the Masking ProcedureAs-\\nsuming the unlabeled sentence is my dog is\\nhairy, and during the random masking procedure\\nwe chose the 4-th token (which corresponding to\\nhairy), our masking procedure can be further il-\\nlustrated by\\n• 80% of the time: Replace the word with the\\n[MASK] token, e.g., my dog is hairy →\\nmy dog is [MASK]\\n• 10% of the time: Replace the word with a\\nrandom word, e.g., my dog is hairy → my\\ndog is apple\\n• 10% of the time: Keep the word un-\\nchanged, e.g., my dog is hairy → my dog\\nis hairy. The purpose of this is to bias the\\nrepresentation towards the actual observed\\nword.\\nThe advantage of this procedure is that the\\nTransformer encoder does not know which words\\nit will be asked to predict or which have been re-\\nplaced by random words, so it is forced to keep\\na distributional contextual representation of ev-\\nery input token. Additionally, because random\\nreplacement only occurs for 1.5% of all tokens\\n(i.e., 10% of 15%), this does not seem to harm\\nthe model’s language understanding capability. In\\nSection C.2, we evaluate the impact this proce-\\ndure.\\nCompared to standard langauge model training,\\nthe masked LM only make predictions on 15% of\\ntokens in each batch, which suggests that more\\npre-training steps may be required for the model'),\n",
              " Document(metadata={'source': '1810.04805.pdf', 'page': 12}, page_content='BERT (Ours)\\nTrm Trm Trm\\nTrm Trm Trm\\n...\\n...\\nTrm Trm Trm\\nTrm Trm Trm\\n...\\n...\\nOpenAI GPT\\nLstm\\nELMo\\nLstm Lstm\\nLstm Lstm Lstm\\nLstm Lstm Lstm\\nLstm Lstm Lstm\\n T1 T2  TN...\\n...\\n...\\n...\\n...\\n E1 E2  EN...\\n T1 T2 TN...\\n E1 E2  EN...\\n T1 T2  TN...\\n E1 E2  EN...\\nFigure 3: Differences in pre-training model architectures. BERT uses a bidirectional Transformer. OpenAI GPT\\nuses a left-to-right Transformer. ELMo uses the concatenation of independently trained left-to-right and right-to-\\nleft LSTMs to generate features for downstream tasks. Among the three, only BERT representations are jointly\\nconditioned on both left and right context in all layers. In addition to the architecture differences, BERT and\\nOpenAI GPT are ﬁne-tuning approaches, while ELMo is a feature-based approach.\\nto converge. In Section C.1 we demonstrate that\\nMLM does converge marginally slower than a left-\\nto-right model (which predicts every token), but\\nthe empirical improvements of the MLM model\\nfar outweigh the increased training cost.\\nNext Sentence Prediction The next sentence\\nprediction task can be illustrated in the following\\nexamples.\\nInput = [CLS] the man went to [MASK] store [SEP]\\nhe bought a gallon [MASK] milk [SEP]\\nLabel = IsNext\\nInput = [CLS] the man [MASK] to the store [SEP]\\npenguin [MASK] are flight ##less birds [SEP]\\nLabel = NotNext\\nA.2 Pre-training Procedure\\nTo generate each training input sequence, we sam-\\nple two spans of text from the corpus, which we\\nrefer to as “sentences” even though they are typ-\\nically much longer than single sentences (but can\\nbe shorter also). The ﬁrst sentence receives the A\\nembedding and the second receives the B embed-\\nding. 50% of the time B is the actual next sentence\\nthat follows A and 50% of the time it is a random\\nsentence, which is done for the “next sentence pre-\\ndiction” task. They are sampled such that the com-\\nbined length is ≤512 tokens. The LM masking is\\napplied after WordPiece tokenization with a uni-\\nform masking rate of 15%, and no special consid-\\neration given to partial word pieces.\\nWe train with batch size of 256 sequences (256\\nsequences * 512 tokens = 128,000 tokens/batch)\\nfor 1,000,000 steps, which is approximately 40\\nepochs over the 3.3 billion word corpus. We\\nuse Adam with learning rate of 1e-4, β1 = 0.9,\\nβ2 = 0.999, L2 weight decay of 0.01, learning\\nrate warmup over the ﬁrst 10,000 steps, and linear\\ndecay of the learning rate. We use a dropout prob-\\nability of 0.1 on all layers. We use a gelu acti-\\nvation (Hendrycks and Gimpel, 2016) rather than\\nthe standard relu, following OpenAI GPT. The\\ntraining loss is the sum of the mean masked LM\\nlikelihood and the mean next sentence prediction\\nlikelihood.\\nTraining of BERT BASE was performed on 4\\nCloud TPUs in Pod conﬁguration (16 TPU chips\\ntotal).13 Training of BERTLARGE was performed\\non 16 Cloud TPUs (64 TPU chips total). Each pre-\\ntraining took 4 days to complete.\\nLonger sequences are disproportionately expen-\\nsive because attention is quadratic to the sequence\\nlength. To speed up pretraing in our experiments,\\nwe pre-train the model with sequence length of\\n128 for 90% of the steps. Then, we train the rest\\n10% of the steps of sequence of 512 to learn the\\npositional embeddings.\\nA.3 Fine-tuning Procedure\\nFor ﬁne-tuning, most model hyperparameters are\\nthe same as in pre-training, with the exception of\\nthe batch size, learning rate, and number of train-\\ning epochs. The dropout probability was always\\nkept at 0.1. The optimal hyperparameter values\\nare task-speciﬁc, but we found the following range\\nof possible values to work well across all tasks:\\n• Batch size: 16, 32\\n13https://cloudplatform.googleblog.com/2018/06/Cloud-\\nTPU-now-offers-preemptible-pricing-and-global-\\navailability.html'),\n",
              " Document(metadata={'source': '1810.04805.pdf', 'page': 13}, page_content='• Learning rate (Adam): 5e-5, 3e-5, 2e-5\\n• Number of epochs: 2, 3, 4\\nWe also observed that large data sets (e.g.,\\n100k+ labeled training examples) were far less\\nsensitive to hyperparameter choice than small data\\nsets. Fine-tuning is typically very fast, so it is rea-\\nsonable to simply run an exhaustive search over\\nthe above parameters and choose the model that\\nperforms best on the development set.\\nA.4 Comparison of BERT, ELMo ,and\\nOpenAI GPT\\nHere we studies the differences in recent popular\\nrepresentation learning models including ELMo,\\nOpenAI GPT and BERT. The comparisons be-\\ntween the model architectures are shown visually\\nin Figure 3. Note that in addition to the architec-\\nture differences, BERT and OpenAI GPT are ﬁne-\\ntuning approaches, while ELMo is a feature-based\\napproach.\\nThe most comparable existing pre-training\\nmethod to BERT is OpenAI GPT, which trains a\\nleft-to-right Transformer LM on a large text cor-\\npus. In fact, many of the design decisions in BERT\\nwere intentionally made to make it as close to\\nGPT as possible so that the two methods could be\\nminimally compared. The core argument of this\\nwork is that the bi-directionality and the two pre-\\ntraining tasks presented in Section 3.1 account for\\nthe majority of the empirical improvements, but\\nwe do note that there are several other differences\\nbetween how BERT and GPT were trained:\\n• GPT is trained on the BooksCorpus (800M\\nwords); BERT is trained on the BooksCor-\\npus (800M words) and Wikipedia (2,500M\\nwords).\\n• GPT uses a sentence separator ( [SEP]) and\\nclassiﬁer token ( [CLS]) which are only in-\\ntroduced at ﬁne-tuning time; BERT learns\\n[SEP], [CLS] and sentence A/B embed-\\ndings during pre-training.\\n• GPT was trained for 1M steps with a batch\\nsize of 32,000 words; BERT was trained for\\n1M steps with a batch size of 128,000 words.\\n• GPT used the same learning rate of 5e-5 for\\nall ﬁne-tuning experiments; BERT chooses a\\ntask-speciﬁc ﬁne-tuning learning rate which\\nperforms the best on the development set.\\nTo isolate the effect of these differences, we per-\\nform ablation experiments in Section 5.1 which\\ndemonstrate that the majority of the improvements\\nare in fact coming from the two pre-training tasks\\nand the bidirectionality they enable.\\nA.5 Illustrations of Fine-tuning on Different\\nTasks\\nThe illustration of ﬁne-tuning BERT on different\\ntasks can be seen in Figure 4. Our task-speciﬁc\\nmodels are formed by incorporating BERT with\\none additional output layer, so a minimal num-\\nber of parameters need to be learned from scratch.\\nAmong the tasks, (a) and (b) are sequence-level\\ntasks while (c) and (d) are token-level tasks. In\\nthe ﬁgure, E represents the input embedding, Ti\\nrepresents the contextual representation of tokeni,\\n[CLS] is the special symbol for classiﬁcation out-\\nput, and [SEP] is the special symbol to separate\\nnon-consecutive token sequences.\\nB Detailed Experimental Setup\\nB.1 Detailed Descriptions for the GLUE\\nBenchmark Experiments.\\nOur GLUE results in Table1 are obtained\\nfrom https://gluebenchmark.com/\\nleaderboard and https://blog.\\nopenai.com/language-unsupervised.\\nThe GLUE benchmark includes the following\\ndatasets, the descriptions of which were originally\\nsummarized in Wang et al. (2018a):\\nMNLI Multi-Genre Natural Language Inference\\nis a large-scale, crowdsourced entailment classiﬁ-\\ncation task (Williams et al., 2018). Given a pair of\\nsentences, the goal is to predict whether the sec-\\nond sentence is an entailment, contradiction, or\\nneutral with respect to the ﬁrst one.\\nQQP Quora Question Pairs is a binary classiﬁ-\\ncation task where the goal is to determine if two\\nquestions asked on Quora are semantically equiv-\\nalent (Chen et al., 2018).\\nQNLI Question Natural Language Inference is\\na version of the Stanford Question Answering\\nDataset (Rajpurkar et al., 2016) which has been\\nconverted to a binary classiﬁcation task (Wang\\net al., 2018a). The positive examples are (ques-\\ntion, sentence) pairs which do contain the correct\\nanswer, and the negative examples are (question,\\nsentence) from the same paragraph which do not\\ncontain the answer.'),\n",
              " Document(metadata={'source': '1810.04805.pdf', 'page': 14}, page_content='BERT\\nE[CLS] E1  E[SEP]... EN E1’ ... EM’\\nC\\n T1\\n T[SEP]...\\n TN\\n T1’ ...\\n TM’\\n[CLS] Tok \\n1\\n [SEP]... Tok \\nN\\nTok \\n1 ... Tok\\nM\\nQuestion Paragraph\\nBERT\\nE[CLS] E1  E2  EN\\nC\\n T1\\n  T2\\n  TN\\nSingle Sentence \\n...\\n...\\nBERT\\nTok 1  Tok 2  Tok N...[CLS]\\nE[CLS] E1  E2  EN\\nC\\n T1\\n  T2\\n  TN\\nSingle Sentence \\nB-PERO O\\n...\\n...E[CLS] E1  E[SEP]\\nClass \\nLabel\\n... EN E1’ ... EM’\\nC\\n T1\\n T[SEP]...\\n TN\\n T1’ ...\\n TM’\\nStart/End Span\\nClass \\nLabel\\nBERT\\nTok 1  Tok 2  Tok N...[CLS] Tok 1[CLS][CLS] Tok \\n1\\n [SEP]... Tok \\nN\\nTok \\n1 ... Tok\\nM\\nSentence 1\\n...\\nSentence 2\\nFigure 4: Illustrations of Fine-tuning BERT on Different Tasks.\\nSST-2 The Stanford Sentiment Treebank is a\\nbinary single-sentence classiﬁcation task consist-\\ning of sentences extracted from movie reviews\\nwith human annotations of their sentiment (Socher\\net al., 2013).\\nCoLA The Corpus of Linguistic Acceptability is\\na binary single-sentence classiﬁcation task, where\\nthe goal is to predict whether an English sentence\\nis linguistically “acceptable” or not (Warstadt\\net al., 2018).\\nSTS-B The Semantic Textual Similarity Bench-\\nmark is a collection of sentence pairs drawn from\\nnews headlines and other sources (Cer et al.,\\n2017). They were annotated with a score from 1\\nto 5 denoting how similar the two sentences are in\\nterms of semantic meaning.\\nMRPC Microsoft Research Paraphrase Corpus\\nconsists of sentence pairs automatically extracted\\nfrom online news sources, with human annotations\\nfor whether the sentences in the pair are semanti-\\ncally equivalent (Dolan and Brockett, 2005).\\nRTE Recognizing Textual Entailment is a bi-\\nnary entailment task similar to MNLI, but with\\nmuch less training data (Bentivogli et al., 2009).14\\nWNLI Winograd NLI is a small natural lan-\\nguage inference dataset (Levesque et al., 2011).\\nThe GLUE webpage notes that there are issues\\nwith the construction of this dataset, 15 and every\\ntrained system that’s been submitted to GLUE has\\nperformed worse than the 65.1 baseline accuracy\\nof predicting the majority class. We therefore ex-\\nclude this set to be fair to OpenAI GPT. For our\\nGLUE submission, we always predicted the ma-\\n14Note that we only report single-task ﬁne-tuning results\\nin this paper. A multitask ﬁne-tuning approach could poten-\\ntially push the performance even further. For example, we\\ndid observe substantial improvements on RTE from multi-\\ntask training with MNLI.\\n15https://gluebenchmark.com/faq'),\n",
              " Document(metadata={'source': '1810.04805.pdf', 'page': 15}, page_content='jority class.\\nC Additional Ablation Studies\\nC.1 Effect of Number of Training Steps\\nFigure 5 presents MNLI Dev accuracy after ﬁne-\\ntuning from a checkpoint that has been pre-trained\\nfor ksteps. This allows us to answer the following\\nquestions:\\n1. Question: Does BERT really need such\\na large amount of pre-training (128,000\\nwords/batch * 1,000,000 steps) to achieve\\nhigh ﬁne-tuning accuracy?\\nAnswer: Yes, BERT BASE achieves almost\\n1.0% additional accuracy on MNLI when\\ntrained on 1M steps compared to 500k steps.\\n2. Question: Does MLM pre-training converge\\nslower than LTR pre-training, since only 15%\\nof words are predicted in each batch rather\\nthan every word?\\nAnswer: The MLM model does converge\\nslightly slower than the LTR model. How-\\never, in terms of absolute accuracy the MLM\\nmodel begins to outperform the LTR model\\nalmost immediately.\\nC.2 Ablation for Different Masking\\nProcedures\\nIn Section 3.1, we mention that BERT uses a\\nmixed strategy for masking the target tokens when\\npre-training with the masked language model\\n(MLM) objective. The following is an ablation\\nstudy to evaluate the effect of different masking\\nstrategies.\\n200 400 600 800 1,000\\n76\\n78\\n80\\n82\\n84\\nPre-training Steps (Thousands)\\nMNLI Dev Accuracy\\nBERTBASE (Masked LM)\\nBERTBASE (Left-to-Right)\\nFigure 5: Ablation over number of training steps. This\\nshows the MNLI accuracy after ﬁne-tuning, starting\\nfrom model parameters that have been pre-trained for\\nksteps. The x-axis is the value of k.\\nNote that the purpose of the masking strategies\\nis to reduce the mismatch between pre-training\\nand ﬁne-tuning, as the [MASK] symbol never ap-\\npears during the ﬁne-tuning stage. We report the\\nDev results for both MNLI and NER. For NER,\\nwe report both ﬁne-tuning and feature-based ap-\\nproaches, as we expect the mismatch will be am-\\npliﬁed for the feature-based approach as the model\\nwill not have the chance to adjust the representa-\\ntions.\\nMasking Rates Dev Set Results\\nMASK SAME RND MNLI NER\\nFine-tune Fine-tune Feature-based\\n80% 10% 10% 84.2 95.4 94.9\\n100% 0% 0% 84.3 94.9 94.0\\n80% 0% 20% 84.1 95.2 94.6\\n80% 20% 0% 84.4 95.2 94.7\\n0% 20% 80% 83.7 94.8 94.6\\n0% 0% 100% 83.6 94.9 94.6\\nTable 8: Ablation over different masking strategies.\\nThe results are presented in Table 8. In the table,\\nMASK means that we replace the target token with\\nthe [MASK] symbol for MLM; SAME means that\\nwe keep the target token as is; R ND means that\\nwe replace the target token with another random\\ntoken.\\nThe numbers in the left part of the table repre-\\nsent the probabilities of the speciﬁc strategies used\\nduring MLM pre-training (BERT uses 80%, 10%,\\n10%). The right part of the paper represents the\\nDev set results. For the feature-based approach,\\nwe concatenate the last 4 layers of BERT as the\\nfeatures, which was shown to be the best approach\\nin Section 5.3.\\nFrom the table it can be seen that ﬁne-tuning is\\nsurprisingly robust to different masking strategies.\\nHowever, as expected, using only the MASK strat-\\negy was problematic when applying the feature-\\nbased approach to NER. Interestingly, using only\\nthe R ND strategy performs much worse than our\\nstrategy as well.')]"
            ]
          },
          "metadata": {},
          "execution_count": 26
        }
      ]
    },
    {
      "cell_type": "code",
      "source": [
        "print(type(documents))"
      ],
      "metadata": {
        "colab": {
          "base_uri": "https://localhost:8080/"
        },
        "id": "ULjK2ogI4Kyb",
        "outputId": "423d8275-9dfe-452d-96b6-77bb13a4a214"
      },
      "execution_count": 25,
      "outputs": [
        {
          "output_type": "stream",
          "name": "stdout",
          "text": [
            "<class 'list'>\n"
          ]
        }
      ]
    },
    {
      "cell_type": "code",
      "source": [
        "text_splitter = RecursiveCharacterTextSplitter(chunk_size = 1000,\n",
        "                                               chunk_overlap =0,\n",
        "                                               length_function = len,\n",
        "                                               is_separator_regex = False)\n",
        "naive_chunks =  text_splitter.split_documents(documents)\n"
      ],
      "metadata": {
        "id": "HtdCAGGUiy-O"
      },
      "execution_count": 9,
      "outputs": []
    },
    {
      "cell_type": "code",
      "source": [
        "for chunk in naive_chunks[10:15]:\n",
        "  print(chunk.page_content+ \"\\n\")\n",
        ""
      ],
      "metadata": {
        "colab": {
          "base_uri": "https://localhost:8080/"
        },
        "id": "6U3zK5HZspSR",
        "outputId": "083f5fad-1af4-48cb-af88-11b5aadd45ec"
      },
      "execution_count": 10,
      "outputs": [
        {
          "output_type": "stream",
          "name": "stdout",
          "text": [
            "BERT BERT\n",
            "E[CLS] E1  E[SEP]... EN E1’ ... EM’\n",
            "C\n",
            " T1\n",
            " T[SEP]...\n",
            " TN\n",
            " T1’ ...\n",
            " TM’\n",
            "[CLS] Tok 1  [SEP]... Tok N Tok 1 ... TokM\n",
            "Question Paragraph\n",
            "Start/End Span\n",
            "BERT\n",
            "E[CLS] E1  E[SEP]... EN E1’ ... EM’\n",
            "C\n",
            " T1\n",
            " T[SEP]...\n",
            " TN\n",
            " T1’ ...\n",
            " TM’\n",
            "[CLS] Tok 1  [SEP]... Tok N Tok 1 ... TokM\n",
            "Masked Sentence A Masked Sentence B\n",
            "Pre-training Fine-Tuning\n",
            "NSP Mask LM Mask LM\n",
            "Unlabeled Sentence A and B Pair \n",
            "SQuAD\n",
            "Question Answer Pair\n",
            "NERMNLI\n",
            "Figure 1: Overall pre-training and ﬁne-tuning procedures for BERT. Apart from output layers, the same architec-\n",
            "tures are used in both pre-training and ﬁne-tuning. The same pre-trained model parameters are used to initialize\n",
            "models for different down-stream tasks. During ﬁne-tuning, all parameters are ﬁne-tuned. [CLS] is a special\n",
            "symbol added in front of every input example, and [SEP] is a special separator token (e.g. separating ques-\n",
            "tions/answers).\n",
            "ing and auto-encoder objectives have been used\n",
            "for pre-training such models (Howard and Ruder,\n",
            "\n",
            "2018; Radford et al., 2018; Dai and Le, 2015).\n",
            "2.3 Transfer Learning from Supervised Data\n",
            "There has also been work showing effective trans-\n",
            "fer from supervised tasks with large datasets, such\n",
            "as natural language inference (Conneau et al.,\n",
            "2017) and machine translation (McCann et al.,\n",
            "2017). Computer vision research has also demon-\n",
            "strated the importance of transfer learning from\n",
            "large pre-trained models, where an effective recipe\n",
            "is to ﬁne-tune models pre-trained with Ima-\n",
            "geNet (Deng et al., 2009; Yosinski et al., 2014).\n",
            "3 BERT\n",
            "We introduce BERT and its detailed implementa-\n",
            "tion in this section. There are two steps in our\n",
            "framework: pre-training and ﬁne-tuning. Dur-\n",
            "ing pre-training, the model is trained on unlabeled\n",
            "data over different pre-training tasks. For ﬁne-\n",
            "tuning, the BERT model is ﬁrst initialized with\n",
            "the pre-trained parameters, and all of the param-\n",
            "eters are ﬁne-tuned using labeled data from the\n",
            "downstream tasks. Each downstream task has sep-\n",
            "\n",
            "arate ﬁne-tuned models, even though they are ini-\n",
            "tialized with the same pre-trained parameters. The\n",
            "question-answering example in Figure 1 will serve\n",
            "as a running example for this section.\n",
            "A distinctive feature of BERT is its uniﬁed ar-\n",
            "chitecture across different tasks. There is mini-\n",
            "mal difference between the pre-trained architec-\n",
            "ture and the ﬁnal downstream architecture.\n",
            "Model Architecture BERT’s model architec-\n",
            "ture is a multi-layer bidirectional Transformer en-\n",
            "coder based on the original implementation de-\n",
            "scribed in Vaswani et al. (2017) and released in\n",
            "the tensor2tensor library.1 Because the use\n",
            "of Transformers has become common and our im-\n",
            "plementation is almost identical to the original,\n",
            "we will omit an exhaustive background descrip-\n",
            "tion of the model architecture and refer readers to\n",
            "Vaswani et al. (2017) as well as excellent guides\n",
            "such as “The Annotated Transformer.”2\n",
            "In this work, we denote the number of layers\n",
            "(i.e., Transformer blocks) as L, the hidden size as\n",
            "\n",
            "H, and the number of self-attention heads as A.3\n",
            "We primarily report results on two model sizes:\n",
            "BERTBASE (L=12, H=768, A=12, Total Param-\n",
            "eters=110M) and BERTLARGE (L=24, H=1024,\n",
            "A=16, Total Parameters=340M).\n",
            "BERTBASE was chosen to have the same model\n",
            "size as OpenAI GPT for comparison purposes.\n",
            "Critically, however, the BERT Transformer uses\n",
            "bidirectional self-attention, while the GPT Trans-\n",
            "former uses constrained self-attention where every\n",
            "token can only attend to context to its left.4\n",
            "1https://github.com/tensorﬂow/tensor2tensor\n",
            "2http://nlp.seas.harvard.edu/2018/04/03/attention.html\n",
            "3In all cases we set the feed-forward/ﬁlter size to be 4H,\n",
            "i.e., 3072 for the H = 768and 4096 for the H = 1024.\n",
            "4We note that in the literature the bidirectional Trans-\n",
            "\n",
            "Input/Output Representations To make BERT\n",
            "handle a variety of down-stream tasks, our input\n",
            "representation is able to unambiguously represent\n",
            "both a single sentence and a pair of sentences\n",
            "(e.g., ⟨Question, Answer ⟩) in one token sequence.\n",
            "Throughout this work, a “sentence” can be an arbi-\n",
            "trary span of contiguous text, rather than an actual\n",
            "linguistic sentence. A “sequence” refers to the in-\n",
            "put token sequence to BERT, which may be a sin-\n",
            "gle sentence or two sentences packed together.\n",
            "We use WordPiece embeddings (Wu et al.,\n",
            "2016) with a 30,000 token vocabulary. The ﬁrst\n",
            "token of every sequence is always a special clas-\n",
            "siﬁcation token ( [CLS]). The ﬁnal hidden state\n",
            "corresponding to this token is used as the ag-\n",
            "gregate sequence representation for classiﬁcation\n",
            "tasks. Sentence pairs are packed together into a\n",
            "single sequence. We differentiate the sentences in\n",
            "two ways. First, we separate them with a special\n",
            "token ([SEP]). Second, we add a learned embed-\n",
            "\n"
          ]
        }
      ]
    },
    {
      "cell_type": "code",
      "source": [
        "pip install langchain transformers sentence_transformers"
      ],
      "metadata": {
        "colab": {
          "base_uri": "https://localhost:8080/"
        },
        "collapsed": true,
        "id": "1WSfRoVf2d5M",
        "outputId": "922bafe2-5795-424b-b14d-d344d4c9e5ad"
      },
      "execution_count": 18,
      "outputs": [
        {
          "output_type": "stream",
          "name": "stdout",
          "text": [
            "Requirement already satisfied: langchain in /usr/local/lib/python3.10/dist-packages (0.3.7)\n",
            "Requirement already satisfied: transformers in /usr/local/lib/python3.10/dist-packages (4.44.2)\n",
            "Requirement already satisfied: sentence_transformers in /usr/local/lib/python3.10/dist-packages (3.2.1)\n",
            "Requirement already satisfied: PyYAML>=5.3 in /usr/local/lib/python3.10/dist-packages (from langchain) (6.0.2)\n",
            "Requirement already satisfied: SQLAlchemy<3,>=1.4 in /usr/local/lib/python3.10/dist-packages (from langchain) (2.0.35)\n",
            "Requirement already satisfied: aiohttp<4.0.0,>=3.8.3 in /usr/local/lib/python3.10/dist-packages (from langchain) (3.10.10)\n",
            "Requirement already satisfied: async-timeout<5.0.0,>=4.0.0 in /usr/local/lib/python3.10/dist-packages (from langchain) (4.0.3)\n",
            "Requirement already satisfied: langchain-core<0.4.0,>=0.3.15 in /usr/local/lib/python3.10/dist-packages (from langchain) (0.3.15)\n",
            "Requirement already satisfied: langchain-text-splitters<0.4.0,>=0.3.0 in /usr/local/lib/python3.10/dist-packages (from langchain) (0.3.0)\n",
            "Requirement already satisfied: langsmith<0.2.0,>=0.1.17 in /usr/local/lib/python3.10/dist-packages (from langchain) (0.1.137)\n",
            "Requirement already satisfied: numpy<2,>=1 in /usr/local/lib/python3.10/dist-packages (from langchain) (1.26.4)\n",
            "Requirement already satisfied: pydantic<3.0.0,>=2.7.4 in /usr/local/lib/python3.10/dist-packages (from langchain) (2.9.2)\n",
            "Requirement already satisfied: requests<3,>=2 in /usr/local/lib/python3.10/dist-packages (from langchain) (2.32.3)\n",
            "Requirement already satisfied: tenacity!=8.4.0,<10,>=8.1.0 in /usr/local/lib/python3.10/dist-packages (from langchain) (9.0.0)\n",
            "Requirement already satisfied: filelock in /usr/local/lib/python3.10/dist-packages (from transformers) (3.16.1)\n",
            "Requirement already satisfied: huggingface-hub<1.0,>=0.23.2 in /usr/local/lib/python3.10/dist-packages (from transformers) (0.24.7)\n",
            "Requirement already satisfied: packaging>=20.0 in /usr/local/lib/python3.10/dist-packages (from transformers) (24.1)\n",
            "Requirement already satisfied: regex!=2019.12.17 in /usr/local/lib/python3.10/dist-packages (from transformers) (2024.9.11)\n",
            "Requirement already satisfied: safetensors>=0.4.1 in /usr/local/lib/python3.10/dist-packages (from transformers) (0.4.5)\n",
            "Requirement already satisfied: tokenizers<0.20,>=0.19 in /usr/local/lib/python3.10/dist-packages (from transformers) (0.19.1)\n",
            "Requirement already satisfied: tqdm>=4.27 in /usr/local/lib/python3.10/dist-packages (from transformers) (4.66.6)\n",
            "Requirement already satisfied: torch>=1.11.0 in /usr/local/lib/python3.10/dist-packages (from sentence_transformers) (2.5.0+cu121)\n",
            "Requirement already satisfied: scikit-learn in /usr/local/lib/python3.10/dist-packages (from sentence_transformers) (1.5.2)\n",
            "Requirement already satisfied: scipy in /usr/local/lib/python3.10/dist-packages (from sentence_transformers) (1.13.1)\n",
            "Requirement already satisfied: Pillow in /usr/local/lib/python3.10/dist-packages (from sentence_transformers) (10.4.0)\n",
            "Requirement already satisfied: aiohappyeyeballs>=2.3.0 in /usr/local/lib/python3.10/dist-packages (from aiohttp<4.0.0,>=3.8.3->langchain) (2.4.3)\n",
            "Requirement already satisfied: aiosignal>=1.1.2 in /usr/local/lib/python3.10/dist-packages (from aiohttp<4.0.0,>=3.8.3->langchain) (1.3.1)\n",
            "Requirement already satisfied: attrs>=17.3.0 in /usr/local/lib/python3.10/dist-packages (from aiohttp<4.0.0,>=3.8.3->langchain) (24.2.0)\n",
            "Requirement already satisfied: frozenlist>=1.1.1 in /usr/local/lib/python3.10/dist-packages (from aiohttp<4.0.0,>=3.8.3->langchain) (1.5.0)\n",
            "Requirement already satisfied: multidict<7.0,>=4.5 in /usr/local/lib/python3.10/dist-packages (from aiohttp<4.0.0,>=3.8.3->langchain) (6.1.0)\n",
            "Requirement already satisfied: yarl<2.0,>=1.12.0 in /usr/local/lib/python3.10/dist-packages (from aiohttp<4.0.0,>=3.8.3->langchain) (1.17.0)\n",
            "Requirement already satisfied: fsspec>=2023.5.0 in /usr/local/lib/python3.10/dist-packages (from huggingface-hub<1.0,>=0.23.2->transformers) (2024.9.0)\n",
            "Requirement already satisfied: typing-extensions>=3.7.4.3 in /usr/local/lib/python3.10/dist-packages (from huggingface-hub<1.0,>=0.23.2->transformers) (4.12.2)\n",
            "Requirement already satisfied: jsonpatch<2.0,>=1.33 in /usr/local/lib/python3.10/dist-packages (from langchain-core<0.4.0,>=0.3.15->langchain) (1.33)\n",
            "Requirement already satisfied: httpx<1,>=0.23.0 in /usr/local/lib/python3.10/dist-packages (from langsmith<0.2.0,>=0.1.17->langchain) (0.27.2)\n",
            "Requirement already satisfied: orjson<4.0.0,>=3.9.14 in /usr/local/lib/python3.10/dist-packages (from langsmith<0.2.0,>=0.1.17->langchain) (3.10.10)\n",
            "Requirement already satisfied: requests-toolbelt<2.0.0,>=1.0.0 in /usr/local/lib/python3.10/dist-packages (from langsmith<0.2.0,>=0.1.17->langchain) (1.0.0)\n",
            "Requirement already satisfied: annotated-types>=0.6.0 in /usr/local/lib/python3.10/dist-packages (from pydantic<3.0.0,>=2.7.4->langchain) (0.7.0)\n",
            "Requirement already satisfied: pydantic-core==2.23.4 in /usr/local/lib/python3.10/dist-packages (from pydantic<3.0.0,>=2.7.4->langchain) (2.23.4)\n",
            "Requirement already satisfied: charset-normalizer<4,>=2 in /usr/local/lib/python3.10/dist-packages (from requests<3,>=2->langchain) (3.4.0)\n",
            "Requirement already satisfied: idna<4,>=2.5 in /usr/local/lib/python3.10/dist-packages (from requests<3,>=2->langchain) (3.10)\n",
            "Requirement already satisfied: urllib3<3,>=1.21.1 in /usr/local/lib/python3.10/dist-packages (from requests<3,>=2->langchain) (2.2.3)\n",
            "Requirement already satisfied: certifi>=2017.4.17 in /usr/local/lib/python3.10/dist-packages (from requests<3,>=2->langchain) (2024.8.30)\n",
            "Requirement already satisfied: greenlet!=0.4.17 in /usr/local/lib/python3.10/dist-packages (from SQLAlchemy<3,>=1.4->langchain) (3.1.1)\n",
            "Requirement already satisfied: networkx in /usr/local/lib/python3.10/dist-packages (from torch>=1.11.0->sentence_transformers) (3.4.2)\n",
            "Requirement already satisfied: jinja2 in /usr/local/lib/python3.10/dist-packages (from torch>=1.11.0->sentence_transformers) (3.1.4)\n",
            "Requirement already satisfied: sympy==1.13.1 in /usr/local/lib/python3.10/dist-packages (from torch>=1.11.0->sentence_transformers) (1.13.1)\n",
            "Requirement already satisfied: mpmath<1.4,>=1.1.0 in /usr/local/lib/python3.10/dist-packages (from sympy==1.13.1->torch>=1.11.0->sentence_transformers) (1.3.0)\n",
            "Requirement already satisfied: joblib>=1.2.0 in /usr/local/lib/python3.10/dist-packages (from scikit-learn->sentence_transformers) (1.4.2)\n",
            "Requirement already satisfied: threadpoolctl>=3.1.0 in /usr/local/lib/python3.10/dist-packages (from scikit-learn->sentence_transformers) (3.5.0)\n",
            "Requirement already satisfied: anyio in /usr/local/lib/python3.10/dist-packages (from httpx<1,>=0.23.0->langsmith<0.2.0,>=0.1.17->langchain) (3.7.1)\n",
            "Requirement already satisfied: httpcore==1.* in /usr/local/lib/python3.10/dist-packages (from httpx<1,>=0.23.0->langsmith<0.2.0,>=0.1.17->langchain) (1.0.6)\n",
            "Requirement already satisfied: sniffio in /usr/local/lib/python3.10/dist-packages (from httpx<1,>=0.23.0->langsmith<0.2.0,>=0.1.17->langchain) (1.3.1)\n",
            "Requirement already satisfied: h11<0.15,>=0.13 in /usr/local/lib/python3.10/dist-packages (from httpcore==1.*->httpx<1,>=0.23.0->langsmith<0.2.0,>=0.1.17->langchain) (0.14.0)\n",
            "Requirement already satisfied: jsonpointer>=1.9 in /usr/local/lib/python3.10/dist-packages (from jsonpatch<2.0,>=1.33->langchain-core<0.4.0,>=0.3.15->langchain) (3.0.0)\n",
            "Requirement already satisfied: propcache>=0.2.0 in /usr/local/lib/python3.10/dist-packages (from yarl<2.0,>=1.12.0->aiohttp<4.0.0,>=3.8.3->langchain) (0.2.0)\n",
            "Requirement already satisfied: MarkupSafe>=2.0 in /usr/local/lib/python3.10/dist-packages (from jinja2->torch>=1.11.0->sentence_transformers) (3.0.2)\n",
            "Requirement already satisfied: exceptiongroup in /usr/local/lib/python3.10/dist-packages (from anyio->httpx<1,>=0.23.0->langsmith<0.2.0,>=0.1.17->langchain) (1.2.2)\n"
          ]
        }
      ]
    },
    {
      "cell_type": "code",
      "source": [
        "pip install -U langchain-huggingface"
      ],
      "metadata": {
        "colab": {
          "base_uri": "https://localhost:8080/"
        },
        "collapsed": true,
        "id": "Jj_E2TNE27A3",
        "outputId": "4645920c-af6e-4c1f-b874-9384f061c5d9"
      },
      "execution_count": 20,
      "outputs": [
        {
          "output_type": "stream",
          "name": "stdout",
          "text": [
            "Collecting langchain-huggingface\n",
            "  Downloading langchain_huggingface-0.1.2-py3-none-any.whl.metadata (1.3 kB)\n",
            "Requirement already satisfied: huggingface-hub>=0.23.0 in /usr/local/lib/python3.10/dist-packages (from langchain-huggingface) (0.24.7)\n",
            "Requirement already satisfied: langchain-core<0.4.0,>=0.3.15 in /usr/local/lib/python3.10/dist-packages (from langchain-huggingface) (0.3.15)\n",
            "Requirement already satisfied: sentence-transformers>=2.6.0 in /usr/local/lib/python3.10/dist-packages (from langchain-huggingface) (3.2.1)\n",
            "Requirement already satisfied: tokenizers>=0.19.1 in /usr/local/lib/python3.10/dist-packages (from langchain-huggingface) (0.19.1)\n",
            "Requirement already satisfied: transformers>=4.39.0 in /usr/local/lib/python3.10/dist-packages (from langchain-huggingface) (4.44.2)\n",
            "Requirement already satisfied: filelock in /usr/local/lib/python3.10/dist-packages (from huggingface-hub>=0.23.0->langchain-huggingface) (3.16.1)\n",
            "Requirement already satisfied: fsspec>=2023.5.0 in /usr/local/lib/python3.10/dist-packages (from huggingface-hub>=0.23.0->langchain-huggingface) (2024.9.0)\n",
            "Requirement already satisfied: packaging>=20.9 in /usr/local/lib/python3.10/dist-packages (from huggingface-hub>=0.23.0->langchain-huggingface) (24.1)\n",
            "Requirement already satisfied: pyyaml>=5.1 in /usr/local/lib/python3.10/dist-packages (from huggingface-hub>=0.23.0->langchain-huggingface) (6.0.2)\n",
            "Requirement already satisfied: requests in /usr/local/lib/python3.10/dist-packages (from huggingface-hub>=0.23.0->langchain-huggingface) (2.32.3)\n",
            "Requirement already satisfied: tqdm>=4.42.1 in /usr/local/lib/python3.10/dist-packages (from huggingface-hub>=0.23.0->langchain-huggingface) (4.66.6)\n",
            "Requirement already satisfied: typing-extensions>=3.7.4.3 in /usr/local/lib/python3.10/dist-packages (from huggingface-hub>=0.23.0->langchain-huggingface) (4.12.2)\n",
            "Requirement already satisfied: jsonpatch<2.0,>=1.33 in /usr/local/lib/python3.10/dist-packages (from langchain-core<0.4.0,>=0.3.15->langchain-huggingface) (1.33)\n",
            "Requirement already satisfied: langsmith<0.2.0,>=0.1.125 in /usr/local/lib/python3.10/dist-packages (from langchain-core<0.4.0,>=0.3.15->langchain-huggingface) (0.1.137)\n",
            "Requirement already satisfied: pydantic<3.0.0,>=2.5.2 in /usr/local/lib/python3.10/dist-packages (from langchain-core<0.4.0,>=0.3.15->langchain-huggingface) (2.9.2)\n",
            "Requirement already satisfied: tenacity!=8.4.0,<10.0.0,>=8.1.0 in /usr/local/lib/python3.10/dist-packages (from langchain-core<0.4.0,>=0.3.15->langchain-huggingface) (9.0.0)\n",
            "Requirement already satisfied: torch>=1.11.0 in /usr/local/lib/python3.10/dist-packages (from sentence-transformers>=2.6.0->langchain-huggingface) (2.5.0+cu121)\n",
            "Requirement already satisfied: scikit-learn in /usr/local/lib/python3.10/dist-packages (from sentence-transformers>=2.6.0->langchain-huggingface) (1.5.2)\n",
            "Requirement already satisfied: scipy in /usr/local/lib/python3.10/dist-packages (from sentence-transformers>=2.6.0->langchain-huggingface) (1.13.1)\n",
            "Requirement already satisfied: Pillow in /usr/local/lib/python3.10/dist-packages (from sentence-transformers>=2.6.0->langchain-huggingface) (10.4.0)\n",
            "Requirement already satisfied: numpy>=1.17 in /usr/local/lib/python3.10/dist-packages (from transformers>=4.39.0->langchain-huggingface) (1.26.4)\n",
            "Requirement already satisfied: regex!=2019.12.17 in /usr/local/lib/python3.10/dist-packages (from transformers>=4.39.0->langchain-huggingface) (2024.9.11)\n",
            "Requirement already satisfied: safetensors>=0.4.1 in /usr/local/lib/python3.10/dist-packages (from transformers>=4.39.0->langchain-huggingface) (0.4.5)\n",
            "Requirement already satisfied: jsonpointer>=1.9 in /usr/local/lib/python3.10/dist-packages (from jsonpatch<2.0,>=1.33->langchain-core<0.4.0,>=0.3.15->langchain-huggingface) (3.0.0)\n",
            "Requirement already satisfied: httpx<1,>=0.23.0 in /usr/local/lib/python3.10/dist-packages (from langsmith<0.2.0,>=0.1.125->langchain-core<0.4.0,>=0.3.15->langchain-huggingface) (0.27.2)\n",
            "Requirement already satisfied: orjson<4.0.0,>=3.9.14 in /usr/local/lib/python3.10/dist-packages (from langsmith<0.2.0,>=0.1.125->langchain-core<0.4.0,>=0.3.15->langchain-huggingface) (3.10.10)\n",
            "Requirement already satisfied: requests-toolbelt<2.0.0,>=1.0.0 in /usr/local/lib/python3.10/dist-packages (from langsmith<0.2.0,>=0.1.125->langchain-core<0.4.0,>=0.3.15->langchain-huggingface) (1.0.0)\n",
            "Requirement already satisfied: annotated-types>=0.6.0 in /usr/local/lib/python3.10/dist-packages (from pydantic<3.0.0,>=2.5.2->langchain-core<0.4.0,>=0.3.15->langchain-huggingface) (0.7.0)\n",
            "Requirement already satisfied: pydantic-core==2.23.4 in /usr/local/lib/python3.10/dist-packages (from pydantic<3.0.0,>=2.5.2->langchain-core<0.4.0,>=0.3.15->langchain-huggingface) (2.23.4)\n",
            "Requirement already satisfied: charset-normalizer<4,>=2 in /usr/local/lib/python3.10/dist-packages (from requests->huggingface-hub>=0.23.0->langchain-huggingface) (3.4.0)\n",
            "Requirement already satisfied: idna<4,>=2.5 in /usr/local/lib/python3.10/dist-packages (from requests->huggingface-hub>=0.23.0->langchain-huggingface) (3.10)\n",
            "Requirement already satisfied: urllib3<3,>=1.21.1 in /usr/local/lib/python3.10/dist-packages (from requests->huggingface-hub>=0.23.0->langchain-huggingface) (2.2.3)\n",
            "Requirement already satisfied: certifi>=2017.4.17 in /usr/local/lib/python3.10/dist-packages (from requests->huggingface-hub>=0.23.0->langchain-huggingface) (2024.8.30)\n",
            "Requirement already satisfied: networkx in /usr/local/lib/python3.10/dist-packages (from torch>=1.11.0->sentence-transformers>=2.6.0->langchain-huggingface) (3.4.2)\n",
            "Requirement already satisfied: jinja2 in /usr/local/lib/python3.10/dist-packages (from torch>=1.11.0->sentence-transformers>=2.6.0->langchain-huggingface) (3.1.4)\n",
            "Requirement already satisfied: sympy==1.13.1 in /usr/local/lib/python3.10/dist-packages (from torch>=1.11.0->sentence-transformers>=2.6.0->langchain-huggingface) (1.13.1)\n",
            "Requirement already satisfied: mpmath<1.4,>=1.1.0 in /usr/local/lib/python3.10/dist-packages (from sympy==1.13.1->torch>=1.11.0->sentence-transformers>=2.6.0->langchain-huggingface) (1.3.0)\n",
            "Requirement already satisfied: joblib>=1.2.0 in /usr/local/lib/python3.10/dist-packages (from scikit-learn->sentence-transformers>=2.6.0->langchain-huggingface) (1.4.2)\n",
            "Requirement already satisfied: threadpoolctl>=3.1.0 in /usr/local/lib/python3.10/dist-packages (from scikit-learn->sentence-transformers>=2.6.0->langchain-huggingface) (3.5.0)\n",
            "Requirement already satisfied: anyio in /usr/local/lib/python3.10/dist-packages (from httpx<1,>=0.23.0->langsmith<0.2.0,>=0.1.125->langchain-core<0.4.0,>=0.3.15->langchain-huggingface) (3.7.1)\n",
            "Requirement already satisfied: httpcore==1.* in /usr/local/lib/python3.10/dist-packages (from httpx<1,>=0.23.0->langsmith<0.2.0,>=0.1.125->langchain-core<0.4.0,>=0.3.15->langchain-huggingface) (1.0.6)\n",
            "Requirement already satisfied: sniffio in /usr/local/lib/python3.10/dist-packages (from httpx<1,>=0.23.0->langsmith<0.2.0,>=0.1.125->langchain-core<0.4.0,>=0.3.15->langchain-huggingface) (1.3.1)\n",
            "Requirement already satisfied: h11<0.15,>=0.13 in /usr/local/lib/python3.10/dist-packages (from httpcore==1.*->httpx<1,>=0.23.0->langsmith<0.2.0,>=0.1.125->langchain-core<0.4.0,>=0.3.15->langchain-huggingface) (0.14.0)\n",
            "Requirement already satisfied: MarkupSafe>=2.0 in /usr/local/lib/python3.10/dist-packages (from jinja2->torch>=1.11.0->sentence-transformers>=2.6.0->langchain-huggingface) (3.0.2)\n",
            "Requirement already satisfied: exceptiongroup in /usr/local/lib/python3.10/dist-packages (from anyio->httpx<1,>=0.23.0->langsmith<0.2.0,>=0.1.125->langchain-core<0.4.0,>=0.3.15->langchain-huggingface) (1.2.2)\n",
            "Downloading langchain_huggingface-0.1.2-py3-none-any.whl (21 kB)\n",
            "Installing collected packages: langchain-huggingface\n",
            "Successfully installed langchain-huggingface-0.1.2\n"
          ]
        }
      ]
    },
    {
      "cell_type": "code",
      "source": [
        "from langchain_huggingface import HuggingFaceEmbeddings\n",
        "from langchain_experimental.text_splitter import SemanticChunker\n",
        "\n",
        "embeddings = HuggingFaceEmbeddings(model_name=\"sentence-transformers/all-MiniLM-L6-v2\")"
      ],
      "metadata": {
        "colab": {
          "base_uri": "https://localhost:8080/"
        },
        "id": "LvFzcttctsvf",
        "outputId": "8c8d08c5-ca4f-4422-da93-82e21d9e1d38"
      },
      "execution_count": 21,
      "outputs": [
        {
          "output_type": "stream",
          "name": "stderr",
          "text": [
            "/usr/local/lib/python3.10/dist-packages/transformers/tokenization_utils_base.py:1601: FutureWarning: `clean_up_tokenization_spaces` was not set. It will be set to `True` by default. This behavior will be depracted in transformers v4.45, and will be then set to `False` by default. For more details check this issue: https://github.com/huggingface/transformers/issues/31884\n",
            "  warnings.warn(\n"
          ]
        }
      ]
    },
    {
      "cell_type": "code",
      "source": [
        "embeddings"
      ],
      "metadata": {
        "colab": {
          "base_uri": "https://localhost:8080/"
        },
        "id": "fCPE1XzA3F5x",
        "outputId": "c54de69c-8788-4f8c-9251-8aeeaa72c6f3"
      },
      "execution_count": 22,
      "outputs": [
        {
          "output_type": "execute_result",
          "data": {
            "text/plain": [
              "HuggingFaceEmbeddings(model_name='sentence-transformers/all-MiniLM-L6-v2', cache_folder=None, model_kwargs={}, encode_kwargs={}, multi_process=False, show_progress=False)"
            ]
          },
          "metadata": {},
          "execution_count": 22
        }
      ]
    },
    {
      "cell_type": "code",
      "source": [
        "from google.colab import userdata\n",
        "from groq import Groq\n",
        "from langchain_groq import ChatGroq\n",
        "#\n",
        "groq_api_key = userdata.get(\"groq_api_key\")"
      ],
      "metadata": {
        "id": "EMUCgtmMvfPz"
      },
      "execution_count": 16,
      "outputs": []
    },
    {
      "cell_type": "code",
      "source": [
        "# smeantic chunking\n",
        "\n",
        "\n",
        "from langchain_experimental.text_splitter import SemanticChunker\n",
        "from langchain_openai.embeddings import OpenAIEmbeddings\n",
        "\n",
        "semantic_chunker = SemanticChunker(embeddings,\n",
        "                                   breakpoint_threshold_type='percentile')\n",
        "semantic_chunks = semantic_chunker.create_documents([d.page_content for d in documents])\n",
        "\n",
        "for semantic_chunk in semantic_chunks:\n",
        "  if \"Effect of Pre-training Tasks\" in semantic_chunk.page_content:\n",
        "    print(semantic_chunk.page_content)\n",
        "    print(len(semantic_chunk.page_content))\n"
      ],
      "metadata": {
        "colab": {
          "base_uri": "https://localhost:8080/"
        },
        "id": "e9n_WNkiv6JZ",
        "outputId": "5978ddb5-7085-4358-8f44-013643f67eb7"
      },
      "execution_count": 23,
      "outputs": [
        {
          "output_type": "stream",
          "name": "stdout",
          "text": [
            "Dev Set\n",
            "Tasks MNLI-m QNLI MRPC SST-2 SQuAD\n",
            "(Acc) (Acc) (Acc) (Acc) (F1)\n",
            "BERTBASE 84.4 88.4 86.7 92.7 88.5\n",
            "No NSP 83.9 84.9 86.5 92.6 87.9\n",
            "LTR & No NSP 82.1 84.3 77.5 92.1 77.8\n",
            "+ BiLSTM 82.1 84.1 75.7 91.6 84.9\n",
            "Table 5: Ablation over the pre-training tasks using the\n",
            "BERTBASE architecture. “No NSP” is trained without\n",
            "the next sentence prediction task. “LTR & No NSP” is\n",
            "trained as a left-to-right LM without the next sentence\n",
            "prediction, like OpenAI GPT. “+ BiLSTM” adds a ran-\n",
            "domly initialized BiLSTM on top of the “LTR + No\n",
            "NSP” model during ﬁne-tuning. ablation studies can be found in Appendix C. 5.1 Effect of Pre-training Tasks\n",
            "We demonstrate the importance of the deep bidi-\n",
            "rectionality of BERT by evaluating two pre-\n",
            "training objectives using exactly the same pre-\n",
            "training data, ﬁne-tuning scheme, and hyperpa-\n",
            "rameters as BERTBASE :\n",
            "No NSP: A bidirectional model which is trained\n",
            "using the “masked LM” (MLM) but without the\n",
            "“next sentence prediction” (NSP) task. LTR & No NSP: A left-context-only model which\n",
            "is trained using a standard Left-to-Right (LTR)\n",
            "LM, rather than an MLM.\n",
            "1092\n"
          ]
        }
      ]
    },
    {
      "cell_type": "code",
      "source": [
        "from langchain_community.vectorstores import Chroma\n",
        "semantic_chunk_vectorstore = Chroma.from_documents(semantic_chunks, embedding=embeddings)"
      ],
      "metadata": {
        "id": "m2fojJzZzOy2"
      },
      "execution_count": 27,
      "outputs": []
    },
    {
      "cell_type": "code",
      "source": [
        "semantic_chunk_retriever = semantic_chunk_vectorstore.as_retriever(search_kwargs={\"k\" : 1})\n",
        "semantic_chunk_retriever.invoke(\"Describe the Feature-based Approach with BERT?\")\n"
      ],
      "metadata": {
        "colab": {
          "base_uri": "https://localhost:8080/"
        },
        "id": "ggMCT9lN5Gup",
        "outputId": "a4124cc1-a623-4d86-976a-fbf233cbb479"
      },
      "execution_count": 28,
      "outputs": [
        {
          "output_type": "execute_result",
          "data": {
            "text/plain": [
              "[Document(metadata={}, page_content='In the table,\\nMASK means that we replace the target token with\\nthe [MASK] symbol for MLM; SAME means that\\nwe keep the target token as is; R ND means that\\nwe replace the target token with another random\\ntoken. The numbers in the left part of the table repre-\\nsent the probabilities of the speciﬁc strategies used\\nduring MLM pre-training (BERT uses 80%, 10%,\\n10%). The right part of the paper represents the\\nDev set results. For the feature-based approach,\\nwe concatenate the last 4 layers of BERT as the\\nfeatures, which was shown to be the best approach\\nin Section 5.3. From the table it can be seen that ﬁne-tuning is\\nsurprisingly robust to different masking strategies.')]"
            ]
          },
          "metadata": {},
          "execution_count": 28
        }
      ]
    },
    {
      "cell_type": "code",
      "source": [
        "from langchain_core.prompts import ChatPromptTemplate\n",
        "\n",
        "rag_template =  \"\"\"\\\n",
        "Use the following context to answer the user's query. If you cannot answer, please respond with 'I don't know'.\n",
        "\n",
        "User's Query:\n",
        "{question}\n",
        "\n",
        "Context:\n",
        "{context}\n",
        "\"\"\"\n",
        "\n",
        "rag_prompt = ChatPromptTemplate.from_template(rag_template)"
      ],
      "metadata": {
        "id": "xSemI2wr5M94"
      },
      "execution_count": 29,
      "outputs": []
    },
    {
      "cell_type": "code",
      "source": [
        "chat_model = ChatGroq(temperature =0,\n",
        "                      model_name = \"mixtral-8x7b-32768\",\n",
        "                      api_key = userdata.get(\"groq_api_key\"))\n"
      ],
      "metadata": {
        "id": "HAIhOI2q5p9z"
      },
      "execution_count": 34,
      "outputs": []
    },
    {
      "cell_type": "code",
      "source": [
        "from langchain_core.runnables import RunnablePassthrough\n",
        "from langchain_core.output_parsers import StrOutputParser\n",
        "\n",
        "rag_chain =(\n",
        "    {\n",
        "        'context':semantic_chunk_retriever,\n",
        "        'question': RunnablePassthrough()\n",
        "    }\n",
        "    | rag_prompt| chat_model | StrOutputParser()\n",
        ")\n"
      ],
      "metadata": {
        "id": "mKM1gQ2q5ric"
      },
      "execution_count": 35,
      "outputs": []
    },
    {
      "cell_type": "code",
      "source": [
        "rag_chain.invoke(\"Describe the Feature-based Approach with BERT?\")"
      ],
      "metadata": {
        "colab": {
          "base_uri": "https://localhost:8080/",
          "height": 88
        },
        "id": "KqlPmPzE66Z4",
        "outputId": "3c45617a-3b3b-4b11-c5a4-e00fb2ae99b6"
      },
      "execution_count": 36,
      "outputs": [
        {
          "output_type": "execute_result",
          "data": {
            "text/plain": [
              "'The Feature-based Approach with BERT involves using the last 4 layers of BERT as features for a downstream task. This approach was found to be the most effective in Section 5.3 of the study. During masked language modeling (MLM) pre-training, BERT uses a combination of three strategies: MASK, SAME, and R ND, with probabilities of 80%, 10%, and 10%, respectively. The MASK strategy involves replacing the target token with the [MASK] symbol, the SAME strategy keeps the target token as is, and the R ND strategy replaces the target token with another random token. The fine-tuning process for the downstream task is surprisingly robust to different masking strategies, as shown in the table.'"
            ],
            "application/vnd.google.colaboratory.intrinsic+json": {
              "type": "string"
            }
          },
          "metadata": {},
          "execution_count": 36
        }
      ]
    },
    {
      "cell_type": "code",
      "source": [
        "rag_chain.invoke(\"What is SQuADv2.0?\")"
      ],
      "metadata": {
        "colab": {
          "base_uri": "https://localhost:8080/",
          "height": 105
        },
        "id": "TL4Ax9gZ7Hhy",
        "outputId": "239bc0ed-a05a-477b-88a0-89a2ca2e7824"
      },
      "execution_count": 37,
      "outputs": [
        {
          "output_type": "execute_result",
          "data": {
            "text/plain": [
              "'SQuAD v2.0, or Squad 2.0, is a version of the Stanford Question Answering Dataset (SQuAD) that extends the problem definition of SQuAD 1.1 by allowing for the possibility that no short answer exists in the provided paragraph. This makes the problem more realistic. To extend the SQuAD v1.1 BERT model for this task, questions that do not have an answer are treated as having an answer span with start and end at the [CLS] token, and the probability space for the start and end answer span positions is extended to include the position of the [CLS] token. For prediction, the score of the no-answer span is compared to the score of the best non-null span. The document also mentions that a BERT ensemble outperforms all existing systems by a wide margin in SQuAD 2.0, excluding entries that use BERT as one of their components.'"
            ],
            "application/vnd.google.colaboratory.intrinsic+json": {
              "type": "string"
            }
          },
          "metadata": {},
          "execution_count": 37
        }
      ]
    },
    {
      "cell_type": "code",
      "source": [
        "rag_chain.invoke(\"What is the purpose of Ablation Studies?\")"
      ],
      "metadata": {
        "colab": {
          "base_uri": "https://localhost:8080/",
          "height": 53
        },
        "id": "P7kP9Rqw7s1j",
        "outputId": "3c8c5410-c6da-42fd-e11f-9fc6f5836ce2"
      },
      "execution_count": 38,
      "outputs": [
        {
          "output_type": "execute_result",
          "data": {
            "text/plain": [
              "'Ablation studies are used to better understand the relative importance of different components or aspects of a model. In the given context, ablation experiments are being performed on various facets of the BERT model to gain a deeper understanding of its performance.'"
            ],
            "application/vnd.google.colaboratory.intrinsic+json": {
              "type": "string"
            }
          },
          "metadata": {},
          "execution_count": 38
        }
      ]
    },
    {
      "cell_type": "markdown",
      "source": [
        "# Implement a RAG pipeline using Naive Chunking Strategy"
      ],
      "metadata": {
        "id": "Jp0hlNdo7zy1"
      }
    },
    {
      "cell_type": "code",
      "source": [
        "naive_chunk_vectorstore = Chroma.from_documents(naive_chunks, embedding=embeddings)\n",
        "naive_chunk_retriever = naive_chunk_vectorstore.as_retriever(search_kwargs={\"k\" : 5})\n",
        "naive_rag_chain = (\n",
        "    {\"context\" : naive_chunk_retriever, \"question\" : RunnablePassthrough()}\n",
        "    | rag_prompt\n",
        "    | chat_model\n",
        "    | StrOutputParser()\n",
        ")"
      ],
      "metadata": {
        "id": "9LCVRosg7wcx"
      },
      "execution_count": 39,
      "outputs": []
    },
    {
      "cell_type": "code",
      "source": [
        "naive_rag_chain.invoke(\"Describe the Feature-based Approach with BERT?\")"
      ],
      "metadata": {
        "colab": {
          "base_uri": "https://localhost:8080/",
          "height": 123
        },
        "id": "fBhB2GX077Rq",
        "outputId": "af881f13-4696-44be-bb1b-5e7cf61c96b6"
      },
      "execution_count": 40,
      "outputs": [
        {
          "output_type": "execute_result",
          "data": {
            "text/plain": [
              "\"The Feature-based Approach with BERT involves using BERT as a feature extractor for downstream tasks. In this approach, the last 4 layers of BERT are concatenated to serve as features for a given input. This method was found to be the most effective in Section 5.3 of the study. The fine-tuning process, which adjusts the model's parameters for a specific task, has been observed to be robust against different masking strategies during the pre-training phase of BERT.\\n\\nIn the pre-training phase, BERT uses a masking strategy where 80% of the time, the target token is replaced with the [MASK] symbol for Masked Language Modeling (MLM), 10% of the time the target token is kept the same, and 10% of the time the target token is replaced with a random token. This strategy is used to train BERT on unlabeled data over different pre-training tasks.\\n\\nLater, during the fine-tuning phase, the BERT model is initialized with the pre-trained parameters, and all of the parameters are fine-tuned using labeled data from the downstream tasks. This allows BERT to adapt to specific tasks while leveraging the pre-trained feature extraction capabilities.\""
            ],
            "application/vnd.google.colaboratory.intrinsic+json": {
              "type": "string"
            }
          },
          "metadata": {},
          "execution_count": 40
        }
      ]
    },
    {
      "cell_type": "code",
      "source": [
        "naive_rag_chain.invoke(\"What is SQuADv2.0?\")"
      ],
      "metadata": {
        "colab": {
          "base_uri": "https://localhost:8080/",
          "height": 105
        },
        "id": "S7SSAMv9-IsR",
        "outputId": "c312f345-57a1-4334-f313-3c2de660978f"
      },
      "execution_count": 41,
      "outputs": [
        {
          "output_type": "execute_result",
          "data": {
            "text/plain": [
              "'SQuADv2.0, or Squad 2.0, is a version of the Stanford Question Answering Dataset (SQuAD) that extends the problem definition of SQuAD 1.1 by allowing for the possibility that no short answer exists in the provided paragraph. This makes the problem more realistic. To handle questions without an answer, the SQuAD v1.1 BERT model is extended to treat such questions as having an answer span with start and end at the [CLS] token. The probability space for the start and end answer span positions is extended to include the position of the [CLS] token. During prediction, the score of the no-answer span is compared to the score of the best non-null span. The TriviaQA data used for this task consists of paragraphs from TriviaQA-Wiki formed of the first 400 tokens in documents, containing at least one of the provided possible answers.'"
            ],
            "application/vnd.google.colaboratory.intrinsic+json": {
              "type": "string"
            }
          },
          "metadata": {},
          "execution_count": 41
        }
      ]
    },
    {
      "cell_type": "code",
      "source": [
        "naive_rag_chain.invoke(\"What is the purpose of Ablation Studies?\")\n"
      ],
      "metadata": {
        "colab": {
          "base_uri": "https://localhost:8080/",
          "height": 88
        },
        "id": "1AoOFyBb-MD5",
        "outputId": "3b770d1c-8199-4b80-861b-366fa3b73bac"
      },
      "execution_count": 42,
      "outputs": [
        {
          "output_type": "execute_result",
          "data": {
            "text/plain": [
              "\"Ablation studies are used to better understand the relative importance of different components or aspects of a model, such as BERT in this context. In the provided document, ablation studies are performed over several facets of BERT, including the next sentence prediction task, left-to-right language model training, and the addition of a BiLSTM during fine-tuning. The studies are designed to evaluate the impact of these components on the model's performance. Ablation studies can help researchers and developers identify which parts of a model contribute most significantly to its performance and inform future model improvements.\""
            ],
            "application/vnd.google.colaboratory.intrinsic+json": {
              "type": "string"
            }
          },
          "metadata": {},
          "execution_count": 42
        }
      ]
    },
    {
      "cell_type": "markdown",
      "source": [
        "# Ragas Assessment Comparison for Semantic Chunker"
      ],
      "metadata": {
        "id": "af54XvQC-sIY"
      }
    },
    {
      "cell_type": "markdown",
      "source": [
        "To evaluate Our rag_chain performance we can use RAGAS.\n",
        "* Ragas provide metrics like `faithfulness(how factually accurate is generated answer), answer relevancy (how relevant is the generated answer to the question) ` which can be used to understnad how well our rag_chain is generating the answers.\n",
        "* metrics like `context precision(the signal to noise ratio of retrieved context), context recall(can it retrive all the relevant information required to answer the question)` helps us to understand how well our reterieving the releveant context."
      ],
      "metadata": {
        "id": "tpYXlTiuCJpi"
      }
    },
    {
      "cell_type": "markdown",
      "source": [
        "To perform evaluation using RAGAS or LangSmith, we need to have a dataset with a few questions and corresponding ground truth answers.\n",
        "\n",
        "This dataset serves as a benchmark to assess the performance of your Retrieval Augmented Generation (RAG) pipeline. RAGAS and LangSmith will use these question-answer pairs to determine how well your system retrieves relevant information and generates accurate and comprehensive answers. The ground truth answers provide the \"gold standard\" against which your system's output is compared.\n",
        "\n",
        "here we don't have any predefined dataset. so we use an LLM`(grogq-mixtral-8x7b-32768) ` to synthetically generate the questions and answers and form into pairs. Later we can convert that into a huggingface dataset.\n",
        "\n",
        "we need to use the same data on which our rag_chain is trained. LLM uses the data and form questions and answers on its own."
      ],
      "metadata": {
        "id": "4iLFQR-wECmv"
      }
    },
    {
      "cell_type": "code",
      "source": [
        "# since we are using an LLM to generate questions and answers we have to split our documents into chunks.\n",
        "\n",
        "synthetic_data_splitter = RecursiveCharacterTextSplitter(\n",
        "    chunk_size = 1000,\n",
        "    chunk_overlap = 0,\n",
        "    length_function = len,\n",
        "    is_separator_regex= False\n",
        ")\n",
        "\n",
        "synthetic_data_chunks = synthetic_data_splitter.create_documents([d.page_content for d in documents])\n",
        "print(len(synthetic_data_chunks))"
      ],
      "metadata": {
        "colab": {
          "base_uri": "https://localhost:8080/"
        },
        "id": "rJGJxbWd-OtB",
        "outputId": "12e5a988-0bae-4e51-dbf9-d8b8e386d761"
      },
      "execution_count": 43,
      "outputs": [
        {
          "output_type": "stream",
          "name": "stdout",
          "text": [
            "72\n"
          ]
        }
      ]
    },
    {
      "cell_type": "markdown",
      "source": [
        "Create the dataset with following as columns\n",
        "\n",
        "* Questions — synthetically generated (grogq-mixtral-8x7b-32768)\n",
        "* Contexts — created above(Synthetic data chunks)\n",
        "* Ground Truths — synthetically generated (grogq-mixtral-8x7b-32768)\n",
        "* Answers — generated from our Semantic RAG Chain"
      ],
      "metadata": {
        "id": "KTTHCXI0HY6X"
      }
    },
    {
      "cell_type": "code",
      "source": [
        "questions=[]\n",
        "ground_truths_semantic=[]\n",
        "contexts = []\n",
        "answers =[]\n",
        "\n",
        "question_prompt = \"\"\"\\\n",
        "You are a teacher preparing a test. Please create a question that can be answered by referencing the following context.\n",
        "\n",
        "Context:\n",
        "{context}\n",
        "\"\"\"\n",
        "\n",
        "question_prompt = ChatPromptTemplate.from_template(question_prompt)\n",
        "\n",
        "ground_truth_prompt = \"\"\"\\\n",
        "Use the following context and question to answer this question using *only* the provided context.\n",
        "\n",
        "Question:\n",
        "{question}\n",
        "\n",
        "Context:\n",
        "{context}\n",
        "\"\"\"\n",
        "\n",
        "ground_truth_prompt = ChatPromptTemplate.from_template(ground_truth_prompt)"
      ],
      "metadata": {
        "id": "QbWWlq15HYQi"
      },
      "execution_count": 44,
      "outputs": []
    },
    {
      "cell_type": "code",
      "source": [
        "question_chain = question_prompt | chat_model | StrOutputParser()\n",
        "\n",
        "grouund_truth_chain =  ground_truth_prompt| chat_model |StrOutputParser()"
      ],
      "metadata": {
        "id": "sDcloBL7Fyrw"
      },
      "execution_count": 46,
      "outputs": []
    },
    {
      "cell_type": "code",
      "source": [
        "for chunk in synthetic_data_chunks[10:20]:\n",
        "  questions.append(question_chain.invoke({'context':chunk.page_content}))\n",
        "  contexts.append(chunk.page_content)\n",
        "  ground_truths_semantic.append(grouund_truth_chain.invoke({'question':questions[-1], \"context\":contexts[-1]}))\n",
        "  answers.append(rag_chain.invoke(questions[-1]))"
      ],
      "metadata": {
        "id": "01HB0ZcJIi7-"
      },
      "execution_count": 47,
      "outputs": []
    },
    {
      "cell_type": "markdown",
      "source": [
        "You're right, simply saying \"a question\" or \"the section\" isn't very precise. Let's break down exactly what's happening in each iteration of that `for` loop, step-by-step:\n",
        "\n",
        "**Iteration 1:**\n",
        "\n",
        "1. **The `chunk`:** The loop starts with the 10th chunk from your `synthetic_data_chunks`. Let's say this chunk contains the following text: \"The capital of France is Paris. Paris is known for its Eiffel Tower.\"\n",
        "\n",
        "2. **`questions`:** The `question_chain` uses this text (\"The capital of France is Paris...\") as input to the AI model. The model might generate the question: \"What is the capital of France known for?\"  This question is then added to the `questions` list. So now, `questions` looks like this: `[\"What is the capital of France known for?\"]`\n",
        "\n",
        "3. **`contexts`:**  The text of the current chunk (\"The capital of France is Paris...\") is added to the `contexts` list. So, `contexts` now contains: `[\"The capital of France is Paris...\"]`\n",
        "\n",
        "4. **`ground_truths_semantic`:** The `ground_truth_chain` uses the generated question (\"What is the capital of France known for?\") and the same text chunk (\"The capital of France is Paris...\") as input to the AI model. The model will then generate the correct answer, which might be: \"Paris, the capital of France, is known for the Eiffel Tower.\" This answer is added to the `ground_truths_semantic` list.\n",
        "\n",
        "5. **`answers`:** Your `rag_chain` is given the question (\"What is the capital of France known for?\") and it searches through your entire knowledge base to find relevant information and generate an answer. Let's say your system answers: \"Paris is famous for its Eiffel Tower.\" This answer is added to the `answers` list.\n",
        "\n",
        "**Iteration 2:**\n",
        "\n",
        "The loop now moves to the 11th chunk in `synthetic_data_chunks`. Let's say this chunk contains: \"Albert Einstein was a physicist. He developed the theory of relativity.\"\n",
        "\n",
        "The process repeats:\n",
        "\n",
        "1. **`questions`:**  The `question_chain` generates a question based on the new chunk, maybe: \"Who developed the theory of relativity?\". This is added to the `questions` list: `[\"What is the capital of France known for?\", \"Who developed the theory of relativity?\"]`\n",
        "\n",
        "2. **`contexts`:** The new chunk's text (\"Albert Einstein was a physicist...\") is added to the `contexts` list.\n",
        "\n",
        "3. **`ground_truths_semantic`:** The `ground_truth_chain` generates the correct answer for the new question based on the new chunk, perhaps: \"Albert Einstein developed the theory of relativity.\" This is added to the `ground_truths_semantic` list.\n",
        "\n",
        "4. **`answers`:** Your `rag_chain` is given the new question (\"Who developed the theory of relativity?\") and generates its own answer, which is added to the `answers` list.\n",
        "\n",
        "\n",
        "This continues for the remaining iterations, with each iteration processing a new chunk from your `synthetic_data_chunks`. At the end, you'll have four lists:\n",
        "\n",
        "* `questions`:  Containing all the questions generated from the 10 chunks.\n",
        "* `contexts`: Containing the text of each of those 10 chunks.\n",
        "* `ground_truths_semantic`: Containing the correct answers for each question.\n",
        "* `answers`:  Containing the answers your system provided for each question.\n"
      ],
      "metadata": {
        "id": "J2sUsCVIMJf-"
      }
    },
    {
      "cell_type": "markdown",
      "source": [
        "NOte: for experimental purpose we have considered onlyl 10 samples."
      ],
      "metadata": {
        "id": "LTiAePSSNShS"
      }
    },
    {
      "cell_type": "code",
      "source": [
        "questions"
      ],
      "metadata": {
        "colab": {
          "base_uri": "https://localhost:8080/"
        },
        "id": "E2lRicdDQb6x",
        "outputId": "2d816b0f-e3a8-4ee3-eebf-07cbcb67ed71"
      },
      "execution_count": 50,
      "outputs": [
        {
          "output_type": "execute_result",
          "data": {
            "text/plain": [
              "['Question: What special symbols are added to the input examples in BERT and what do they represent?\\n\\nStart/End Span: [CLS], [SEP]\\n\\nExplanation: In the context provided, it is mentioned that [CLS] is a special symbol added in front of every input example, and [SEP] is a special separator token. These symbols have specific meanings and functions in the BERT model. [CLS] is used to represent the beginning of an input example, and [SEP] is used to separate different parts of the input, such as questions and answers in a question-answering task.',\n",
              " 'Question: According to the passage, what is the two-step framework of BERT and what happens in each step?\\n\\nAnswer: The two-step framework of BERT includes pre-training and fine-tuning. During pre-training, the model is trained on unlabeled data over different pre-training tasks. For fine-tuning, the BERT model is first initialized with the pre-trained parameters, and all of the parameters are fine-tuned using labeled data from the downstream tasks.',\n",
              " \"Question: According to the passage, what is the model architecture of BERT and what minimal difference exists between its pre-trained and final downstream architecture?\\n\\nBERT's model architecture is a multi-layer bidirectional Transformer encoder, based on the original implementation described in Vaswani et al. (2017). The pre-trained architecture and the final downstream architecture have minimal difference in BERT.\",\n",
              " \"Question:\\nWhy did the developers choose BERTBASE to have the same model size as OpenAI GPT, and what is the main difference between the BERT Transformer's self-attention mechanism and the GPT Transformer's self-attention mechanism?\\n\\nAnswer:\\nThe developers chose BERTBASE to have the same model size as OpenAI GPT for comparison purposes. The main difference between the BERT Transformer's self-attention mechanism and the GPT Transformer's self-attention mechanism is that the BERT Transformer uses bidirectional self-attention, where each token can attend to context in both directions, while the GPT Transformer uses constrained self-attention where every token can only attend to context to its left.\",\n",
              " \"Question: Given the input representation guidelines for BERT, how is a pair of sentences represented in a single token sequence, and which hidden state is used as the aggregate sequence representation for classification tasks?\\n\\nAnswer: A pair of sentences in BERT's input representation is packed together into a single sequence, with sentences separated by a special token ([SEP]). The first token of every sequence is always a special classification token ( [CLS]). For classification tasks, the final hidden state corresponding to the special classification token ( [CLS]) is used as the aggregate sequence representation.\",\n",
              " 'Question: Based on the context, what are the two unsupervised tasks used to pre-train BERT, and how do they differ from traditional left-to-right or right-to-left language models?\\n\\nAnswer: The two unsupervised tasks used to pre-train BERT are Masked LM and the next sentence prediction task. Masked LM is a bidirectional model, which means it can learn context from both left and right sides of a token, while traditional language models are either left-to-right or right-to-left, and can only learn context in one direction. The next sentence prediction task is also a bidirectional model, and it predicts whether two sentences follow each other in a text, while traditional language models do not consider the relationship between sentences.',\n",
              " 'Question:\\n\\nWhat is the procedure called for training a deep bidirectional representation in a transformer model, where a certain percentage of input tokens are masked at random and the model is tasked to predict those masked tokens? This procedure is often referred to as a \"masked LM\" in the text, but what is the other common name for it, as mentioned in the literature?',\n",
              " 'Question: According to the given context, what percentage of the time is the original i-th token kept unchanged during training, and what is it used for in the training process?\\n\\nAnswer: The original i-th token is kept unchanged 10% of the time. It is used to predict the original token with cross entropy loss.',\n",
              " 'Question: Based on the given context, what is the purpose of pre-training a model with a binarized next sentence prediction task, and how accurate is the final model at predicting the next sentence?\\n\\nAnswer: The purpose of pre-training a model with a binarized next sentence prediction task is to help the model understand sentence relationships, which is beneficial for Question Answering (QA) and Natural Language Inference (NLI). The final model achieves 97%-98% accuracy on the next sentence prediction task.',\n",
              " 'Question: Based on the context, what are the two sources of data used for pre-training the BERT model?']"
            ]
          },
          "metadata": {},
          "execution_count": 50
        }
      ]
    },
    {
      "cell_type": "code",
      "source": [
        "# formating the content generated into a huggingface dataset format\n",
        "\n",
        "from datasets import load_dataset, Dataset\n",
        "\n",
        "qagc_list = []\n",
        "\n",
        "for question, answer, context, ground_truth in zip(questions, answers, contexts, ground_truths_semantic):\n",
        "  # Ensuring 'contexts' is a list\n",
        "  if isinstance(context, str):  # Check if context is a string\n",
        "    context = [context]       # Convert to a list if it's a string\n",
        "  qagc_list.append({\n",
        "      \"question\" : question,\n",
        "      \"answer\" : answer,\n",
        "      \"contexts\" : context,  # Assuming 'contexts' should be the retrieved contexts\n",
        "      \"ground_truth\" : ground_truth,\n",
        "      \"retrieved_contexts\": context  # Add 'retrieved_contexts' as a list\n",
        "  })\n",
        "\n",
        "eval_dataset = Dataset.from_list(qagc_list)\n",
        "eval_dataset"
      ],
      "metadata": {
        "colab": {
          "base_uri": "https://localhost:8080/"
        },
        "id": "mI-50la4LMvZ",
        "outputId": "4f5fcd2a-1031-483f-d4b3-8a22ade11281"
      },
      "execution_count": 52,
      "outputs": [
        {
          "output_type": "execute_result",
          "data": {
            "text/plain": [
              "Dataset({\n",
              "    features: ['question', 'answer', 'contexts', 'ground_truth', 'retrieved_contexts'],\n",
              "    num_rows: 10\n",
              "})"
            ]
          },
          "metadata": {},
          "execution_count": 52
        }
      ]
    },
    {
      "cell_type": "code",
      "source": [
        "qagc_list"
      ],
      "metadata": {
        "colab": {
          "base_uri": "https://localhost:8080/"
        },
        "id": "j9ga-KunWcAb",
        "outputId": "59efc158-40b8-48af-ec52-dd37ab439125"
      },
      "execution_count": 60,
      "outputs": [
        {
          "output_type": "execute_result",
          "data": {
            "text/plain": [
              "[{'question': 'Question: What special symbols are added to the input examples in BERT and what do they represent?\\n\\nStart/End Span: [CLS], [SEP]\\n\\nExplanation: In the context provided, it is mentioned that [CLS] is a special symbol added in front of every input example, and [SEP] is a special separator token. These symbols have specific meanings and functions in the BERT model. [CLS] is used to represent the beginning of an input example, and [SEP] is used to separate different parts of the input, such as questions and answers in a question-answering task.',\n",
              "  'answer': 'The special symbols added to the input examples in BERT are [CLS] and [SEP]. [CLS] is added at the beginning of every input example and represents the beginning of the input. [SEP] is used to separate different parts of the input, such as questions and answers in a question-answering task.',\n",
              "  'contexts': ['BERT BERT\\nE[CLS] E1  E[SEP]... EN E1’ ... EM’\\nC\\n T1\\n T[SEP]...\\n TN\\n T1’ ...\\n TM’\\n[CLS] Tok 1  [SEP]... Tok N Tok 1 ... TokM\\nQuestion Paragraph\\nStart/End Span\\nBERT\\nE[CLS] E1  E[SEP]... EN E1’ ... EM’\\nC\\n T1\\n T[SEP]...\\n TN\\n T1’ ...\\n TM’\\n[CLS] Tok 1  [SEP]... Tok N Tok 1 ... TokM\\nMasked Sentence A Masked Sentence B\\nPre-training Fine-Tuning\\nNSP Mask LM Mask LM\\nUnlabeled Sentence A and B Pair \\nSQuAD\\nQuestion Answer Pair\\nNERMNLI\\nFigure 1: Overall pre-training and ﬁne-tuning procedures for BERT. Apart from output layers, the same architec-\\ntures are used in both pre-training and ﬁne-tuning. The same pre-trained model parameters are used to initialize\\nmodels for different down-stream tasks. During ﬁne-tuning, all parameters are ﬁne-tuned. [CLS] is a special\\nsymbol added in front of every input example, and [SEP] is a special separator token (e.g. separating ques-\\ntions/answers).\\ning and auto-encoder objectives have been used\\nfor pre-training such models (Howard and Ruder,'],\n",
              "  'ground_truth': 'The special symbols added to the input examples in BERT are [CLS] and [SEP]. [CLS] is used to represent the beginning of an input example, while [SEP] is used to separate different parts of the input. For instance, in a question-answering task, [SEP] can be used to separate questions from answers.'},\n",
              " {'question': 'Question: According to the passage, what is the two-step framework of BERT and what happens in each step?\\n\\nAnswer: The two-step framework of BERT includes pre-training and fine-tuning. During pre-training, the model is trained on unlabeled data over different pre-training tasks. For fine-tuning, the BERT model is first initialized with the pre-trained parameters, and all of the parameters are fine-tuned using labeled data from the downstream tasks.',\n",
              "  'answer': 'The two-step framework of BERT includes pre-training and fine-tuning. During pre-training, the model is trained on unlabeled data over different pre-training tasks, such as Masked Language Model (MLM) and Next Sentence Prediction (NSP). For fine-tuning, the BERT model is first initialized with the pre-trained parameters, and all of the parameters are fine-tuned using labeled data from the downstream tasks. Each downstream task has separate inputs and outputs, and the token representations are fed into an output layer for token-level tasks or the [CLS] representation is fed into an output layer for classification. Fine-tuning is relatively inexpensive and can be done in at most 1 hour on a single Cloud TPU or a few hours on a GPU.',\n",
              "  'contexts': ['2018; Radford et al., 2018; Dai and Le, 2015).\\n2.3 Transfer Learning from Supervised Data\\nThere has also been work showing effective trans-\\nfer from supervised tasks with large datasets, such\\nas natural language inference (Conneau et al.,\\n2017) and machine translation (McCann et al.,\\n2017). Computer vision research has also demon-\\nstrated the importance of transfer learning from\\nlarge pre-trained models, where an effective recipe\\nis to ﬁne-tune models pre-trained with Ima-\\ngeNet (Deng et al., 2009; Yosinski et al., 2014).\\n3 BERT\\nWe introduce BERT and its detailed implementa-\\ntion in this section. There are two steps in our\\nframework: pre-training and ﬁne-tuning. Dur-\\ning pre-training, the model is trained on unlabeled\\ndata over different pre-training tasks. For ﬁne-\\ntuning, the BERT model is ﬁrst initialized with\\nthe pre-trained parameters, and all of the param-\\neters are ﬁne-tuned using labeled data from the\\ndownstream tasks. Each downstream task has sep-'],\n",
              "  'ground_truth': 'The two-step framework of BERT includes pre-training and fine-tuning. During pre-training, the model is trained on unlabeled data over different pre-training tasks. For fine-tuning, the BERT model is first initialized with the pre-trained parameters, and all of the parameters are fine-tuned using labeled data from the downstream tasks. This is stated in the provided context: \"We introduce BERT and its detailed implementation in this section. There are two steps in our framework: pre-training and ﬁne-tuning. Dur\\\\-ing pre-training, the model is trained on unlabeled data over different pre-training tasks. For ﬁne-\\\\ntuning, the BERT model is ﬁrst initialized with the pre-trained parameters, and all of the parameters are ﬁne-tuned using labeled data from the downstream tasks.\"'},\n",
              " {'question': \"Question: According to the passage, what is the model architecture of BERT and what minimal difference exists between its pre-trained and final downstream architecture?\\n\\nBERT's model architecture is a multi-layer bidirectional Transformer encoder, based on the original implementation described in Vaswani et al. (2017). The pre-trained architecture and the final downstream architecture have minimal difference in BERT.\",\n",
              "  'answer': 'The model architecture of BERT is a multi-layer bidirectional Transformer encoder. According to the passage, the pre-trained architecture and the final downstream architecture have minimal difference in BERT. The pre-trained architecture is used as the initial point for downstream tasks, and fine-tuning is performed to adapt the model to specific tasks. However, the overall architecture remains the same.',\n",
              "  'contexts': ['arate ﬁne-tuned models, even though they are ini-\\ntialized with the same pre-trained parameters. The\\nquestion-answering example in Figure 1 will serve\\nas a running example for this section.\\nA distinctive feature of BERT is its uniﬁed ar-\\nchitecture across different tasks. There is mini-\\nmal difference between the pre-trained architec-\\nture and the ﬁnal downstream architecture.\\nModel Architecture BERT’s model architec-\\nture is a multi-layer bidirectional Transformer en-\\ncoder based on the original implementation de-\\nscribed in Vaswani et al. (2017) and released in\\nthe tensor2tensor library.1 Because the use\\nof Transformers has become common and our im-\\nplementation is almost identical to the original,\\nwe will omit an exhaustive background descrip-\\ntion of the model architecture and refer readers to\\nVaswani et al. (2017) as well as excellent guides\\nsuch as “The Annotated Transformer.”2\\nIn this work, we denote the number of layers\\n(i.e., Transformer blocks) as L, the hidden size as'],\n",
              "  'ground_truth': 'According to the passage, the model architecture of BERT is a multi-layer bidirectional Transformer encoder, based on the original implementation described in Vaswani et al. (2017). The pre-trained and final downstream architecture of BERT have a minimal difference. This means that the architecture of BERT remains largely the same, whether it is being used for pre-training or for fine-tuning on a specific downstream task. The use of a unified architecture across different tasks is a distinctive feature of BERT.'},\n",
              " {'question': \"Question:\\nWhy did the developers choose BERTBASE to have the same model size as OpenAI GPT, and what is the main difference between the BERT Transformer's self-attention mechanism and the GPT Transformer's self-attention mechanism?\\n\\nAnswer:\\nThe developers chose BERTBASE to have the same model size as OpenAI GPT for comparison purposes. The main difference between the BERT Transformer's self-attention mechanism and the GPT Transformer's self-attention mechanism is that the BERT Transformer uses bidirectional self-attention, where each token can attend to context in both directions, while the GPT Transformer uses constrained self-attention where every token can only attend to context to its left.\",\n",
              "  'answer': \"The developers chose BERTBASE to have the same model size as OpenAI GPT for comparison purposes. The main difference between the BERT Transformer's self-attention mechanism and the GPT Transformer's self-attention mechanism is that the BERT Transformer uses bidirectional self-attention, where each token can attend to context in both directions, while the GPT Transformer uses constrained self-attention where every token can only attend to context to its left.\",\n",
              "  'contexts': ['H, and the number of self-attention heads as A.3\\nWe primarily report results on two model sizes:\\nBERTBASE (L=12, H=768, A=12, Total Param-\\neters=110M) and BERTLARGE (L=24, H=1024,\\nA=16, Total Parameters=340M).\\nBERTBASE was chosen to have the same model\\nsize as OpenAI GPT for comparison purposes.\\nCritically, however, the BERT Transformer uses\\nbidirectional self-attention, while the GPT Trans-\\nformer uses constrained self-attention where every\\ntoken can only attend to context to its left.4\\n1https://github.com/tensorﬂow/tensor2tensor\\n2http://nlp.seas.harvard.edu/2018/04/03/attention.html\\n3In all cases we set the feed-forward/ﬁlter size to be 4H,\\ni.e., 3072 for the H = 768and 4096 for the H = 1024.\\n4We note that in the literature the bidirectional Trans-'],\n",
              "  'ground_truth': 'The developers chose BERTBASE to have the same model size as OpenAI GPT for comparison purposes. The main difference between the BERT Transformer\\'s self-attention mechanism and the GPT Transformer\\'s self-attention mechanism is that the BERT Transformer uses bidirectional self-attention, where each token can attend to context in both directions, while the GPT Transformer uses constrained self-attention where every token can only attend to context to its left. This information can be found in the context given, specifically: \"BERTBASE was chosen to have the same model size as OpenAI GPT for comparison purposes. Critically, however, the BERT Transformer uses bidirectional self-attention, while the GPT Transformer uses constrained self-attention where every token can only attend to context to its left.\"'},\n",
              " {'question': \"Question: Given the input representation guidelines for BERT, how is a pair of sentences represented in a single token sequence, and which hidden state is used as the aggregate sequence representation for classification tasks?\\n\\nAnswer: A pair of sentences in BERT's input representation is packed together into a single sequence, with sentences separated by a special token ([SEP]). The first token of every sequence is always a special classification token ( [CLS]). For classification tasks, the final hidden state corresponding to the special classification token ( [CLS]) is used as the aggregate sequence representation.\",\n",
              "  'answer': \"A pair of sentences in BERT's input representation is packed together into a single sequence, with sentences separated by a special token ([SEP]). The first token of every sequence is always a special classification token ( [CLS]). For classification tasks, the final hidden state corresponding to the special classification token ( [CLS]) is used as the aggregate sequence representation.\\n\\nIn addition, for sentence pairs, a learned embedding is added to every token indicating whether it belongs to sentence A or sentence B. This information helps BERT differentiate between the sentences.\",\n",
              "  'contexts': ['Input/Output Representations To make BERT\\nhandle a variety of down-stream tasks, our input\\nrepresentation is able to unambiguously represent\\nboth a single sentence and a pair of sentences\\n(e.g., ⟨Question, Answer ⟩) in one token sequence.\\nThroughout this work, a “sentence” can be an arbi-\\ntrary span of contiguous text, rather than an actual\\nlinguistic sentence. A “sequence” refers to the in-\\nput token sequence to BERT, which may be a sin-\\ngle sentence or two sentences packed together.\\nWe use WordPiece embeddings (Wu et al.,\\n2016) with a 30,000 token vocabulary. The ﬁrst\\ntoken of every sequence is always a special clas-\\nsiﬁcation token ( [CLS]). The ﬁnal hidden state\\ncorresponding to this token is used as the ag-\\ngregate sequence representation for classiﬁcation\\ntasks. Sentence pairs are packed together into a\\nsingle sequence. We differentiate the sentences in\\ntwo ways. First, we separate them with a special\\ntoken ([SEP]). Second, we add a learned embed-'],\n",
              "  'ground_truth': 'A pair of sentences in BERT\\'s input representation is packed together into a single sequence, with sentences separated by a special token ([SEP]). The first token of every sequence is always a special classification token ( [CLS]). For classification tasks, the final hidden state corresponding to the special classification token ( [CLS]) is used as the aggregate sequence representation.\\n\\nThis information is provided in the context through the following excerpts:\\n\\n- \"our input representation is able to unambiguously represent both a single sentence and a pair of sentences (e.g., <Question, Answer ⟩) in one token sequence.\"\\n- \"A “sequence” refers to the input token sequence to BERT, which may be a single sentence or two sentences packed together.\"\\n- \"The final hidden state corresponding to this token is used as the aggregate sequence representation for classification tasks.\"\\n- \"Sentence pairs are packed together into a single sequence. We differentiate them in two ways. First, we separate them with a special token ([SEP]).\"'},\n",
              " {'question': 'Question: Based on the context, what are the two unsupervised tasks used to pre-train BERT, and how do they differ from traditional left-to-right or right-to-left language models?\\n\\nAnswer: The two unsupervised tasks used to pre-train BERT are Masked LM and the next sentence prediction task. Masked LM is a bidirectional model, which means it can learn context from both left and right sides of a token, while traditional language models are either left-to-right or right-to-left, and can only learn context in one direction. The next sentence prediction task is also a bidirectional model, and it predicts whether two sentences follow each other in a text, while traditional language models do not consider the relationship between sentences.',\n",
              "  'answer': 'The two unsupervised tasks used to pre-train BERT are Masked LM and the next sentence prediction task. Masked LM is a bidirectional model, which means it can learn context from both left and right sides of a token, while traditional language models are either left-to-right or right-to-left, and can only learn context in one direction. The next sentence prediction task is also a bidirectional model, and it predicts whether two sentences follow each other in a text, while traditional language models do not consider the relationship between sentences.',\n",
              "  'contexts': ['ding to every token indicating whether it belongs\\nto sentence A or sentence B. As shown in Figure 1,\\nwe denote input embedding as E, the ﬁnal hidden\\nvector of the special [CLS] token as C ∈RH,\\nand the ﬁnal hidden vector for the ith input token\\nas Ti ∈RH.\\nFor a given token, its input representation is\\nconstructed by summing the corresponding token,\\nsegment, and position embeddings. A visualiza-\\ntion of this construction can be seen in Figure 2.\\n3.1 Pre-training BERT\\nUnlike Peters et al. (2018a) and Radford et al.\\n(2018), we do not use traditional left-to-right or\\nright-to-left language models to pre-train BERT.\\nInstead, we pre-train BERT using two unsuper-\\nvised tasks, described in this section. This step\\nis presented in the left part of Figure 1.\\nTask #1: Masked LM Intuitively, it is reason-\\nable to believe that a deep bidirectional model is\\nstrictly more powerful than either a left-to-right\\nmodel or the shallow concatenation of a left-to-'],\n",
              "  'ground_truth': 'The two unsupervised tasks used to pre-train BERT are Masked LM and the next sentence prediction task. Masked LM differs from traditional left-to-right or right-to-left language models as it is a bidirectional model, meaning it can learn context from both left and right sides of a token, while traditional language models can only learn context in one direction. The next sentence prediction task is also a bidirectional model, and it predicts whether two sentences follow each other in a text, while traditional language models do not consider the relationship between sentences.'},\n",
              " {'question': 'Question:\\n\\nWhat is the procedure called for training a deep bidirectional representation in a transformer model, where a certain percentage of input tokens are masked at random and the model is tasked to predict those masked tokens? This procedure is often referred to as a \"masked LM\" in the text, but what is the other common name for it, as mentioned in the literature?',\n",
              "  'answer': 'The other common name for the procedure called \"masked LM\" in the text, where a certain percentage of input tokens are masked at random and the model is tasked to predict those masked tokens, is a \"Cloze task.\" This term is often used in the literature.',\n",
              "  'contexts': ['right and a right-to-left model. Unfortunately,\\nstandard conditional language models can only be\\ntrained left-to-right or right-to-left, since bidirec-\\ntional conditioning would allow each word to in-\\ndirectly “see itself”, and the model could trivially\\npredict the target word in a multi-layered context.\\nformer is often referred to as a “Transformer encoder” while\\nthe left-context-only version is referred to as a “Transformer\\ndecoder” since it can be used for text generation.\\nIn order to train a deep bidirectional representa-\\ntion, we simply mask some percentage of the input\\ntokens at random, and then predict those masked\\ntokens. We refer to this procedure as a “masked\\nLM” (MLM), although it is often referred to as a\\nCloze task in the literature (Taylor, 1953). In this\\ncase, the ﬁnal hidden vectors corresponding to the\\nmask tokens are fed into an output softmax over\\nthe vocabulary, as in a standard LM. In all of our\\nexperiments, we mask 15% of all WordPiece to-'],\n",
              "  'ground_truth': 'The other common name for the procedure called \"masked LM\" (MLM) in the text, where a certain percentage of input tokens are masked at random and the model is tasked to predict those masked tokens, is a \"Cloze task.\" This term is used in the literature, as mentioned in the context, and was first introduced by Taylor in 1953.'},\n",
              " {'question': 'Question: According to the given context, what percentage of the time is the original i-th token kept unchanged during training, and what is it used for in the training process?\\n\\nAnswer: The original i-th token is kept unchanged 10% of the time. It is used to predict the original token with cross entropy loss.',\n",
              "  'answer': 'The original i-th token is kept unchanged 10% of the time during training. It is used to predict the original token with cross entropy loss. This is done to bias the representation towards the actual observed word and to force the Transformer encoder to keep a distributional contextual representation of every input token.',\n",
              "  'contexts': ['kens in each sequence at random. In contrast to\\ndenoising auto-encoders (Vincent et al., 2008), we\\nonly predict the masked words rather than recon-\\nstructing the entire input.\\nAlthough this allows us to obtain a bidirec-\\ntional pre-trained model, a downside is that we\\nare creating a mismatch between pre-training and\\nﬁne-tuning, since the [MASK] token does not ap-\\npear during ﬁne-tuning. To mitigate this, we do\\nnot always replace “masked” words with the ac-\\ntual [MASK] token. The training data generator\\nchooses 15% of the token positions at random for\\nprediction. If the i-th token is chosen, we replace\\nthe i-th token with (1) the [MASK] token 80% of\\nthe time (2) a random token 10% of the time (3)\\nthe unchanged i-th token 10% of the time. Then,\\nTi will be used to predict the original token with\\ncross entropy loss. We compare variations of this\\nprocedure in Appendix C.2.\\nTask #2: Next Sentence Prediction (NSP)\\nMany important downstream tasks such as Ques-'],\n",
              "  'ground_truth': 'The original i-th token is kept unchanged 10% of the time during training. It is used for predicting the original token with cross entropy loss as part of the training procedure. This is done to mitigate the mismatch between pre-training and fine-tuning, as the [MASK] token does not appear during fine-tuning.'},\n",
              " {'question': 'Question: Based on the given context, what is the purpose of pre-training a model with a binarized next sentence prediction task, and how accurate is the final model at predicting the next sentence?\\n\\nAnswer: The purpose of pre-training a model with a binarized next sentence prediction task is to help the model understand sentence relationships, which is beneficial for Question Answering (QA) and Natural Language Inference (NLI). The final model achieves 97%-98% accuracy on the next sentence prediction task.',\n",
              "  'answer': 'The purpose of pre-training a model with a binarized next sentence prediction task is to help the model understand sentence relationships, which is beneficial for Question Answering (QA) and Natural Language Inference (NLI). The final model achieves 97%-98% accuracy on the next sentence prediction task.',\n",
              "  'contexts': ['tion Answering (QA) and Natural Language Infer-\\nence (NLI) are based on understanding the rela-\\ntionship between two sentences, which is not di-\\nrectly captured by language modeling. In order\\nto train a model that understands sentence rela-\\ntionships, we pre-train for a binarized next sen-\\ntence prediction task that can be trivially gener-\\nated from any monolingual corpus. Speciﬁcally,\\nwhen choosing the sentencesA and B for each pre-\\ntraining example, 50% of the time B is the actual\\nnext sentence that follows A (labeled as IsNext),\\nand 50% of the time it is a random sentence from\\nthe corpus (labeled as NotNext). As we show\\nin Figure 1, C is used for next sentence predic-\\ntion (NSP). 5 Despite its simplicity, we demon-\\nstrate in Section 5.1 that pre-training towards this\\ntask is very beneﬁcial to both QA and NLI. 6\\n5The ﬁnal model achieves 97%-98% accuracy on NSP.\\n6The vector C is not a meaningful sentence representation\\nwithout ﬁne-tuning, since it was trained with NSP.'],\n",
              "  'ground_truth': \"The purpose of pre-training a model with a binarized next sentence prediction (NSP) task is to help the model understand sentence relationships, which is beneficial for Question Answering (QA) and Natural Language Inference (NLI). During pre-training, when selecting sentences A and B for each example, 50% of the time B is the actual next sentence that follows A (labeled as IsNext), and 50% of the time it is a random sentence from the corpus (labeled as NotNext). The final model achieves 97%-98% accuracy on the NSP task, demonstrating its effectiveness in understanding sentence relationships. However, it's important to note that the vector C, used for NSP, is not a meaningful sentence representation without fine-tuning, as it was specifically trained for the NSP task.\"},\n",
              " {'question': 'Question: Based on the context, what are the two sources of data used for pre-training the BERT model?',\n",
              "  'answer': 'The two sources of data used for pre-training the BERT model are a large corpus of text data and a masked language modeling (MLM) pre-training task. The corpus of text data is used to generate training input sequences for the MLM pre-training task. The MLM pre-training task involves replacing some of the target tokens in the training input sequences with the [MASK] symbol, other random tokens, or keeping them as is, and then training the model to predict the original target tokens based on the context. The probabilities of these specific strategies used during MLM pre-training are 80%, 10%, and 10%.',\n",
              "  'contexts': ['[CLS] he likes play ##ing [SEP]my dog is cute [SEP]Input\\nE[CLS] Ehe Elikes Eplay E##ing E[SEP]Emy Edog Eis Ecute E[SEP]\\nToken\\nEmbeddings\\nEA EB EB EB EB EBEA EA EA EA EASegment\\nEmbeddings\\nE0 E6 E7 E8 E9 E10E1 E2 E3 E4 E5Position\\nEmbeddings\\nFigure 2: BERT input representation. The input embeddings are the sum of the token embeddings, the segmenta-\\ntion embeddings and the position embeddings.\\nThe NSP task is closely related to representation-\\nlearning objectives used in Jernite et al. (2017) and\\nLogeswaran and Lee (2018). However, in prior\\nwork, only sentence embeddings are transferred to\\ndown-stream tasks, where BERT transfers all pa-\\nrameters to initialize end-task model parameters.\\nPre-training data The pre-training procedure\\nlargely follows the existing literature on language\\nmodel pre-training. For the pre-training corpus we\\nuse the BooksCorpus (800M words) (Zhu et al.,\\n2015) and English Wikipedia (2,500M words).\\nFor Wikipedia we extract only the text passages'],\n",
              "  'ground_truth': 'The two sources of data used for pre-training the BERT model are the BooksCorpus, which contains 800M words, and English Wikipedia, which contains 2,500M words. These two sources are used to create the pre-training corpus for BERT.'}]"
            ]
          },
          "metadata": {},
          "execution_count": 60
        }
      ]
    },
    {
      "cell_type": "code",
      "source": [
        "from langchain.chat_models import ChatOpenAI\n",
        "\n",
        "llm = ChatOpenAI(model_name=\"gpt-3.5-turbo\", temperature=0, api_key = userdata.get(\"openai_api_key\"))"
      ],
      "metadata": {
        "colab": {
          "base_uri": "https://localhost:8080/"
        },
        "id": "--Tk5rBtUcaH",
        "outputId": "02b8f419-547d-4c98-cd07-199ec5b11e6e"
      },
      "execution_count": 54,
      "outputs": [
        {
          "output_type": "stream",
          "name": "stderr",
          "text": [
            "<ipython-input-54-2e332d8551a4>:3: LangChainDeprecationWarning: The class `ChatOpenAI` was deprecated in LangChain 0.0.10 and will be removed in 1.0. An updated version of the class exists in the :class:`~langchain-openai package and should be used instead. To use it run `pip install -U :class:`~langchain-openai` and import as `from :class:`~langchain_openai import ChatOpenAI``.\n",
            "  llm = ChatOpenAI(model_name=\"gpt-3.5-turbo\", temperature=0, api_key = userdata.get(\"openai_api_key\"))\n"
          ]
        }
      ]
    },
    {
      "cell_type": "code",
      "source": [
        "# implementing ragas metrics and evaluating our created dataset.\n",
        "\n",
        "from ragas.metrics import (\n",
        "    answer_relevancy,\n",
        "    faithfulness,\n",
        "    context_recall,\n",
        "    context_precision,\n",
        ")\n",
        "\n",
        "#\n",
        "from ragas import evaluate\n",
        "\n",
        "result = evaluate(\n",
        "    eval_dataset,\n",
        "    metrics=[\n",
        "        context_precision,\n",
        "        faithfulness,\n",
        "        answer_relevancy,\n",
        "        context_recall,\n",
        "    ],\n",
        "     llm=llm,\n",
        "    embeddings=embeddings,\n",
        "    raise_exceptions=False\n",
        ")"
      ],
      "metadata": {
        "colab": {
          "base_uri": "https://localhost:8080/",
          "height": 49,
          "referenced_widgets": [
            "dae13c59c16d4bc2b996ae2f21506a33",
            "367a7ebbcbc943e18cdee9c106b376d5",
            "15f1704dda604c79aebb585b2ce0557e",
            "e0bca77b5b3e42b2bece9b9f9063ef95",
            "1505a75a25c44d69a402bde97838c699",
            "7853354f521443eaaaf0bf972d64dee4",
            "52640c47c73943628f96d8e05fb514b7",
            "13f3873f4cf74a7c804281adfcb78017",
            "95eeb269141543d3b995cab171eef165",
            "0f31b682cf0644b0aadda49b4a63731f",
            "553b624b9ff34e7d8a9a48b46f65c420"
          ]
        },
        "id": "SdhiotM2N1oZ",
        "outputId": "bb651600-a24b-48e7-ffdc-a5135c53c438"
      },
      "execution_count": 55,
      "outputs": [
        {
          "output_type": "display_data",
          "data": {
            "text/plain": [
              "Evaluating:   0%|          | 0/40 [00:00<?, ?it/s]"
            ],
            "application/vnd.jupyter.widget-view+json": {
              "version_major": 2,
              "version_minor": 0,
              "model_id": "dae13c59c16d4bc2b996ae2f21506a33"
            }
          },
          "metadata": {}
        }
      ]
    },
    {
      "cell_type": "code",
      "source": [
        "result"
      ],
      "metadata": {
        "colab": {
          "base_uri": "https://localhost:8080/"
        },
        "id": "zWd6SiUJPqUL",
        "outputId": "41aed3d2-748f-4bdb-ce87-693c8b499493"
      },
      "execution_count": 56,
      "outputs": [
        {
          "output_type": "execute_result",
          "data": {
            "text/plain": [
              "{'context_precision': 1.0000, 'faithfulness': 0.6002, 'answer_relevancy': 0.7922, 'context_recall': 0.8083}"
            ]
          },
          "metadata": {},
          "execution_count": 56
        }
      ]
    },
    {
      "cell_type": "code",
      "source": [
        "#Extract the details into a dataframe\n",
        "results_df = result.to_pandas()\n",
        "results_df"
      ],
      "metadata": {
        "colab": {
          "base_uri": "https://localhost:8080/",
          "height": 554
        },
        "id": "G6EUROaFUuMS",
        "outputId": "4b7bdab7-08a6-4d04-b508-c70bfe94cc22"
      },
      "execution_count": 57,
      "outputs": [
        {
          "output_type": "execute_result",
          "data": {
            "text/plain": [
              "                                          user_input  \\\n",
              "0  Question: What special symbols are added to th...   \n",
              "1  Question: According to the passage, what is th...   \n",
              "2  Question: According to the passage, what is th...   \n",
              "3  Question:\\nWhy did the developers choose BERTB...   \n",
              "4  Question: Given the input representation guide...   \n",
              "5  Question: Based on the context, what are the t...   \n",
              "6  Question:\\n\\nWhat is the procedure called for ...   \n",
              "7  Question: According to the given context, what...   \n",
              "8  Question: Based on the given context, what is ...   \n",
              "9  Question: Based on the context, what are the t...   \n",
              "\n",
              "                                  retrieved_contexts  \\\n",
              "0  [BERT BERT\\nE[CLS] E1  E[SEP]... EN E1’ ... EM...   \n",
              "1  [2018; Radford et al., 2018; Dai and Le, 2015)...   \n",
              "2  [arate ﬁne-tuned models, even though they are ...   \n",
              "3  [H, and the number of self-attention heads as ...   \n",
              "4  [Input/Output Representations To make BERT\\nha...   \n",
              "5  [ding to every token indicating whether it bel...   \n",
              "6  [right and a right-to-left model. Unfortunatel...   \n",
              "7  [kens in each sequence at random. In contrast ...   \n",
              "8  [tion Answering (QA) and Natural Language Infe...   \n",
              "9  [[CLS] he likes play ##ing [SEP]my dog is cute...   \n",
              "\n",
              "                                            response  \\\n",
              "0  The special symbols added to the input example...   \n",
              "1  The user's query asks about the two-step frame...   \n",
              "2  Based on the provided context, the model archi...   \n",
              "3  The developers chose BERTBASE to have the same...   \n",
              "4  A pair of sentences in BERT's input representa...   \n",
              "5  The two unsupervised tasks used to pre-train B...   \n",
              "6  The other common name for the procedure called...   \n",
              "7  The original i-th token is kept unchanged 10% ...   \n",
              "8  The purpose of pre-training a model with a bin...   \n",
              "9  Based on the context provided, the two sources...   \n",
              "\n",
              "                                           reference  context_precision  \\\n",
              "0  The special symbols added to the input example...                1.0   \n",
              "1  The two-step framework of BERT includes pre-tr...                1.0   \n",
              "2  According to the passage, the model architectu...                1.0   \n",
              "3  The developers chose BERTBASE to have the same...                1.0   \n",
              "4  A pair of sentences in BERT's input representa...                1.0   \n",
              "5  right and right-to-left model. To test this hy...                1.0   \n",
              "6  The procedure you're referring to is commonly ...                1.0   \n",
              "7  The original i-th token is kept unchanged 10% ...                1.0   \n",
              "8  The purpose of pre-training a model with a bin...                1.0   \n",
              "9  The two sources of data used for pre-training ...                1.0   \n",
              "\n",
              "   faithfulness  answer_relevancy  context_recall  \n",
              "0      1.000000          0.855733        1.000000  \n",
              "1      0.727273          0.745228        0.750000  \n",
              "2      0.500000          0.852341        0.500000  \n",
              "3      1.000000          0.822168        0.666667  \n",
              "4      1.000000          0.759377        1.000000  \n",
              "5      0.125000          0.711801        1.000000  \n",
              "6      0.000000          0.556785        0.666667  \n",
              "7      0.400000          0.731638        1.000000  \n",
              "8      1.000000          0.901197        0.500000  \n",
              "9      0.250000          0.985869        1.000000  "
            ],
            "text/html": [
              "\n",
              "  <div id=\"df-f57b81d7-baf9-4d4f-ac22-203ad43e1c12\" class=\"colab-df-container\">\n",
              "    <div>\n",
              "<style scoped>\n",
              "    .dataframe tbody tr th:only-of-type {\n",
              "        vertical-align: middle;\n",
              "    }\n",
              "\n",
              "    .dataframe tbody tr th {\n",
              "        vertical-align: top;\n",
              "    }\n",
              "\n",
              "    .dataframe thead th {\n",
              "        text-align: right;\n",
              "    }\n",
              "</style>\n",
              "<table border=\"1\" class=\"dataframe\">\n",
              "  <thead>\n",
              "    <tr style=\"text-align: right;\">\n",
              "      <th></th>\n",
              "      <th>user_input</th>\n",
              "      <th>retrieved_contexts</th>\n",
              "      <th>response</th>\n",
              "      <th>reference</th>\n",
              "      <th>context_precision</th>\n",
              "      <th>faithfulness</th>\n",
              "      <th>answer_relevancy</th>\n",
              "      <th>context_recall</th>\n",
              "    </tr>\n",
              "  </thead>\n",
              "  <tbody>\n",
              "    <tr>\n",
              "      <th>0</th>\n",
              "      <td>Question: What special symbols are added to th...</td>\n",
              "      <td>[BERT BERT\\nE[CLS] E1  E[SEP]... EN E1’ ... EM...</td>\n",
              "      <td>The special symbols added to the input example...</td>\n",
              "      <td>The special symbols added to the input example...</td>\n",
              "      <td>1.0</td>\n",
              "      <td>1.000000</td>\n",
              "      <td>0.855733</td>\n",
              "      <td>1.000000</td>\n",
              "    </tr>\n",
              "    <tr>\n",
              "      <th>1</th>\n",
              "      <td>Question: According to the passage, what is th...</td>\n",
              "      <td>[2018; Radford et al., 2018; Dai and Le, 2015)...</td>\n",
              "      <td>The user's query asks about the two-step frame...</td>\n",
              "      <td>The two-step framework of BERT includes pre-tr...</td>\n",
              "      <td>1.0</td>\n",
              "      <td>0.727273</td>\n",
              "      <td>0.745228</td>\n",
              "      <td>0.750000</td>\n",
              "    </tr>\n",
              "    <tr>\n",
              "      <th>2</th>\n",
              "      <td>Question: According to the passage, what is th...</td>\n",
              "      <td>[arate ﬁne-tuned models, even though they are ...</td>\n",
              "      <td>Based on the provided context, the model archi...</td>\n",
              "      <td>According to the passage, the model architectu...</td>\n",
              "      <td>1.0</td>\n",
              "      <td>0.500000</td>\n",
              "      <td>0.852341</td>\n",
              "      <td>0.500000</td>\n",
              "    </tr>\n",
              "    <tr>\n",
              "      <th>3</th>\n",
              "      <td>Question:\\nWhy did the developers choose BERTB...</td>\n",
              "      <td>[H, and the number of self-attention heads as ...</td>\n",
              "      <td>The developers chose BERTBASE to have the same...</td>\n",
              "      <td>The developers chose BERTBASE to have the same...</td>\n",
              "      <td>1.0</td>\n",
              "      <td>1.000000</td>\n",
              "      <td>0.822168</td>\n",
              "      <td>0.666667</td>\n",
              "    </tr>\n",
              "    <tr>\n",
              "      <th>4</th>\n",
              "      <td>Question: Given the input representation guide...</td>\n",
              "      <td>[Input/Output Representations To make BERT\\nha...</td>\n",
              "      <td>A pair of sentences in BERT's input representa...</td>\n",
              "      <td>A pair of sentences in BERT's input representa...</td>\n",
              "      <td>1.0</td>\n",
              "      <td>1.000000</td>\n",
              "      <td>0.759377</td>\n",
              "      <td>1.000000</td>\n",
              "    </tr>\n",
              "    <tr>\n",
              "      <th>5</th>\n",
              "      <td>Question: Based on the context, what are the t...</td>\n",
              "      <td>[ding to every token indicating whether it bel...</td>\n",
              "      <td>The two unsupervised tasks used to pre-train B...</td>\n",
              "      <td>right and right-to-left model. To test this hy...</td>\n",
              "      <td>1.0</td>\n",
              "      <td>0.125000</td>\n",
              "      <td>0.711801</td>\n",
              "      <td>1.000000</td>\n",
              "    </tr>\n",
              "    <tr>\n",
              "      <th>6</th>\n",
              "      <td>Question:\\n\\nWhat is the procedure called for ...</td>\n",
              "      <td>[right and a right-to-left model. Unfortunatel...</td>\n",
              "      <td>The other common name for the procedure called...</td>\n",
              "      <td>The procedure you're referring to is commonly ...</td>\n",
              "      <td>1.0</td>\n",
              "      <td>0.000000</td>\n",
              "      <td>0.556785</td>\n",
              "      <td>0.666667</td>\n",
              "    </tr>\n",
              "    <tr>\n",
              "      <th>7</th>\n",
              "      <td>Question: According to the given context, what...</td>\n",
              "      <td>[kens in each sequence at random. In contrast ...</td>\n",
              "      <td>The original i-th token is kept unchanged 10% ...</td>\n",
              "      <td>The original i-th token is kept unchanged 10% ...</td>\n",
              "      <td>1.0</td>\n",
              "      <td>0.400000</td>\n",
              "      <td>0.731638</td>\n",
              "      <td>1.000000</td>\n",
              "    </tr>\n",
              "    <tr>\n",
              "      <th>8</th>\n",
              "      <td>Question: Based on the given context, what is ...</td>\n",
              "      <td>[tion Answering (QA) and Natural Language Infe...</td>\n",
              "      <td>The purpose of pre-training a model with a bin...</td>\n",
              "      <td>The purpose of pre-training a model with a bin...</td>\n",
              "      <td>1.0</td>\n",
              "      <td>1.000000</td>\n",
              "      <td>0.901197</td>\n",
              "      <td>0.500000</td>\n",
              "    </tr>\n",
              "    <tr>\n",
              "      <th>9</th>\n",
              "      <td>Question: Based on the context, what are the t...</td>\n",
              "      <td>[[CLS] he likes play ##ing [SEP]my dog is cute...</td>\n",
              "      <td>Based on the context provided, the two sources...</td>\n",
              "      <td>The two sources of data used for pre-training ...</td>\n",
              "      <td>1.0</td>\n",
              "      <td>0.250000</td>\n",
              "      <td>0.985869</td>\n",
              "      <td>1.000000</td>\n",
              "    </tr>\n",
              "  </tbody>\n",
              "</table>\n",
              "</div>\n",
              "    <div class=\"colab-df-buttons\">\n",
              "\n",
              "  <div class=\"colab-df-container\">\n",
              "    <button class=\"colab-df-convert\" onclick=\"convertToInteractive('df-f57b81d7-baf9-4d4f-ac22-203ad43e1c12')\"\n",
              "            title=\"Convert this dataframe to an interactive table.\"\n",
              "            style=\"display:none;\">\n",
              "\n",
              "  <svg xmlns=\"http://www.w3.org/2000/svg\" height=\"24px\" viewBox=\"0 -960 960 960\">\n",
              "    <path d=\"M120-120v-720h720v720H120Zm60-500h600v-160H180v160Zm220 220h160v-160H400v160Zm0 220h160v-160H400v160ZM180-400h160v-160H180v160Zm440 0h160v-160H620v160ZM180-180h160v-160H180v160Zm440 0h160v-160H620v160Z\"/>\n",
              "  </svg>\n",
              "    </button>\n",
              "\n",
              "  <style>\n",
              "    .colab-df-container {\n",
              "      display:flex;\n",
              "      gap: 12px;\n",
              "    }\n",
              "\n",
              "    .colab-df-convert {\n",
              "      background-color: #E8F0FE;\n",
              "      border: none;\n",
              "      border-radius: 50%;\n",
              "      cursor: pointer;\n",
              "      display: none;\n",
              "      fill: #1967D2;\n",
              "      height: 32px;\n",
              "      padding: 0 0 0 0;\n",
              "      width: 32px;\n",
              "    }\n",
              "\n",
              "    .colab-df-convert:hover {\n",
              "      background-color: #E2EBFA;\n",
              "      box-shadow: 0px 1px 2px rgba(60, 64, 67, 0.3), 0px 1px 3px 1px rgba(60, 64, 67, 0.15);\n",
              "      fill: #174EA6;\n",
              "    }\n",
              "\n",
              "    .colab-df-buttons div {\n",
              "      margin-bottom: 4px;\n",
              "    }\n",
              "\n",
              "    [theme=dark] .colab-df-convert {\n",
              "      background-color: #3B4455;\n",
              "      fill: #D2E3FC;\n",
              "    }\n",
              "\n",
              "    [theme=dark] .colab-df-convert:hover {\n",
              "      background-color: #434B5C;\n",
              "      box-shadow: 0px 1px 3px 1px rgba(0, 0, 0, 0.15);\n",
              "      filter: drop-shadow(0px 1px 2px rgba(0, 0, 0, 0.3));\n",
              "      fill: #FFFFFF;\n",
              "    }\n",
              "  </style>\n",
              "\n",
              "    <script>\n",
              "      const buttonEl =\n",
              "        document.querySelector('#df-f57b81d7-baf9-4d4f-ac22-203ad43e1c12 button.colab-df-convert');\n",
              "      buttonEl.style.display =\n",
              "        google.colab.kernel.accessAllowed ? 'block' : 'none';\n",
              "\n",
              "      async function convertToInteractive(key) {\n",
              "        const element = document.querySelector('#df-f57b81d7-baf9-4d4f-ac22-203ad43e1c12');\n",
              "        const dataTable =\n",
              "          await google.colab.kernel.invokeFunction('convertToInteractive',\n",
              "                                                    [key], {});\n",
              "        if (!dataTable) return;\n",
              "\n",
              "        const docLinkHtml = 'Like what you see? Visit the ' +\n",
              "          '<a target=\"_blank\" href=https://colab.research.google.com/notebooks/data_table.ipynb>data table notebook</a>'\n",
              "          + ' to learn more about interactive tables.';\n",
              "        element.innerHTML = '';\n",
              "        dataTable['output_type'] = 'display_data';\n",
              "        await google.colab.output.renderOutput(dataTable, element);\n",
              "        const docLink = document.createElement('div');\n",
              "        docLink.innerHTML = docLinkHtml;\n",
              "        element.appendChild(docLink);\n",
              "      }\n",
              "    </script>\n",
              "  </div>\n",
              "\n",
              "\n",
              "<div id=\"df-02fd4765-777a-4acc-8dd2-4a5fd4cd3add\">\n",
              "  <button class=\"colab-df-quickchart\" onclick=\"quickchart('df-02fd4765-777a-4acc-8dd2-4a5fd4cd3add')\"\n",
              "            title=\"Suggest charts\"\n",
              "            style=\"display:none;\">\n",
              "\n",
              "<svg xmlns=\"http://www.w3.org/2000/svg\" height=\"24px\"viewBox=\"0 0 24 24\"\n",
              "     width=\"24px\">\n",
              "    <g>\n",
              "        <path d=\"M19 3H5c-1.1 0-2 .9-2 2v14c0 1.1.9 2 2 2h14c1.1 0 2-.9 2-2V5c0-1.1-.9-2-2-2zM9 17H7v-7h2v7zm4 0h-2V7h2v10zm4 0h-2v-4h2v4z\"/>\n",
              "    </g>\n",
              "</svg>\n",
              "  </button>\n",
              "\n",
              "<style>\n",
              "  .colab-df-quickchart {\n",
              "      --bg-color: #E8F0FE;\n",
              "      --fill-color: #1967D2;\n",
              "      --hover-bg-color: #E2EBFA;\n",
              "      --hover-fill-color: #174EA6;\n",
              "      --disabled-fill-color: #AAA;\n",
              "      --disabled-bg-color: #DDD;\n",
              "  }\n",
              "\n",
              "  [theme=dark] .colab-df-quickchart {\n",
              "      --bg-color: #3B4455;\n",
              "      --fill-color: #D2E3FC;\n",
              "      --hover-bg-color: #434B5C;\n",
              "      --hover-fill-color: #FFFFFF;\n",
              "      --disabled-bg-color: #3B4455;\n",
              "      --disabled-fill-color: #666;\n",
              "  }\n",
              "\n",
              "  .colab-df-quickchart {\n",
              "    background-color: var(--bg-color);\n",
              "    border: none;\n",
              "    border-radius: 50%;\n",
              "    cursor: pointer;\n",
              "    display: none;\n",
              "    fill: var(--fill-color);\n",
              "    height: 32px;\n",
              "    padding: 0;\n",
              "    width: 32px;\n",
              "  }\n",
              "\n",
              "  .colab-df-quickchart:hover {\n",
              "    background-color: var(--hover-bg-color);\n",
              "    box-shadow: 0 1px 2px rgba(60, 64, 67, 0.3), 0 1px 3px 1px rgba(60, 64, 67, 0.15);\n",
              "    fill: var(--button-hover-fill-color);\n",
              "  }\n",
              "\n",
              "  .colab-df-quickchart-complete:disabled,\n",
              "  .colab-df-quickchart-complete:disabled:hover {\n",
              "    background-color: var(--disabled-bg-color);\n",
              "    fill: var(--disabled-fill-color);\n",
              "    box-shadow: none;\n",
              "  }\n",
              "\n",
              "  .colab-df-spinner {\n",
              "    border: 2px solid var(--fill-color);\n",
              "    border-color: transparent;\n",
              "    border-bottom-color: var(--fill-color);\n",
              "    animation:\n",
              "      spin 1s steps(1) infinite;\n",
              "  }\n",
              "\n",
              "  @keyframes spin {\n",
              "    0% {\n",
              "      border-color: transparent;\n",
              "      border-bottom-color: var(--fill-color);\n",
              "      border-left-color: var(--fill-color);\n",
              "    }\n",
              "    20% {\n",
              "      border-color: transparent;\n",
              "      border-left-color: var(--fill-color);\n",
              "      border-top-color: var(--fill-color);\n",
              "    }\n",
              "    30% {\n",
              "      border-color: transparent;\n",
              "      border-left-color: var(--fill-color);\n",
              "      border-top-color: var(--fill-color);\n",
              "      border-right-color: var(--fill-color);\n",
              "    }\n",
              "    40% {\n",
              "      border-color: transparent;\n",
              "      border-right-color: var(--fill-color);\n",
              "      border-top-color: var(--fill-color);\n",
              "    }\n",
              "    60% {\n",
              "      border-color: transparent;\n",
              "      border-right-color: var(--fill-color);\n",
              "    }\n",
              "    80% {\n",
              "      border-color: transparent;\n",
              "      border-right-color: var(--fill-color);\n",
              "      border-bottom-color: var(--fill-color);\n",
              "    }\n",
              "    90% {\n",
              "      border-color: transparent;\n",
              "      border-bottom-color: var(--fill-color);\n",
              "    }\n",
              "  }\n",
              "</style>\n",
              "\n",
              "  <script>\n",
              "    async function quickchart(key) {\n",
              "      const quickchartButtonEl =\n",
              "        document.querySelector('#' + key + ' button');\n",
              "      quickchartButtonEl.disabled = true;  // To prevent multiple clicks.\n",
              "      quickchartButtonEl.classList.add('colab-df-spinner');\n",
              "      try {\n",
              "        const charts = await google.colab.kernel.invokeFunction(\n",
              "            'suggestCharts', [key], {});\n",
              "      } catch (error) {\n",
              "        console.error('Error during call to suggestCharts:', error);\n",
              "      }\n",
              "      quickchartButtonEl.classList.remove('colab-df-spinner');\n",
              "      quickchartButtonEl.classList.add('colab-df-quickchart-complete');\n",
              "    }\n",
              "    (() => {\n",
              "      let quickchartButtonEl =\n",
              "        document.querySelector('#df-02fd4765-777a-4acc-8dd2-4a5fd4cd3add button');\n",
              "      quickchartButtonEl.style.display =\n",
              "        google.colab.kernel.accessAllowed ? 'block' : 'none';\n",
              "    })();\n",
              "  </script>\n",
              "</div>\n",
              "\n",
              "  <div id=\"id_47ea4c38-3e23-46b7-a95e-8b18af9d05d4\">\n",
              "    <style>\n",
              "      .colab-df-generate {\n",
              "        background-color: #E8F0FE;\n",
              "        border: none;\n",
              "        border-radius: 50%;\n",
              "        cursor: pointer;\n",
              "        display: none;\n",
              "        fill: #1967D2;\n",
              "        height: 32px;\n",
              "        padding: 0 0 0 0;\n",
              "        width: 32px;\n",
              "      }\n",
              "\n",
              "      .colab-df-generate:hover {\n",
              "        background-color: #E2EBFA;\n",
              "        box-shadow: 0px 1px 2px rgba(60, 64, 67, 0.3), 0px 1px 3px 1px rgba(60, 64, 67, 0.15);\n",
              "        fill: #174EA6;\n",
              "      }\n",
              "\n",
              "      [theme=dark] .colab-df-generate {\n",
              "        background-color: #3B4455;\n",
              "        fill: #D2E3FC;\n",
              "      }\n",
              "\n",
              "      [theme=dark] .colab-df-generate:hover {\n",
              "        background-color: #434B5C;\n",
              "        box-shadow: 0px 1px 3px 1px rgba(0, 0, 0, 0.15);\n",
              "        filter: drop-shadow(0px 1px 2px rgba(0, 0, 0, 0.3));\n",
              "        fill: #FFFFFF;\n",
              "      }\n",
              "    </style>\n",
              "    <button class=\"colab-df-generate\" onclick=\"generateWithVariable('results_df')\"\n",
              "            title=\"Generate code using this dataframe.\"\n",
              "            style=\"display:none;\">\n",
              "\n",
              "  <svg xmlns=\"http://www.w3.org/2000/svg\" height=\"24px\"viewBox=\"0 0 24 24\"\n",
              "       width=\"24px\">\n",
              "    <path d=\"M7,19H8.4L18.45,9,17,7.55,7,17.6ZM5,21V16.75L18.45,3.32a2,2,0,0,1,2.83,0l1.4,1.43a1.91,1.91,0,0,1,.58,1.4,1.91,1.91,0,0,1-.58,1.4L9.25,21ZM18.45,9,17,7.55Zm-12,3A5.31,5.31,0,0,0,4.9,8.1,5.31,5.31,0,0,0,1,6.5,5.31,5.31,0,0,0,4.9,4.9,5.31,5.31,0,0,0,6.5,1,5.31,5.31,0,0,0,8.1,4.9,5.31,5.31,0,0,0,12,6.5,5.46,5.46,0,0,0,6.5,12Z\"/>\n",
              "  </svg>\n",
              "    </button>\n",
              "    <script>\n",
              "      (() => {\n",
              "      const buttonEl =\n",
              "        document.querySelector('#id_47ea4c38-3e23-46b7-a95e-8b18af9d05d4 button.colab-df-generate');\n",
              "      buttonEl.style.display =\n",
              "        google.colab.kernel.accessAllowed ? 'block' : 'none';\n",
              "\n",
              "      buttonEl.onclick = () => {\n",
              "        google.colab.notebook.generateWithVariable('results_df');\n",
              "      }\n",
              "      })();\n",
              "    </script>\n",
              "  </div>\n",
              "\n",
              "    </div>\n",
              "  </div>\n"
            ],
            "application/vnd.google.colaboratory.intrinsic+json": {
              "type": "dataframe",
              "variable_name": "results_df",
              "summary": "{\n  \"name\": \"results_df\",\n  \"rows\": 10,\n  \"fields\": [\n    {\n      \"column\": \"user_input\",\n      \"properties\": {\n        \"dtype\": \"string\",\n        \"num_unique_values\": 10,\n        \"samples\": [\n          \"Question: Based on the given context, what is the purpose of pre-training a model with a binarized next sentence prediction task, and how accurate is the final model at predicting the next sentence?\\n\\nAnswer: The purpose of pre-training a model with a binarized next sentence prediction task is to help the model understand sentence relationships, which is beneficial for Question Answering (QA) and Natural Language Inference (NLI). The final model achieves 97%-98% accuracy on the next sentence prediction task.\",\n          \"Question: According to the passage, what is the two-step framework of BERT and what happens in each step?\\n\\nAnswer: The two-step framework of BERT includes pre-training and fine-tuning. During pre-training, the model is trained on unlabeled data over different pre-training tasks. For fine-tuning, the BERT model is first initialized with the pre-trained parameters, and all of the parameters are fine-tuned using labeled data from the downstream tasks.\",\n          \"Question: Based on the context, what are the two unsupervised tasks used to pre-train BERT, and how do they differ from traditional left-to-right or right-to-left language models?\\n\\nAnswer: The two unsupervised tasks used to pre-train BERT are Masked LM and the next sentence prediction task. Masked LM is a bidirectional model, which means it can learn context from both left and right sides of a token, while traditional language models are either left-to-right or right-to-left, and can only learn context in one direction. The next sentence prediction task is also a bidirectional model, and it predicts whether two sentences follow each other in a text, while traditional language models do not consider the relationship between sentences.\"\n        ],\n        \"semantic_type\": \"\",\n        \"description\": \"\"\n      }\n    },\n    {\n      \"column\": \"retrieved_contexts\",\n      \"properties\": {\n        \"dtype\": \"object\",\n        \"semantic_type\": \"\",\n        \"description\": \"\"\n      }\n    },\n    {\n      \"column\": \"response\",\n      \"properties\": {\n        \"dtype\": \"string\",\n        \"num_unique_values\": 10,\n        \"samples\": [\n          \"The purpose of pre-training a model with a binarized next sentence prediction task is to help the model understand sentence relationships, which is beneficial for Question Answering (QA) and Natural Language Inference (NLI). The final model achieves 97%-98% accuracy on the next sentence prediction task.\",\n          \"The user's query asks about the two-step framework of BERT and what happens in each step. According to the provided context, the two-step framework of BERT includes:\\n\\n1. Pre-training: In this step, the model is trained on unlabeled data over different pre-training tasks. This helps the model learn general language understanding representations.\\n\\n2. Fine-tuning: After pre-training, the BERT model is initialized with the pre-trained parameters, and all of the parameters are fine-tuned using labeled data from the downstream tasks. Downstream tasks are specific applications or problems where the pre-trained BERT model can be applied, such as question-answering, sentiment analysis, or named entity recognition.\\n\\nIn summary, during pre-training, the model learns general language understanding on unlabeled data, and during fine-tuning, the model specializes to specific downstream tasks using labeled data.\",\n          \"The two unsupervised tasks used to pre-train BERT are Masked LM and the next sentence prediction task. Masked LM is a bidirectional model, which means it can learn context from both left and right sides of a token, while traditional language models are either left-to-right or right-to-left, and can only learn context in one direction. The next sentence prediction task is also a bidirectional model, and it predicts whether two sentences follow each other in a text, while traditional language models do not consider the relationship between sentences.\"\n        ],\n        \"semantic_type\": \"\",\n        \"description\": \"\"\n      }\n    },\n    {\n      \"column\": \"reference\",\n      \"properties\": {\n        \"dtype\": \"string\",\n        \"num_unique_values\": 10,\n        \"samples\": [\n          \"The purpose of pre-training a model with a binarized next sentence prediction task is to help the model understand sentence relationships, which is beneficial for Question Answering (QA) and Natural Language Inference (NLI). The task involves predicting whether a given sentence B follows sentence A or not, with an equal probability of 50%. The final model achieves 97%-98% accuracy on the next sentence prediction task, indicating its high effectiveness in understanding sentence relationships. However, it's important to note that the vector C, used for next sentence prediction, is not a meaningful sentence representation without fine-tuning, as it was trained specifically for the next sentence prediction task.\",\n          \"The two-step framework of BERT includes pre-training and fine-tuning. In the pre-training step, the model is trained on unlabeled data over different pre-training tasks. During fine-tuning, the BERT model is initialized with the pre-trained parameters, and all of the parameters are fine-tuned using labeled data from the downstream tasks. This allows BERT to leverage the knowledge gained from large-scale pre-training on unlabeled data and apply it to specific tasks through fine-tuning on labeled data.\",\n          \"right and right-to-left model. To test this hypothesis, we use a \\u201cmasked language modeling\\u201d task, where 15% of the input tokens are randomly chosen and replaced with a [MASK] token. The goal of the model is then to predict the original token from the context of the other non-masked tokens. This task is different from traditional language models because it is bidirectional, meaning the model can learn context from both the left and right sides of a token, while traditional models only consider context in one direction.\\n\\nTask #2: Next Sentence Prediction\\nThe second task is to predict whether two sentences follow each other in a text. Given two sentences A and B, the model is trained to predict if B follows A in the original text. For this task, 50% of the time, B follows A, and 50% of the time, a random sentence is selected. This task is different from traditional language models because it considers the relationship between sentences, while traditional models do not.\\n\\nIn summary, the two unsupervised tasks used to pre-train BERT are Masked LM and the next sentence prediction task. Masked LM is a bidirectional model, which means it can learn context from both left and right sides of a token, while traditional language models are either left-to-right or right-to-left and can only learn context in one direction. The next sentence prediction task is also a bidirectional model, and it predicts whether two sentences follow each other in a text, while traditional language models do not consider the relationship between sentences.\"\n        ],\n        \"semantic_type\": \"\",\n        \"description\": \"\"\n      }\n    },\n    {\n      \"column\": \"context_precision\",\n      \"properties\": {\n        \"dtype\": \"number\",\n        \"std\": 0.0,\n        \"min\": 0.9999999999,\n        \"max\": 0.9999999999,\n        \"num_unique_values\": 1,\n        \"samples\": [\n          0.9999999999\n        ],\n        \"semantic_type\": \"\",\n        \"description\": \"\"\n      }\n    },\n    {\n      \"column\": \"faithfulness\",\n      \"properties\": {\n        \"dtype\": \"number\",\n        \"std\": 0.3964176852454873,\n        \"min\": 0.0,\n        \"max\": 1.0,\n        \"num_unique_values\": 7,\n        \"samples\": [\n          1.0\n        ],\n        \"semantic_type\": \"\",\n        \"description\": \"\"\n      }\n    },\n    {\n      \"column\": \"answer_relevancy\",\n      \"properties\": {\n        \"dtype\": \"number\",\n        \"std\": 0.11868500872666736,\n        \"min\": 0.5567854440477883,\n        \"max\": 0.985869003371232,\n        \"num_unique_values\": 10,\n        \"samples\": [\n          0.9011974673426998\n        ],\n        \"semantic_type\": \"\",\n        \"description\": \"\"\n      }\n    },\n    {\n      \"column\": \"context_recall\",\n      \"properties\": {\n        \"dtype\": \"number\",\n        \"std\": 0.21534497159238117,\n        \"min\": 0.5,\n        \"max\": 1.0,\n        \"num_unique_values\": 4,\n        \"samples\": [\n          0.75\n        ],\n        \"semantic_type\": \"\",\n        \"description\": \"\"\n      }\n    }\n  ]\n}"
            }
          },
          "metadata": {},
          "execution_count": 57
        }
      ]
    },
    {
      "cell_type": "code",
      "source": [
        "import os\n",
        "from google.colab import userdata\n",
        "import openai\n",
        "os.environ['OPENAI_API_KEY'] = userdata.get('openai_api_key')\n",
        "openai.api_key = os.environ['OPENAI_API_KEY']"
      ],
      "metadata": {
        "id": "QKNk1v0ZXPdo"
      },
      "execution_count": 65,
      "outputs": []
    },
    {
      "cell_type": "code",
      "source": [
        "from ragas import evaluate\n",
        "\n",
        "result = evaluate(\n",
        "    eval_dataset,\n",
        "    metrics=[\n",
        "        context_precision,\n",
        "        faithfulness,\n",
        "        answer_relevancy,\n",
        "        context_recall,\n",
        "    ],\n",
        ")\n",
        "result"
      ],
      "metadata": {
        "colab": {
          "base_uri": "https://localhost:8080/",
          "height": 66,
          "referenced_widgets": [
            "67be1013170346d9846832f4c58730b7",
            "e41bc39271284d1aa1846f95e603436e",
            "af2a28859d294b1b8a67d2c08e47ad4f",
            "36ed7fac5d424901b679de58d31a56a8",
            "a9e04f4122fe4f34baa09e6882fec675",
            "419fda50bc6947129d0ce5384dcee912",
            "228383ac71f84ae186a95ec6e49256e4",
            "11e4080c01bf439691d0b2a55e882c82",
            "33ca4c48411849cabe5ca92741df7a73",
            "644ce1752e694a87ba873a77045998e6",
            "873dee30b83e4afcb7a86525f75dc591"
          ]
        },
        "id": "CyZ83qW_XY2h",
        "outputId": "c8d51473-62bf-487e-e65e-6e650548743b"
      },
      "execution_count": 66,
      "outputs": [
        {
          "output_type": "display_data",
          "data": {
            "text/plain": [
              "Evaluating:   0%|          | 0/40 [00:00<?, ?it/s]"
            ],
            "application/vnd.jupyter.widget-view+json": {
              "version_major": 2,
              "version_minor": 0,
              "model_id": "67be1013170346d9846832f4c58730b7"
            }
          },
          "metadata": {}
        },
        {
          "output_type": "execute_result",
          "data": {
            "text/plain": [
              "{'context_precision': 1.0000, 'faithfulness': 0.5850, 'answer_relevancy': 0.9095, 'context_recall': 0.8250}"
            ]
          },
          "metadata": {},
          "execution_count": 66
        }
      ]
    },
    {
      "cell_type": "markdown",
      "source": [
        "# Ragas Assessment Comparison for Naive Chunker"
      ],
      "metadata": {
        "id": "ihIhaar5VEdA"
      }
    },
    {
      "cell_type": "code",
      "source": [
        "import tqdm\n",
        "questions = []\n",
        "ground_truths_semantic = []\n",
        "contexts = []\n",
        "answers = []\n",
        "for chunk in tqdm.tqdm(synthetic_data_chunks[10:20]):\n",
        "  questions.append(question_chain.invoke({\"context\" : chunk.page_content}))\n",
        "  contexts.append([chunk.page_content])\n",
        "  ground_truths_semantic.append(grouund_truth_chain.invoke({\"question\" : questions[-1], \"context\" : contexts[-1]}))\n",
        "  answers.append(naive_rag_chain.invoke(questions[-1]))"
      ],
      "metadata": {
        "colab": {
          "base_uri": "https://localhost:8080/"
        },
        "id": "v-e8jut3U16G",
        "outputId": "b0822e1d-d014-4708-8654-4cec3cdeac4d"
      },
      "execution_count": 58,
      "outputs": [
        {
          "output_type": "stream",
          "name": "stderr",
          "text": [
            "100%|██████████| 10/10 [05:49<00:00, 34.90s/it]\n"
          ]
        }
      ]
    },
    {
      "cell_type": "code",
      "source": [
        "qagc_list = []\n",
        "\n",
        "for question, answer, context, ground_truth in zip(questions, answers, contexts, ground_truths_semantic):\n",
        "  qagc_list.append({\n",
        "      \"question\" : question,\n",
        "      \"answer\" : answer,\n",
        "      \"contexts\" : context,\n",
        "      \"ground_truth\" : ground_truth\n",
        "  })\n",
        "\n",
        "naive_eval_dataset = Dataset.from_list(qagc_list)\n",
        "naive_eval_dataset"
      ],
      "metadata": {
        "colab": {
          "base_uri": "https://localhost:8080/"
        },
        "id": "p3qQUNNWVZ-z",
        "outputId": "df38ab8d-2cbc-43f0-85ff-144d7904e0a8"
      },
      "execution_count": 59,
      "outputs": [
        {
          "output_type": "execute_result",
          "data": {
            "text/plain": [
              "Dataset({\n",
              "    features: ['question', 'answer', 'contexts', 'ground_truth'],\n",
              "    num_rows: 10\n",
              "})"
            ]
          },
          "metadata": {},
          "execution_count": 59
        }
      ]
    },
    {
      "cell_type": "code",
      "source": [
        "naive_result = evaluate(\n",
        "    naive_eval_dataset,\n",
        "    metrics=[\n",
        "        context_precision,\n",
        "        faithfulness,\n",
        "        answer_relevancy,\n",
        "        context_recall,\n",
        "    ],\n",
        "    llm = llm,\n",
        "    embeddings  = embeddings,\n",
        "    raise_exceptions = False\n",
        ")\n",
        "#\n",
        "naive_result"
      ],
      "metadata": {
        "colab": {
          "base_uri": "https://localhost:8080/",
          "height": 66,
          "referenced_widgets": [
            "1365d7adf9df484381e719c1f65009a1",
            "1a691ff4be824724a4e9f7f90facb1e8",
            "c096a38fa7194154b0889f659ffa7333",
            "004b753823df40d5a4579bf79c656357",
            "2463f5622e8c4d3fbb138cdbb74b26a1",
            "f581698d1572444eaee4c420baaf902f",
            "6194c221d78048c2bfd7b354e2e12475",
            "f173dbdb6e8a4b468a44e9163fc45b94",
            "85dbea08038a4f21b48cf0b6558a18f9",
            "438d0a09e0f8443a9ae92adebd73f8ff",
            "3f287cf4d7c6471588a53d02d813d67f"
          ]
        },
        "id": "AwV6RMDaVnX-",
        "outputId": "48deeb9e-5dd6-48db-c962-e0c21890d2cc"
      },
      "execution_count": 63,
      "outputs": [
        {
          "output_type": "display_data",
          "data": {
            "text/plain": [
              "Evaluating:   0%|          | 0/40 [00:00<?, ?it/s]"
            ],
            "application/vnd.jupyter.widget-view+json": {
              "version_major": 2,
              "version_minor": 0,
              "model_id": "1365d7adf9df484381e719c1f65009a1"
            }
          },
          "metadata": {}
        },
        {
          "output_type": "execute_result",
          "data": {
            "text/plain": [
              "{'context_precision': 1.0000, 'faithfulness': 0.5208, 'answer_relevancy': 0.7663, 'context_recall': 0.8417}"
            ]
          },
          "metadata": {},
          "execution_count": 63
        }
      ]
    },
    {
      "cell_type": "code",
      "source": [
        "naive_results_df = naive_result.to_pandas()\n",
        "naive_results_df"
      ],
      "metadata": {
        "colab": {
          "base_uri": "https://localhost:8080/",
          "height": 554
        },
        "id": "UbLYbp4FW26W",
        "outputId": "29e1b7f6-e1e1-46cd-85d4-4aaf1f18d12c"
      },
      "execution_count": 67,
      "outputs": [
        {
          "output_type": "execute_result",
          "data": {
            "text/plain": [
              "                                          user_input  \\\n",
              "0  Question: What special symbols are added to th...   \n",
              "1  Question: According to the passage, what is th...   \n",
              "2  Question: According to the passage, what is th...   \n",
              "3  Question:\\nWhy did the developers choose BERTB...   \n",
              "4  Question: Given the input representation guide...   \n",
              "5  Question: Based on the context, what are the t...   \n",
              "6  Question:\\n\\nWhat is the procedure called for ...   \n",
              "7  Question: According to the given context, what...   \n",
              "8  Question: Based on the given context, what is ...   \n",
              "9  Question: Based on the context, what are the t...   \n",
              "\n",
              "                                  retrieved_contexts  \\\n",
              "0  [BERT BERT\\nE[CLS] E1  E[SEP]... EN E1’ ... EM...   \n",
              "1  [2018; Radford et al., 2018; Dai and Le, 2015)...   \n",
              "2  [arate ﬁne-tuned models, even though they are ...   \n",
              "3  [H, and the number of self-attention heads as ...   \n",
              "4  [Input/Output Representations To make BERT\\nha...   \n",
              "5  [ding to every token indicating whether it bel...   \n",
              "6  [right and a right-to-left model. Unfortunatel...   \n",
              "7  [kens in each sequence at random. In contrast ...   \n",
              "8  [tion Answering (QA) and Natural Language Infe...   \n",
              "9  [[CLS] he likes play ##ing [SEP]my dog is cute...   \n",
              "\n",
              "                                            response  \\\n",
              "0  The special symbols added to the input example...   \n",
              "1  The two-step framework of BERT includes pre-tr...   \n",
              "2  The model architecture of BERT is a multi-laye...   \n",
              "3  The developers chose BERTBASE to have the same...   \n",
              "4  A pair of sentences in BERT's input representa...   \n",
              "5  The two unsupervised tasks used to pre-train B...   \n",
              "6  The other common name for the procedure called...   \n",
              "7  The original i-th token is kept unchanged 10% ...   \n",
              "8  The purpose of pre-training a model with a bin...   \n",
              "9  The two sources of data used for pre-training ...   \n",
              "\n",
              "                                           reference  context_precision  \\\n",
              "0  The special symbols added to the input example...                1.0   \n",
              "1  The two-step framework of BERT includes pre-tr...                1.0   \n",
              "2  According to the passage, the model architectu...                1.0   \n",
              "3  The developers chose BERTBASE to have the same...                1.0   \n",
              "4  A pair of sentences in BERT's input representa...                1.0   \n",
              "5  The two unsupervised tasks used to pre-train B...                1.0   \n",
              "6  The other common name for the procedure called...                1.0   \n",
              "7  The original i-th token is kept unchanged 10% ...                1.0   \n",
              "8  The purpose of pre-training a model with a bin...                1.0   \n",
              "9  The two sources of data used for pre-training ...                1.0   \n",
              "\n",
              "   faithfulness  answer_relevancy  context_recall  \n",
              "0      1.000000          0.855733        1.000000  \n",
              "1      0.416667          0.733429        0.750000  \n",
              "2      0.400000          0.616213        0.500000  \n",
              "3      1.000000          0.822168        0.666667  \n",
              "4      0.666667          0.612425        0.750000  \n",
              "5      0.125000          0.711801        1.000000  \n",
              "6      0.000000          0.596690        1.000000  \n",
              "7      0.500000          0.827963        1.000000  \n",
              "8      1.000000          0.901197        0.750000  \n",
              "9      0.100000          0.985869        1.000000  "
            ],
            "text/html": [
              "\n",
              "  <div id=\"df-4a3574fd-8ed5-4f15-8c15-a22a58193c1e\" class=\"colab-df-container\">\n",
              "    <div>\n",
              "<style scoped>\n",
              "    .dataframe tbody tr th:only-of-type {\n",
              "        vertical-align: middle;\n",
              "    }\n",
              "\n",
              "    .dataframe tbody tr th {\n",
              "        vertical-align: top;\n",
              "    }\n",
              "\n",
              "    .dataframe thead th {\n",
              "        text-align: right;\n",
              "    }\n",
              "</style>\n",
              "<table border=\"1\" class=\"dataframe\">\n",
              "  <thead>\n",
              "    <tr style=\"text-align: right;\">\n",
              "      <th></th>\n",
              "      <th>user_input</th>\n",
              "      <th>retrieved_contexts</th>\n",
              "      <th>response</th>\n",
              "      <th>reference</th>\n",
              "      <th>context_precision</th>\n",
              "      <th>faithfulness</th>\n",
              "      <th>answer_relevancy</th>\n",
              "      <th>context_recall</th>\n",
              "    </tr>\n",
              "  </thead>\n",
              "  <tbody>\n",
              "    <tr>\n",
              "      <th>0</th>\n",
              "      <td>Question: What special symbols are added to th...</td>\n",
              "      <td>[BERT BERT\\nE[CLS] E1  E[SEP]... EN E1’ ... EM...</td>\n",
              "      <td>The special symbols added to the input example...</td>\n",
              "      <td>The special symbols added to the input example...</td>\n",
              "      <td>1.0</td>\n",
              "      <td>1.000000</td>\n",
              "      <td>0.855733</td>\n",
              "      <td>1.000000</td>\n",
              "    </tr>\n",
              "    <tr>\n",
              "      <th>1</th>\n",
              "      <td>Question: According to the passage, what is th...</td>\n",
              "      <td>[2018; Radford et al., 2018; Dai and Le, 2015)...</td>\n",
              "      <td>The two-step framework of BERT includes pre-tr...</td>\n",
              "      <td>The two-step framework of BERT includes pre-tr...</td>\n",
              "      <td>1.0</td>\n",
              "      <td>0.416667</td>\n",
              "      <td>0.733429</td>\n",
              "      <td>0.750000</td>\n",
              "    </tr>\n",
              "    <tr>\n",
              "      <th>2</th>\n",
              "      <td>Question: According to the passage, what is th...</td>\n",
              "      <td>[arate ﬁne-tuned models, even though they are ...</td>\n",
              "      <td>The model architecture of BERT is a multi-laye...</td>\n",
              "      <td>According to the passage, the model architectu...</td>\n",
              "      <td>1.0</td>\n",
              "      <td>0.400000</td>\n",
              "      <td>0.616213</td>\n",
              "      <td>0.500000</td>\n",
              "    </tr>\n",
              "    <tr>\n",
              "      <th>3</th>\n",
              "      <td>Question:\\nWhy did the developers choose BERTB...</td>\n",
              "      <td>[H, and the number of self-attention heads as ...</td>\n",
              "      <td>The developers chose BERTBASE to have the same...</td>\n",
              "      <td>The developers chose BERTBASE to have the same...</td>\n",
              "      <td>1.0</td>\n",
              "      <td>1.000000</td>\n",
              "      <td>0.822168</td>\n",
              "      <td>0.666667</td>\n",
              "    </tr>\n",
              "    <tr>\n",
              "      <th>4</th>\n",
              "      <td>Question: Given the input representation guide...</td>\n",
              "      <td>[Input/Output Representations To make BERT\\nha...</td>\n",
              "      <td>A pair of sentences in BERT's input representa...</td>\n",
              "      <td>A pair of sentences in BERT's input representa...</td>\n",
              "      <td>1.0</td>\n",
              "      <td>0.666667</td>\n",
              "      <td>0.612425</td>\n",
              "      <td>0.750000</td>\n",
              "    </tr>\n",
              "    <tr>\n",
              "      <th>5</th>\n",
              "      <td>Question: Based on the context, what are the t...</td>\n",
              "      <td>[ding to every token indicating whether it bel...</td>\n",
              "      <td>The two unsupervised tasks used to pre-train B...</td>\n",
              "      <td>The two unsupervised tasks used to pre-train B...</td>\n",
              "      <td>1.0</td>\n",
              "      <td>0.125000</td>\n",
              "      <td>0.711801</td>\n",
              "      <td>1.000000</td>\n",
              "    </tr>\n",
              "    <tr>\n",
              "      <th>6</th>\n",
              "      <td>Question:\\n\\nWhat is the procedure called for ...</td>\n",
              "      <td>[right and a right-to-left model. Unfortunatel...</td>\n",
              "      <td>The other common name for the procedure called...</td>\n",
              "      <td>The other common name for the procedure called...</td>\n",
              "      <td>1.0</td>\n",
              "      <td>0.000000</td>\n",
              "      <td>0.596690</td>\n",
              "      <td>1.000000</td>\n",
              "    </tr>\n",
              "    <tr>\n",
              "      <th>7</th>\n",
              "      <td>Question: According to the given context, what...</td>\n",
              "      <td>[kens in each sequence at random. In contrast ...</td>\n",
              "      <td>The original i-th token is kept unchanged 10% ...</td>\n",
              "      <td>The original i-th token is kept unchanged 10% ...</td>\n",
              "      <td>1.0</td>\n",
              "      <td>0.500000</td>\n",
              "      <td>0.827963</td>\n",
              "      <td>1.000000</td>\n",
              "    </tr>\n",
              "    <tr>\n",
              "      <th>8</th>\n",
              "      <td>Question: Based on the given context, what is ...</td>\n",
              "      <td>[tion Answering (QA) and Natural Language Infe...</td>\n",
              "      <td>The purpose of pre-training a model with a bin...</td>\n",
              "      <td>The purpose of pre-training a model with a bin...</td>\n",
              "      <td>1.0</td>\n",
              "      <td>1.000000</td>\n",
              "      <td>0.901197</td>\n",
              "      <td>0.750000</td>\n",
              "    </tr>\n",
              "    <tr>\n",
              "      <th>9</th>\n",
              "      <td>Question: Based on the context, what are the t...</td>\n",
              "      <td>[[CLS] he likes play ##ing [SEP]my dog is cute...</td>\n",
              "      <td>The two sources of data used for pre-training ...</td>\n",
              "      <td>The two sources of data used for pre-training ...</td>\n",
              "      <td>1.0</td>\n",
              "      <td>0.100000</td>\n",
              "      <td>0.985869</td>\n",
              "      <td>1.000000</td>\n",
              "    </tr>\n",
              "  </tbody>\n",
              "</table>\n",
              "</div>\n",
              "    <div class=\"colab-df-buttons\">\n",
              "\n",
              "  <div class=\"colab-df-container\">\n",
              "    <button class=\"colab-df-convert\" onclick=\"convertToInteractive('df-4a3574fd-8ed5-4f15-8c15-a22a58193c1e')\"\n",
              "            title=\"Convert this dataframe to an interactive table.\"\n",
              "            style=\"display:none;\">\n",
              "\n",
              "  <svg xmlns=\"http://www.w3.org/2000/svg\" height=\"24px\" viewBox=\"0 -960 960 960\">\n",
              "    <path d=\"M120-120v-720h720v720H120Zm60-500h600v-160H180v160Zm220 220h160v-160H400v160Zm0 220h160v-160H400v160ZM180-400h160v-160H180v160Zm440 0h160v-160H620v160ZM180-180h160v-160H180v160Zm440 0h160v-160H620v160Z\"/>\n",
              "  </svg>\n",
              "    </button>\n",
              "\n",
              "  <style>\n",
              "    .colab-df-container {\n",
              "      display:flex;\n",
              "      gap: 12px;\n",
              "    }\n",
              "\n",
              "    .colab-df-convert {\n",
              "      background-color: #E8F0FE;\n",
              "      border: none;\n",
              "      border-radius: 50%;\n",
              "      cursor: pointer;\n",
              "      display: none;\n",
              "      fill: #1967D2;\n",
              "      height: 32px;\n",
              "      padding: 0 0 0 0;\n",
              "      width: 32px;\n",
              "    }\n",
              "\n",
              "    .colab-df-convert:hover {\n",
              "      background-color: #E2EBFA;\n",
              "      box-shadow: 0px 1px 2px rgba(60, 64, 67, 0.3), 0px 1px 3px 1px rgba(60, 64, 67, 0.15);\n",
              "      fill: #174EA6;\n",
              "    }\n",
              "\n",
              "    .colab-df-buttons div {\n",
              "      margin-bottom: 4px;\n",
              "    }\n",
              "\n",
              "    [theme=dark] .colab-df-convert {\n",
              "      background-color: #3B4455;\n",
              "      fill: #D2E3FC;\n",
              "    }\n",
              "\n",
              "    [theme=dark] .colab-df-convert:hover {\n",
              "      background-color: #434B5C;\n",
              "      box-shadow: 0px 1px 3px 1px rgba(0, 0, 0, 0.15);\n",
              "      filter: drop-shadow(0px 1px 2px rgba(0, 0, 0, 0.3));\n",
              "      fill: #FFFFFF;\n",
              "    }\n",
              "  </style>\n",
              "\n",
              "    <script>\n",
              "      const buttonEl =\n",
              "        document.querySelector('#df-4a3574fd-8ed5-4f15-8c15-a22a58193c1e button.colab-df-convert');\n",
              "      buttonEl.style.display =\n",
              "        google.colab.kernel.accessAllowed ? 'block' : 'none';\n",
              "\n",
              "      async function convertToInteractive(key) {\n",
              "        const element = document.querySelector('#df-4a3574fd-8ed5-4f15-8c15-a22a58193c1e');\n",
              "        const dataTable =\n",
              "          await google.colab.kernel.invokeFunction('convertToInteractive',\n",
              "                                                    [key], {});\n",
              "        if (!dataTable) return;\n",
              "\n",
              "        const docLinkHtml = 'Like what you see? Visit the ' +\n",
              "          '<a target=\"_blank\" href=https://colab.research.google.com/notebooks/data_table.ipynb>data table notebook</a>'\n",
              "          + ' to learn more about interactive tables.';\n",
              "        element.innerHTML = '';\n",
              "        dataTable['output_type'] = 'display_data';\n",
              "        await google.colab.output.renderOutput(dataTable, element);\n",
              "        const docLink = document.createElement('div');\n",
              "        docLink.innerHTML = docLinkHtml;\n",
              "        element.appendChild(docLink);\n",
              "      }\n",
              "    </script>\n",
              "  </div>\n",
              "\n",
              "\n",
              "<div id=\"df-c94fc634-6e27-4bd9-840d-3b909c659558\">\n",
              "  <button class=\"colab-df-quickchart\" onclick=\"quickchart('df-c94fc634-6e27-4bd9-840d-3b909c659558')\"\n",
              "            title=\"Suggest charts\"\n",
              "            style=\"display:none;\">\n",
              "\n",
              "<svg xmlns=\"http://www.w3.org/2000/svg\" height=\"24px\"viewBox=\"0 0 24 24\"\n",
              "     width=\"24px\">\n",
              "    <g>\n",
              "        <path d=\"M19 3H5c-1.1 0-2 .9-2 2v14c0 1.1.9 2 2 2h14c1.1 0 2-.9 2-2V5c0-1.1-.9-2-2-2zM9 17H7v-7h2v7zm4 0h-2V7h2v10zm4 0h-2v-4h2v4z\"/>\n",
              "    </g>\n",
              "</svg>\n",
              "  </button>\n",
              "\n",
              "<style>\n",
              "  .colab-df-quickchart {\n",
              "      --bg-color: #E8F0FE;\n",
              "      --fill-color: #1967D2;\n",
              "      --hover-bg-color: #E2EBFA;\n",
              "      --hover-fill-color: #174EA6;\n",
              "      --disabled-fill-color: #AAA;\n",
              "      --disabled-bg-color: #DDD;\n",
              "  }\n",
              "\n",
              "  [theme=dark] .colab-df-quickchart {\n",
              "      --bg-color: #3B4455;\n",
              "      --fill-color: #D2E3FC;\n",
              "      --hover-bg-color: #434B5C;\n",
              "      --hover-fill-color: #FFFFFF;\n",
              "      --disabled-bg-color: #3B4455;\n",
              "      --disabled-fill-color: #666;\n",
              "  }\n",
              "\n",
              "  .colab-df-quickchart {\n",
              "    background-color: var(--bg-color);\n",
              "    border: none;\n",
              "    border-radius: 50%;\n",
              "    cursor: pointer;\n",
              "    display: none;\n",
              "    fill: var(--fill-color);\n",
              "    height: 32px;\n",
              "    padding: 0;\n",
              "    width: 32px;\n",
              "  }\n",
              "\n",
              "  .colab-df-quickchart:hover {\n",
              "    background-color: var(--hover-bg-color);\n",
              "    box-shadow: 0 1px 2px rgba(60, 64, 67, 0.3), 0 1px 3px 1px rgba(60, 64, 67, 0.15);\n",
              "    fill: var(--button-hover-fill-color);\n",
              "  }\n",
              "\n",
              "  .colab-df-quickchart-complete:disabled,\n",
              "  .colab-df-quickchart-complete:disabled:hover {\n",
              "    background-color: var(--disabled-bg-color);\n",
              "    fill: var(--disabled-fill-color);\n",
              "    box-shadow: none;\n",
              "  }\n",
              "\n",
              "  .colab-df-spinner {\n",
              "    border: 2px solid var(--fill-color);\n",
              "    border-color: transparent;\n",
              "    border-bottom-color: var(--fill-color);\n",
              "    animation:\n",
              "      spin 1s steps(1) infinite;\n",
              "  }\n",
              "\n",
              "  @keyframes spin {\n",
              "    0% {\n",
              "      border-color: transparent;\n",
              "      border-bottom-color: var(--fill-color);\n",
              "      border-left-color: var(--fill-color);\n",
              "    }\n",
              "    20% {\n",
              "      border-color: transparent;\n",
              "      border-left-color: var(--fill-color);\n",
              "      border-top-color: var(--fill-color);\n",
              "    }\n",
              "    30% {\n",
              "      border-color: transparent;\n",
              "      border-left-color: var(--fill-color);\n",
              "      border-top-color: var(--fill-color);\n",
              "      border-right-color: var(--fill-color);\n",
              "    }\n",
              "    40% {\n",
              "      border-color: transparent;\n",
              "      border-right-color: var(--fill-color);\n",
              "      border-top-color: var(--fill-color);\n",
              "    }\n",
              "    60% {\n",
              "      border-color: transparent;\n",
              "      border-right-color: var(--fill-color);\n",
              "    }\n",
              "    80% {\n",
              "      border-color: transparent;\n",
              "      border-right-color: var(--fill-color);\n",
              "      border-bottom-color: var(--fill-color);\n",
              "    }\n",
              "    90% {\n",
              "      border-color: transparent;\n",
              "      border-bottom-color: var(--fill-color);\n",
              "    }\n",
              "  }\n",
              "</style>\n",
              "\n",
              "  <script>\n",
              "    async function quickchart(key) {\n",
              "      const quickchartButtonEl =\n",
              "        document.querySelector('#' + key + ' button');\n",
              "      quickchartButtonEl.disabled = true;  // To prevent multiple clicks.\n",
              "      quickchartButtonEl.classList.add('colab-df-spinner');\n",
              "      try {\n",
              "        const charts = await google.colab.kernel.invokeFunction(\n",
              "            'suggestCharts', [key], {});\n",
              "      } catch (error) {\n",
              "        console.error('Error during call to suggestCharts:', error);\n",
              "      }\n",
              "      quickchartButtonEl.classList.remove('colab-df-spinner');\n",
              "      quickchartButtonEl.classList.add('colab-df-quickchart-complete');\n",
              "    }\n",
              "    (() => {\n",
              "      let quickchartButtonEl =\n",
              "        document.querySelector('#df-c94fc634-6e27-4bd9-840d-3b909c659558 button');\n",
              "      quickchartButtonEl.style.display =\n",
              "        google.colab.kernel.accessAllowed ? 'block' : 'none';\n",
              "    })();\n",
              "  </script>\n",
              "</div>\n",
              "\n",
              "  <div id=\"id_71993042-3fca-4c0f-99a9-304f90a10c1b\">\n",
              "    <style>\n",
              "      .colab-df-generate {\n",
              "        background-color: #E8F0FE;\n",
              "        border: none;\n",
              "        border-radius: 50%;\n",
              "        cursor: pointer;\n",
              "        display: none;\n",
              "        fill: #1967D2;\n",
              "        height: 32px;\n",
              "        padding: 0 0 0 0;\n",
              "        width: 32px;\n",
              "      }\n",
              "\n",
              "      .colab-df-generate:hover {\n",
              "        background-color: #E2EBFA;\n",
              "        box-shadow: 0px 1px 2px rgba(60, 64, 67, 0.3), 0px 1px 3px 1px rgba(60, 64, 67, 0.15);\n",
              "        fill: #174EA6;\n",
              "      }\n",
              "\n",
              "      [theme=dark] .colab-df-generate {\n",
              "        background-color: #3B4455;\n",
              "        fill: #D2E3FC;\n",
              "      }\n",
              "\n",
              "      [theme=dark] .colab-df-generate:hover {\n",
              "        background-color: #434B5C;\n",
              "        box-shadow: 0px 1px 3px 1px rgba(0, 0, 0, 0.15);\n",
              "        filter: drop-shadow(0px 1px 2px rgba(0, 0, 0, 0.3));\n",
              "        fill: #FFFFFF;\n",
              "      }\n",
              "    </style>\n",
              "    <button class=\"colab-df-generate\" onclick=\"generateWithVariable('naive_results_df')\"\n",
              "            title=\"Generate code using this dataframe.\"\n",
              "            style=\"display:none;\">\n",
              "\n",
              "  <svg xmlns=\"http://www.w3.org/2000/svg\" height=\"24px\"viewBox=\"0 0 24 24\"\n",
              "       width=\"24px\">\n",
              "    <path d=\"M7,19H8.4L18.45,9,17,7.55,7,17.6ZM5,21V16.75L18.45,3.32a2,2,0,0,1,2.83,0l1.4,1.43a1.91,1.91,0,0,1,.58,1.4,1.91,1.91,0,0,1-.58,1.4L9.25,21ZM18.45,9,17,7.55Zm-12,3A5.31,5.31,0,0,0,4.9,8.1,5.31,5.31,0,0,0,1,6.5,5.31,5.31,0,0,0,4.9,4.9,5.31,5.31,0,0,0,6.5,1,5.31,5.31,0,0,0,8.1,4.9,5.31,5.31,0,0,0,12,6.5,5.46,5.46,0,0,0,6.5,12Z\"/>\n",
              "  </svg>\n",
              "    </button>\n",
              "    <script>\n",
              "      (() => {\n",
              "      const buttonEl =\n",
              "        document.querySelector('#id_71993042-3fca-4c0f-99a9-304f90a10c1b button.colab-df-generate');\n",
              "      buttonEl.style.display =\n",
              "        google.colab.kernel.accessAllowed ? 'block' : 'none';\n",
              "\n",
              "      buttonEl.onclick = () => {\n",
              "        google.colab.notebook.generateWithVariable('naive_results_df');\n",
              "      }\n",
              "      })();\n",
              "    </script>\n",
              "  </div>\n",
              "\n",
              "    </div>\n",
              "  </div>\n"
            ],
            "application/vnd.google.colaboratory.intrinsic+json": {
              "type": "dataframe",
              "variable_name": "naive_results_df",
              "summary": "{\n  \"name\": \"naive_results_df\",\n  \"rows\": 10,\n  \"fields\": [\n    {\n      \"column\": \"user_input\",\n      \"properties\": {\n        \"dtype\": \"string\",\n        \"num_unique_values\": 10,\n        \"samples\": [\n          \"Question: Based on the given context, what is the purpose of pre-training a model with a binarized next sentence prediction task, and how accurate is the final model at predicting the next sentence?\\n\\nAnswer: The purpose of pre-training a model with a binarized next sentence prediction task is to help the model understand sentence relationships, which is beneficial for Question Answering (QA) and Natural Language Inference (NLI). The final model achieves 97%-98% accuracy on the next sentence prediction task.\",\n          \"Question: According to the passage, what is the two-step framework of BERT and what happens in each step?\\n\\nAnswer: The two-step framework of BERT includes pre-training and fine-tuning. During pre-training, the model is trained on unlabeled data over different pre-training tasks. For fine-tuning, the BERT model is first initialized with the pre-trained parameters, and all of the parameters are fine-tuned using labeled data from the downstream tasks.\",\n          \"Question: Based on the context, what are the two unsupervised tasks used to pre-train BERT, and how do they differ from traditional left-to-right or right-to-left language models?\\n\\nAnswer: The two unsupervised tasks used to pre-train BERT are Masked LM and the next sentence prediction task. Masked LM is a bidirectional model, which means it can learn context from both left and right sides of a token, while traditional language models are either left-to-right or right-to-left, and can only learn context in one direction. The next sentence prediction task is also a bidirectional model, and it predicts whether two sentences follow each other in a text, while traditional language models do not consider the relationship between sentences.\"\n        ],\n        \"semantic_type\": \"\",\n        \"description\": \"\"\n      }\n    },\n    {\n      \"column\": \"retrieved_contexts\",\n      \"properties\": {\n        \"dtype\": \"object\",\n        \"semantic_type\": \"\",\n        \"description\": \"\"\n      }\n    },\n    {\n      \"column\": \"response\",\n      \"properties\": {\n        \"dtype\": \"string\",\n        \"num_unique_values\": 10,\n        \"samples\": [\n          \"The purpose of pre-training a model with a binarized next sentence prediction task is to help the model understand sentence relationships, which is beneficial for Question Answering (QA) and Natural Language Inference (NLI). The final model achieves 97%-98% accuracy on the next sentence prediction task.\",\n          \"The two-step framework of BERT includes pre-training and fine-tuning. During pre-training, the model is trained on unlabeled data over different pre-training tasks, such as Masked Language Model (MLM) and Next Sentence Prediction (NSP). For fine-tuning, the BERT model is first initialized with the pre-trained parameters, and all of the parameters are fine-tuned using labeled data from the downstream tasks. Each downstream task has separate inputs and outputs, and the token representations are fed into an output layer for token-level tasks or the [CLS] representation is fed into an output layer for classification. Fine-tuning is relatively inexpensive and can be done in at most 1 hour on a single Cloud TPU or a few hours on a GPU.\",\n          \"The two unsupervised tasks used to pre-train BERT are Masked LM and the next sentence prediction task. Masked LM is a bidirectional model, which means it can learn context from both left and right sides of a token, while traditional language models are either left-to-right or right-to-left, and can only learn context in one direction. The next sentence prediction task is also a bidirectional model, and it predicts whether two sentences follow each other in a text, while traditional language models do not consider the relationship between sentences.\"\n        ],\n        \"semantic_type\": \"\",\n        \"description\": \"\"\n      }\n    },\n    {\n      \"column\": \"reference\",\n      \"properties\": {\n        \"dtype\": \"string\",\n        \"num_unique_values\": 10,\n        \"samples\": [\n          \"The purpose of pre-training a model with a binarized next sentence prediction (NSP) task is to help the model understand sentence relationships, which is beneficial for Question Answering (QA) and Natural Language Inference (NLI). During pre-training, when selecting sentences A and B for each example, 50% of the time B is the actual next sentence that follows A (labeled as IsNext), and 50% of the time it is a random sentence from the corpus (labeled as NotNext). The final model achieves 97%-98% accuracy on the NSP task, demonstrating its effectiveness in understanding sentence relationships. However, it's important to note that the vector C, used for NSP, is not a meaningful sentence representation without fine-tuning, as it was specifically trained for the NSP task.\",\n          \"The two-step framework of BERT includes pre-training and fine-tuning. During pre-training, the model is trained on unlabeled data over different pre-training tasks. For fine-tuning, the BERT model is first initialized with the pre-trained parameters, and all of the parameters are fine-tuned using labeled data from the downstream tasks. This is stated in the provided context: \\\"We introduce BERT and its detailed implementation in this section. There are two steps in our framework: pre-training and \\ufb01ne-tuning. Dur\\\\-ing pre-training, the model is trained on unlabeled data over different pre-training tasks. For \\ufb01ne-\\\\ntuning, the BERT model is \\ufb01rst initialized with the pre-trained parameters, and all of the parameters are \\ufb01ne-tuned using labeled data from the downstream tasks.\\\"\",\n          \"The two unsupervised tasks used to pre-train BERT are Masked LM and the next sentence prediction task. Masked LM differs from traditional left-to-right or right-to-left language models as it is a bidirectional model, meaning it can learn context from both left and right sides of a token, while traditional language models can only learn context in one direction. The next sentence prediction task is also a bidirectional model, and it predicts whether two sentences follow each other in a text, while traditional language models do not consider the relationship between sentences.\"\n        ],\n        \"semantic_type\": \"\",\n        \"description\": \"\"\n      }\n    },\n    {\n      \"column\": \"context_precision\",\n      \"properties\": {\n        \"dtype\": \"number\",\n        \"std\": 0.0,\n        \"min\": 0.9999999999,\n        \"max\": 0.9999999999,\n        \"num_unique_values\": 1,\n        \"samples\": [\n          0.9999999999\n        ],\n        \"semantic_type\": \"\",\n        \"description\": \"\"\n      }\n    },\n    {\n      \"column\": \"faithfulness\",\n      \"properties\": {\n        \"dtype\": \"number\",\n        \"std\": 0.3860061807859277,\n        \"min\": 0.0,\n        \"max\": 1.0,\n        \"num_unique_values\": 8,\n        \"samples\": [\n          0.4166666666666667\n        ],\n        \"semantic_type\": \"\",\n        \"description\": \"\"\n      }\n    },\n    {\n      \"column\": \"answer_relevancy\",\n      \"properties\": {\n        \"dtype\": \"number\",\n        \"std\": 0.13347982228502125,\n        \"min\": 0.5966895274924066,\n        \"max\": 0.985869003371232,\n        \"num_unique_values\": 10,\n        \"samples\": [\n          0.9011974673426998\n        ],\n        \"semantic_type\": \"\",\n        \"description\": \"\"\n      }\n    },\n    {\n      \"column\": \"context_recall\",\n      \"properties\": {\n        \"dtype\": \"number\",\n        \"std\": 0.18193914326458685,\n        \"min\": 0.5,\n        \"max\": 1.0,\n        \"num_unique_values\": 4,\n        \"samples\": [\n          0.75\n        ],\n        \"semantic_type\": \"\",\n        \"description\": \"\"\n      }\n    }\n  ]\n}"
            }
          },
          "metadata": {},
          "execution_count": 67
        }
      ]
    },
    {
      "cell_type": "code",
      "source": [],
      "metadata": {
        "id": "Hik45SW0Xsbc"
      },
      "execution_count": null,
      "outputs": []
    }
  ]
}